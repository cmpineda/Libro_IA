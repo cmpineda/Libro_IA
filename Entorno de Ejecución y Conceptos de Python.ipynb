{
 "cells": [
  {
   "cell_type": "markdown",
   "id": "859226af",
   "metadata": {},
   "source": [
    "# CAPITULO 1: ENTORNO DE DESARROLLO Y CONCEPTOS BÁSICOS DE PYTHON"
   ]
  },
  {
   "cell_type": "markdown",
   "id": "8a488ae5",
   "metadata": {},
   "source": [
    "## 1.1\tEntorno de desarrollo y primer programa"
   ]
  },
  {
   "cell_type": "code",
   "execution_count": 1,
   "id": "113755c0",
   "metadata": {},
   "outputs": [
    {
     "name": "stdout",
     "output_type": "stream",
     "text": [
      "Hola Mundo\n"
     ]
    }
   ],
   "source": [
    "print(\"Hola Mundo\")"
   ]
  },
  {
   "cell_type": "code",
   "execution_count": 4,
   "id": "ddb50787",
   "metadata": {},
   "outputs": [
    {
     "name": "stdout",
     "output_type": "stream",
     "text": [
      "3.9.12 (main, Apr  4 2022, 05:22:27) [MSC v.1916 64 bit (AMD64)]\n"
     ]
    }
   ],
   "source": [
    "import sys\n",
    "print(sys.version)"
   ]
  },
  {
   "cell_type": "code",
   "execution_count": 20,
   "id": "3158bd24",
   "metadata": {},
   "outputs": [
    {
     "name": "stdout",
     "output_type": "stream",
     "text": [
      "El coseno de 2π es: 1.0\n"
     ]
    }
   ],
   "source": [
    "from math import cos,pi\n",
    "print(\"El coseno de 2π es:\" , cos(2*pi))"
   ]
  },
  {
   "cell_type": "code",
   "execution_count": 21,
   "id": "eab80474",
   "metadata": {},
   "outputs": [
    {
     "name": "stdout",
     "output_type": "stream",
     "text": [
      "Collecting django\n",
      "  Downloading Django-4.1.3-py3-none-any.whl (8.1 MB)\n",
      "Collecting sqlparse>=0.2.2\n",
      "  Downloading sqlparse-0.4.3-py3-none-any.whl (42 kB)\n",
      "Collecting tzdata\n",
      "  Using cached tzdata-2022.6-py2.py3-none-any.whl (338 kB)\n",
      "Collecting asgiref<4,>=3.5.2\n",
      "  Downloading asgiref-3.5.2-py3-none-any.whl (22 kB)\n",
      "Installing collected packages: tzdata, sqlparse, asgiref, django\n",
      "Successfully installed asgiref-3.5.2 django-4.1.3 sqlparse-0.4.3 tzdata-2022.6\n",
      "Note: you may need to restart the kernel to use updated packages.\n"
     ]
    }
   ],
   "source": [
    "pip install django"
   ]
  },
  {
   "cell_type": "code",
   "execution_count": 24,
   "id": "529c3ad6",
   "metadata": {},
   "outputs": [],
   "source": [
    "import django"
   ]
  },
  {
   "cell_type": "code",
   "execution_count": 27,
   "id": "3e492cbc",
   "metadata": {},
   "outputs": [
    {
     "data": {
      "text/plain": [
       "'4.1.3'"
      ]
     },
     "execution_count": 27,
     "metadata": {},
     "output_type": "execute_result"
    }
   ],
   "source": [
    "django.__version__"
   ]
  },
  {
   "cell_type": "code",
   "execution_count": 28,
   "id": "babc00c7",
   "metadata": {},
   "outputs": [
    {
     "name": "stdout",
     "output_type": "stream",
     "text": [
      "Requirement already satisfied: django in c:\\users\\carlos pineda\\anaconda3\\lib\\site-packages (4.1.3)\n",
      "Requirement already satisfied: tzdata in c:\\users\\carlos pineda\\anaconda3\\lib\\site-packages (from django) (2022.6)\n",
      "Requirement already satisfied: asgiref<4,>=3.5.2 in c:\\users\\carlos pineda\\anaconda3\\lib\\site-packages (from django) (3.5.2)\n",
      "Requirement already satisfied: sqlparse>=0.2.2 in c:\\users\\carlos pineda\\anaconda3\\lib\\site-packages (from django) (0.4.3)\n",
      "Note: you may need to restart the kernel to use updated packages.\n"
     ]
    }
   ],
   "source": [
    "pip install django --upgrade"
   ]
  },
  {
   "cell_type": "markdown",
   "id": "8727c2cc",
   "metadata": {},
   "source": [
    "## 1.2\tVariables, tipos de datos y operadores"
   ]
  },
  {
   "cell_type": "code",
   "execution_count": 1,
   "id": "6d972127",
   "metadata": {},
   "outputs": [],
   "source": [
    "edad = 35"
   ]
  },
  {
   "cell_type": "code",
   "execution_count": 3,
   "id": "f217ee32",
   "metadata": {},
   "outputs": [
    {
     "name": "stdout",
     "output_type": "stream",
     "text": [
      "35\n"
     ]
    }
   ],
   "source": [
    "print(edad)"
   ]
  },
  {
   "cell_type": "code",
   "execution_count": 4,
   "id": "1f58a082",
   "metadata": {},
   "outputs": [
    {
     "data": {
      "text/plain": [
       "int"
      ]
     },
     "execution_count": 4,
     "metadata": {},
     "output_type": "execute_result"
    }
   ],
   "source": [
    "type(edad)"
   ]
  },
  {
   "cell_type": "code",
   "execution_count": 9,
   "id": "fe7b7dfc",
   "metadata": {},
   "outputs": [],
   "source": [
    "edad = \"35\""
   ]
  },
  {
   "cell_type": "code",
   "execution_count": 1,
   "id": "a7e53340",
   "metadata": {},
   "outputs": [
    {
     "ename": "NameError",
     "evalue": "name 'edad' is not defined",
     "output_type": "error",
     "traceback": [
      "\u001b[1;31m---------------------------------------------------------------------------\u001b[0m",
      "\u001b[1;31mNameError\u001b[0m                                 Traceback (most recent call last)",
      "Input \u001b[1;32mIn [1]\u001b[0m, in \u001b[0;36m<cell line: 1>\u001b[1;34m()\u001b[0m\n\u001b[1;32m----> 1\u001b[0m \u001b[38;5;28mtype\u001b[39m(\u001b[43medad\u001b[49m)\n",
      "\u001b[1;31mNameError\u001b[0m: name 'edad' is not defined"
     ]
    }
   ],
   "source": [
    "type(edad)"
   ]
  },
  {
   "cell_type": "markdown",
   "id": "e7ac8231",
   "metadata": {},
   "source": [
    "### Enteros"
   ]
  },
  {
   "cell_type": "code",
   "execution_count": 15,
   "id": "3c88a15b",
   "metadata": {},
   "outputs": [
    {
     "name": "stdout",
     "output_type": "stream",
     "text": [
      "Suma: 8\n",
      "Resta:  2\n",
      "Multiplicación:  15\n",
      "División:  1.6666666666666667\n",
      "División entera:  1\n",
      "Residuo:  2\n",
      "Exponenciación:  125\n"
     ]
    }
   ],
   "source": [
    "a = 5\n",
    "b = 3 \n",
    "print(\"Suma:\", a + b) #8\n",
    "print(\"Resta: \", a - b) #2\n",
    "print(\"Multiplicación: \", a * b) #15\n",
    "print(\"División: \", a / b) # 1.666\n",
    "print(\"División entera: \", a // b) # 1 (redondea hacia abajo el entero más cercano)\n",
    "print(\"Residuo: \", a % b) # 2\n",
    "print(\"Exponenciación: \", a ** b) # 125"
   ]
  },
  {
   "cell_type": "markdown",
   "id": "f26f2301",
   "metadata": {},
   "source": [
    "### Booleanos"
   ]
  },
  {
   "cell_type": "code",
   "execution_count": 16,
   "id": "23e6f0e6",
   "metadata": {},
   "outputs": [
    {
     "data": {
      "text/plain": [
       "True"
      ]
     },
     "execution_count": 16,
     "metadata": {},
     "output_type": "execute_result"
    }
   ],
   "source": [
    "a = True\n",
    "b = False\n",
    "c = not (a and b)\n",
    "c # true"
   ]
  },
  {
   "cell_type": "code",
   "execution_count": 17,
   "id": "faad0438",
   "metadata": {},
   "outputs": [
    {
     "data": {
      "text/plain": [
       "2"
      ]
     },
     "execution_count": 17,
     "metadata": {},
     "output_type": "execute_result"
    }
   ],
   "source": [
    "d = c + 1\n",
    "d # 2"
   ]
  },
  {
   "cell_type": "markdown",
   "id": "a02a42d8",
   "metadata": {},
   "source": [
    "### Números reales"
   ]
  },
  {
   "cell_type": "code",
   "execution_count": 21,
   "id": "6c961ab4",
   "metadata": {},
   "outputs": [
    {
     "data": {
      "text/plain": [
       "float"
      ]
     },
     "execution_count": 21,
     "metadata": {},
     "output_type": "execute_result"
    }
   ],
   "source": [
    "estatura = 1.84\n",
    "type(estatura)"
   ]
  },
  {
   "cell_type": "code",
   "execution_count": 10,
   "id": "84b4135e",
   "metadata": {},
   "outputs": [
    {
     "data": {
      "text/plain": [
       "(4.5+3j)"
      ]
     },
     "execution_count": 10,
     "metadata": {},
     "output_type": "execute_result"
    }
   ],
   "source": [
    "comp = 1.5 + 3j\n",
    "comp += 3\n",
    "comp"
   ]
  },
  {
   "cell_type": "markdown",
   "id": "c3732435",
   "metadata": {},
   "source": [
    "### Cadenas de caracteres"
   ]
  },
  {
   "cell_type": "code",
   "execution_count": 29,
   "id": "28cd32ba",
   "metadata": {},
   "outputs": [
    {
     "name": "stdout",
     "output_type": "stream",
     "text": [
      "N\n",
      "y\n",
      "No hay\n",
      " medicina que cure lo que no cura la felicidad\n",
      " medicina\n",
      "No hay medicina que cure lo que no cura la felicidad\n"
     ]
    }
   ],
   "source": [
    "s = \"No hay medicina que cure lo que no cura la felicidad\" \n",
    "print(s[0]) # indexing en la posicion 0, Letra 'N'\n",
    "print(s[5]) # indexing en la posicion 5, Letra 'y' \n",
    "print(s[:6]) # slicing, se especifica la posición de fin 'No hay' \n",
    "print(s[6:]) # slicing, Se especifica la posición de inicio\n",
    "print(s[6:15]) # slicing, Se especifica la posición de inicio y fin\n",
    "print(s[:]) # copia de la cadena s\n"
   ]
  },
  {
   "cell_type": "code",
   "execution_count": 36,
   "id": "e0b96831",
   "metadata": {},
   "outputs": [
    {
     "data": {
      "text/plain": [
       "'Hola! mi nombre es Carlos y me gusta el lenguaje Python'"
      ]
     },
     "execution_count": 36,
     "metadata": {},
     "output_type": "execute_result"
    }
   ],
   "source": [
    "nombre = 'Carlos' \n",
    "lenguaje = 'Python'\n",
    "f\"Hola! mi nombre es {nombre} y me gusta el lenguaje {lenguaje}\""
   ]
  },
  {
   "cell_type": "markdown",
   "id": "14771609",
   "metadata": {},
   "source": [
    "## 1.3 Estructuras de datos"
   ]
  },
  {
   "cell_type": "markdown",
   "id": "feab75bc",
   "metadata": {},
   "source": [
    "### Tuplas"
   ]
  },
  {
   "cell_type": "code",
   "execution_count": 10,
   "id": "dc3e051a",
   "metadata": {},
   "outputs": [
    {
     "name": "stdout",
     "output_type": "stream",
     "text": [
      "<class 'tuple'>\n",
      "(6, 7, 8, 9, 10)\n",
      "1 2 3\n"
     ]
    }
   ],
   "source": [
    "tupla = () # tupla vacía\n",
    "print(type(tupla))\n",
    "tupla2 = (6, 7, 8, 9, 10) # tupla con 5 elementos separados por coma \n",
    "print(tupla2)\n",
    "a, b, c = 1, 2, 3 # otra forma de crear una tupla\n",
    "print(a, b, c)  #(1, 2, 3) "
   ]
  },
  {
   "cell_type": "markdown",
   "id": "d56cc291",
   "metadata": {},
   "source": [
    "### Listas"
   ]
  },
  {
   "cell_type": "code",
   "execution_count": 5,
   "id": "af30928b",
   "metadata": {},
   "outputs": [
    {
     "name": "stdout",
     "output_type": "stream",
     "text": [
      "[]\n",
      "[1, 2, 3]\n",
      "[1, 3, 5, 7, 9]\n",
      "['h', 'e', 'l', 'l', 'o']\n"
     ]
    }
   ],
   "source": [
    "[] #  lista vacía [] \n",
    "print(list())\n",
    "print([1, 2, 3]) # como las tuplas, con los elementos separados por comas\n",
    "print(list((1, 3, 5, 7, 9))) # lista formada a partir de una tupla\n",
    "print(list('hello')) # lista formada a partir de un string"
   ]
  },
  {
   "cell_type": "code",
   "execution_count": 6,
   "id": "d49701b8",
   "metadata": {},
   "outputs": [
    {
     "data": {
      "text/plain": [
       "['__add__',\n",
       " '__class__',\n",
       " '__class_getitem__',\n",
       " '__contains__',\n",
       " '__delattr__',\n",
       " '__delitem__',\n",
       " '__dir__',\n",
       " '__doc__',\n",
       " '__eq__',\n",
       " '__format__',\n",
       " '__ge__',\n",
       " '__getattribute__',\n",
       " '__getitem__',\n",
       " '__gt__',\n",
       " '__hash__',\n",
       " '__iadd__',\n",
       " '__imul__',\n",
       " '__init__',\n",
       " '__init_subclass__',\n",
       " '__iter__',\n",
       " '__le__',\n",
       " '__len__',\n",
       " '__lt__',\n",
       " '__mul__',\n",
       " '__ne__',\n",
       " '__new__',\n",
       " '__reduce__',\n",
       " '__reduce_ex__',\n",
       " '__repr__',\n",
       " '__reversed__',\n",
       " '__rmul__',\n",
       " '__setattr__',\n",
       " '__setitem__',\n",
       " '__sizeof__',\n",
       " '__str__',\n",
       " '__subclasshook__',\n",
       " 'append',\n",
       " 'clear',\n",
       " 'copy',\n",
       " 'count',\n",
       " 'extend',\n",
       " 'index',\n",
       " 'insert',\n",
       " 'pop',\n",
       " 'remove',\n",
       " 'reverse',\n",
       " 'sort']"
      ]
     },
     "execution_count": 6,
     "metadata": {},
     "output_type": "execute_result"
    }
   ],
   "source": [
    "dir(list)"
   ]
  },
  {
   "cell_type": "code",
   "execution_count": 21,
   "id": "2f0ebc94",
   "metadata": {},
   "outputs": [
    {
     "name": "stdout",
     "output_type": "stream",
     "text": [
      "[1, 2, 3, 4, 5]\n",
      "Cuantos 6 hay: 1\n",
      "[1, 2, 3, 4, 5, 6, 7, 8, 9, 10]\n",
      "La posición de 5 es: 4\n"
     ]
    }
   ],
   "source": [
    "lista = [1, 2, 3, 4] \n",
    "lista.append(5) # adicionamos un nuevo elemento a la lista\n",
    "print(lista)\n",
    "lista2 = [6, 7, 8, 9, 10] \n",
    "print(\"Cuantos 6 hay:\", lista2.count(6)) # obtiene cuantas veces aparece el 6 (devuelve 1)\n",
    "lista.extend(lista2) # ampliamos la lista con los elementos de lista2\n",
    "print(lista)\n",
    "print(\"La posición de 5 es:\" , lista.index(5)) # obtiene la posición del elemento 5, devuelve 4 "
   ]
  },
  {
   "cell_type": "code",
   "execution_count": 25,
   "id": "1a99bcb4",
   "metadata": {},
   "outputs": [
    {
     "name": "stdout",
     "output_type": "stream",
     "text": [
      "6\n",
      "6\n"
     ]
    }
   ],
   "source": [
    "print(lista[5]) # 6\n",
    "print(lista[-5]) # 6"
   ]
  },
  {
   "cell_type": "code",
   "execution_count": 12,
   "id": "b2fa7162",
   "metadata": {},
   "outputs": [
    {
     "name": "stdout",
     "output_type": "stream",
     "text": [
      "[0, 1, 2, 3, 4, 5, 6, 7, 8, 9, 10]\n",
      "La lista final es:  [0, 2, 4, 5, 6, 7, 8, 9]\n",
      "Longitud de la lista es:  8\n"
     ]
    }
   ],
   "source": [
    "lista.insert(0, 0) # inserta '0' en la posición 0\n",
    "print(lista)\n",
    "lista.pop() # quita y devuelve el último elemento \n",
    "lista.pop(3) # remueve el elemento de la posición 3\n",
    "elemento = lista.remove(1)\n",
    "print(\"La lista final es: \", lista)\n",
    "print(\"Longitud de la lista es: \", len(lista)) # conocer la longitud de la lista con len()"
   ]
  },
  {
   "cell_type": "code",
   "execution_count": 9,
   "id": "4b7fdcea",
   "metadata": {},
   "outputs": [
    {
     "name": "stdout",
     "output_type": "stream",
     "text": [
      "[9, 8, 7, 6, 5, 4, 2, 0]\n",
      "[0, 2, 4, 5, 6, 7, 8, 9]\n",
      "El mínimo es:  0\n",
      "El máximo es:  9\n",
      "La suma de los elementos es: 41\n"
     ]
    }
   ],
   "source": [
    "lista.reverse() # invierte el orden de los elementos\n",
    "print(lista)\n",
    "lista.sort() # ordena la lista\n",
    "print(lista)\n",
    "print(\"El mínimo es: \", min(lista)) # Devuelve el valor mínimo\n",
    "print(\"El máximo es: \", max(lista)) # Devuelve el valo máximo\n",
    "print(\"La suma de los elementos es:\" , sum(lista)) # suma todos los valores"
   ]
  },
  {
   "cell_type": "code",
   "execution_count": 37,
   "id": "cd5a4138",
   "metadata": {},
   "outputs": [
    {
     "name": "stdout",
     "output_type": "stream",
     "text": [
      "['Python', 'Java', 'PHP']\n",
      "['Python', 'Java', 'PHP']\n",
      "['Javascript', 'C#', 'HTML', 'Visual Basic', '.NET', 'C++', 'Go']\n",
      "['C++', 'Go']\n",
      "['Python', 'Java', 'PHP', 'Javascript', 'C#', 'HTML', 'Visual Basic', '.NET']\n",
      "['Go', 'C++', '.NET', 'Visual Basic', 'HTML', 'C#', 'Javascript', 'PHP', 'Java', 'Python']\n"
     ]
    }
   ],
   "source": [
    "lenguajes = [\"Python\",\"Java\", \"PHP\", \"Javascript\", \"C#\", \"HTML\", \"Visual Basic\", \".NET\", \"C++\", \"Go\"]\n",
    "print(lenguajes[0:3]) # elementos con los índices 0, 1 y 2\n",
    "print(lenguajes[:3]) # Hace lo mismo que el anterior, sino se coloca inicio asume que es 0\n",
    "print(lenguajes[3:]) # Devuelve desde el 3 hasta el final\n",
    "print(lenguajes[-2:]) # Devuelve los últimos 2 elementos\n",
    "print(lenguajes[:-2]) # Devuelve desde el inicio sin los últimos 2 elementos\n",
    "print(lenguajes[::-1]) # Devuelve la lista invertida"
   ]
  },
  {
   "cell_type": "code",
   "execution_count": 27,
   "id": "90fc23fd",
   "metadata": {},
   "outputs": [
    {
     "name": "stdout",
     "output_type": "stream",
     "text": [
      "[10, 9, 8, 7, 6, 5, 4, 3, 2, 1]\n"
     ]
    }
   ],
   "source": [
    "print(lista[::-1])"
   ]
  },
  {
   "cell_type": "markdown",
   "id": "39a33ea8",
   "metadata": {},
   "source": [
    "### Diccionarios"
   ]
  },
  {
   "cell_type": "code",
   "execution_count": 44,
   "id": "0b0bdc98",
   "metadata": {},
   "outputs": [
    {
     "name": "stdout",
     "output_type": "stream",
     "text": [
      "{'a': 1, 'b': 2}\n",
      "Cuantas parejas:  2\n",
      "Obtener Valor asociado a la clave a:  1\n",
      "{'b': 2, 'c': 3}\n"
     ]
    }
   ],
   "source": [
    "dic = {} \n",
    "dic['a'] = 1 # pareja a = 1\n",
    "dic['b'] = 2 # pareja b = 2\n",
    "print(dic)\n",
    "print(\"Cuantas parejas: \" , len(dic)) # resultado 2\n",
    "print(\"Obtener Valor asociado a la clave a: \", dic['a']) \n",
    "del dic['a'] # remover valor de a\n",
    "dic['c'] = 3 # adicionar la pareja c=3\n",
    "print(dic)\n",
    "dic.clear() # vaciar el diccionario"
   ]
  },
  {
   "cell_type": "code",
   "execution_count": 50,
   "id": "1b1e1533",
   "metadata": {},
   "outputs": [
    {
     "name": "stdout",
     "output_type": "stream",
     "text": [
      "{0: 'P', 1: 'y', 2: 't', 3: 'h', 4: 'o', 5: 'n'}\n",
      "dict_keys([0, 1, 2, 3, 4, 5])\n",
      "dict_values(['P', 'y', 't', 'h', 'o', 'n'])\n",
      "dict_items([(0, 'P'), (1, 'y'), (2, 't'), (3, 'h'), (4, 'o'), (5, 'n')])\n"
     ]
    },
    {
     "data": {
      "text/plain": [
       "True"
      ]
     },
     "execution_count": 50,
     "metadata": {},
     "output_type": "execute_result"
    }
   ],
   "source": [
    "d = dict(zip(range(6), 'Python')) \n",
    "print(d)\n",
    "print(d.keys() )\n",
    "print(d.values())\n",
    "print(d.items()) \n",
    "'P' in d.values()"
   ]
  },
  {
   "cell_type": "markdown",
   "id": "b279e126",
   "metadata": {},
   "source": [
    "## 1.4 Estructuras selectivas"
   ]
  },
  {
   "cell_type": "markdown",
   "id": "bb7cf289",
   "metadata": {},
   "source": [
    "### Sentencia if"
   ]
  },
  {
   "cell_type": "code",
   "execution_count": 7,
   "id": "354e5d51",
   "metadata": {},
   "outputs": [
    {
     "name": "stdout",
     "output_type": "stream",
     "text": [
      "Eres un estudioso\n"
     ]
    }
   ],
   "source": [
    "estudias = True\n",
    "if estudias:\n",
    "   print(\"Eres un estudioso\")"
   ]
  },
  {
   "cell_type": "markdown",
   "id": "965df725",
   "metadata": {},
   "source": [
    "### Sentencia if...else"
   ]
  },
  {
   "cell_type": "code",
   "execution_count": 5,
   "id": "48ff4c8f",
   "metadata": {},
   "outputs": [
    {
     "name": "stdout",
     "output_type": "stream",
     "text": [
      "Asignatura Aprobada\n"
     ]
    }
   ],
   "source": [
    "promedio = 3.5\n",
    "if promedio >= 3:\n",
    "   print(\"Asignatura Aprobada\")\n",
    "else:\n",
    "   print(\"Asignatura no aprobada\")"
   ]
  },
  {
   "cell_type": "markdown",
   "id": "7b354eee",
   "metadata": {},
   "source": [
    "### Sentencia if...elif...else"
   ]
  },
  {
   "cell_type": "code",
   "execution_count": 14,
   "id": "70a13de0",
   "metadata": {},
   "outputs": [
    {
     "name": "stdout",
     "output_type": "stream",
     "text": [
      "El impuesto a cobrar es de: $300000.0 \n"
     ]
    }
   ],
   "source": [
    "ingreso = 1500000\n",
    "if ingreso <= 1000000: \n",
    "    impuesto = 0.0 #1 \n",
    "elif ingreso > 1000000 and ingreso <= 2000000: \n",
    "    impuesto = 0.2 #2 \n",
    "elif ingreso > 2000000 and ingreso <= 3000000: \n",
    "    impuesto = 0.35 #3 \n",
    "else: \n",
    "    impuesto = 0.5 #4 \n",
    "print(f'El impuesto a cobrar es de: ${ingreso * impuesto} ')"
   ]
  },
  {
   "cell_type": "markdown",
   "id": "10b212ca",
   "metadata": {},
   "source": [
    "### Operador ternario"
   ]
  },
  {
   "cell_type": "code",
   "execution_count": 23,
   "id": "e8374d54",
   "metadata": {},
   "outputs": [
    {
     "name": "stdout",
     "output_type": "stream",
     "text": [
      "descuento=10000.0\n"
     ]
    }
   ],
   "source": [
    "total_venta = 100000 \n",
    "descuento = total_venta * 0.10 if total_venta >= 100000 else 0\n",
    "print(f'{descuento=}') # f-string para mostrar el nombre de la variable y su valor"
   ]
  },
  {
   "cell_type": "markdown",
   "id": "f95757ac",
   "metadata": {},
   "source": [
    "## 1.5 Estructuras repetitivas"
   ]
  },
  {
   "cell_type": "markdown",
   "id": "c50eedbe",
   "metadata": {},
   "source": [
    "### Ciclo for"
   ]
  },
  {
   "cell_type": "code",
   "execution_count": 24,
   "id": "9f262b95",
   "metadata": {},
   "outputs": [
    {
     "name": "stdout",
     "output_type": "stream",
     "text": [
      "5\n",
      "29\n",
      "35\n",
      "68\n",
      "75\n"
     ]
    }
   ],
   "source": [
    "# iterando sobre una lista\n",
    "edades = [5, 29, 35, 68, 75]\n",
    "for e in edades: \n",
    "    print(e) "
   ]
  },
  {
   "cell_type": "code",
   "execution_count": 25,
   "id": "9866bc24",
   "metadata": {},
   "outputs": [
    {
     "name": "stdout",
     "output_type": "stream",
     "text": [
      "0\n",
      "1\n",
      "2\n",
      "3\n",
      "4\n"
     ]
    }
   ],
   "source": [
    "# iterando sobre un rango\n",
    "for n in range(5): \n",
    "    print(n)"
   ]
  },
  {
   "cell_type": "code",
   "execution_count": 29,
   "id": "5abb499f",
   "metadata": {},
   "outputs": [
    {
     "name": "stdout",
     "output_type": "stream",
     "text": [
      "0 Kate\n",
      "1 Luciana\n",
      "2 Dylan\n",
      "3 Carlos\n"
     ]
    }
   ],
   "source": [
    "# iterando sobre una secuencia\n",
    "nombres = ['Kate', 'Luciana', 'Dylan', 'Carlos'] \n",
    "for p in range(len(nombres)): \n",
    "    print(p, nombres[p])"
   ]
  },
  {
   "cell_type": "code",
   "execution_count": 30,
   "id": "1288e0da",
   "metadata": {},
   "outputs": [
    {
     "name": "stdout",
     "output_type": "stream",
     "text": [
      "0 Kate\n",
      "1 Luciana\n",
      "2 Dylan\n",
      "3 Carlos\n"
     ]
    }
   ],
   "source": [
    "# iterando sobre una enumeración\n",
    "nombres = ['Kate', 'Luciana', 'Dylan', 'Carlos'] \n",
    "for p, nom in enumerate(nombres): \n",
    "    print(p, nom)"
   ]
  },
  {
   "cell_type": "code",
   "execution_count": 31,
   "id": "1c214b19",
   "metadata": {},
   "outputs": [
    {
     "name": "stdout",
     "output_type": "stream",
     "text": [
      "Kate 29\n",
      "Luciana 5\n",
      "Dylan 1\n",
      "Carlos 35\n"
     ]
    }
   ],
   "source": [
    "#iterando sobre un iterable\n",
    "nombres = ['Kate', 'Luciana', 'Dylan', 'Carlos'] \n",
    "edades = [29, 5, 1, 35] \n",
    "for n, e in zip(nombres, edades): \n",
    "    print(n, e)"
   ]
  },
  {
   "cell_type": "markdown",
   "id": "71ad6289",
   "metadata": {},
   "source": [
    "### Ciclo while"
   ]
  },
  {
   "cell_type": "code",
   "execution_count": 36,
   "id": "2d8928cc",
   "metadata": {},
   "outputs": [
    {
     "name": "stdout",
     "output_type": "stream",
     "text": [
      "[1, 0, 1, 0]\n"
     ]
    }
   ],
   "source": [
    "n = 10 \n",
    "residuos = [] \n",
    "while n > 0: \n",
    "     residuo = n % 2 # residuo de la división por 2 \n",
    "     residuos.append(residuo) # se guarda los residuos en la lista\n",
    "     n //= 2 # dividimos n entre 2 \n",
    "residuos.reverse() \n",
    "print(residuos)"
   ]
  },
  {
   "cell_type": "markdown",
   "id": "37667921",
   "metadata": {},
   "source": [
    "## 1.6 Funciones"
   ]
  },
  {
   "cell_type": "code",
   "execution_count": 37,
   "id": "8abf5387",
   "metadata": {},
   "outputs": [
    {
     "name": "stdout",
     "output_type": "stream",
     "text": [
      "Hola Carlos\n"
     ]
    }
   ],
   "source": [
    "def saludo(nom):\n",
    "    print(\"Hola\", nom)\n",
    "    \n",
    "saludo(\"Carlos\") # invocamos a la función"
   ]
  },
  {
   "cell_type": "code",
   "execution_count": 40,
   "id": "cc79942f",
   "metadata": {},
   "outputs": [],
   "source": [
    "def operaciones(a, b):\n",
    "    return (a+b, a-b, a*b, a/b)"
   ]
  },
  {
   "cell_type": "code",
   "execution_count": 44,
   "id": "42082107",
   "metadata": {},
   "outputs": [
    {
     "data": {
      "text/plain": [
       "(11, -1, 30, 0.8333333333333334)"
      ]
     },
     "execution_count": 44,
     "metadata": {},
     "output_type": "execute_result"
    }
   ],
   "source": [
    "operaciones(5,6) # invocamos la función"
   ]
  },
  {
   "cell_type": "markdown",
   "id": "f4711f36",
   "metadata": {},
   "source": [
    "### Función Map"
   ]
  },
  {
   "cell_type": "code",
   "execution_count": 52,
   "id": "449ec3b6",
   "metadata": {},
   "outputs": [
    {
     "name": "stdout",
     "output_type": "stream",
     "text": [
      "[1, 4, 9, 16, 25]\n"
     ]
    }
   ],
   "source": [
    "def cuadrado(n):\n",
    "  return n * n\n",
    "  \n",
    "lista = [1, 2, 3, 4, 5]\n",
    "lista_nueva = list(map(cuadrado, lista))\n",
    "print(lista_nueva)"
   ]
  },
  {
   "cell_type": "markdown",
   "id": "dcbf8204",
   "metadata": {},
   "source": [
    "### Función Filter"
   ]
  },
  {
   "cell_type": "code",
   "execution_count": 46,
   "id": "1fb89412",
   "metadata": {},
   "outputs": [
    {
     "name": "stdout",
     "output_type": "stream",
     "text": [
      "[2, 10, 50]\n"
     ]
    }
   ],
   "source": [
    "def par(numero):    # declaramos una función condicional\n",
    "    if numero % 2 == 0:  # verificamos si un numero es par\n",
    "        return True      # devolvemos True si lo es\n",
    "\n",
    "numeros = [2, 5, 10, 23, 50, 33]\n",
    "\n",
    "print(list(filter(par, numeros)))"
   ]
  },
  {
   "cell_type": "markdown",
   "id": "a897e5e6",
   "metadata": {},
   "source": [
    "### Función Lambda"
   ]
  },
  {
   "cell_type": "code",
   "execution_count": 53,
   "id": "3fe2c878",
   "metadata": {},
   "outputs": [
    {
     "name": "stdout",
     "output_type": "stream",
     "text": [
      "[1, 4, 9, 16, 25]\n"
     ]
    }
   ],
   "source": [
    "lista = [1, 2, 3, 4, 5]\n",
    "lista_nueva = list(map(lambda x: x * x, lista))\n",
    "print(lista_nueva)  "
   ]
  },
  {
   "cell_type": "code",
   "execution_count": 49,
   "id": "4baa6b86",
   "metadata": {},
   "outputs": [
    {
     "name": "stdout",
     "output_type": "stream",
     "text": [
      "[8, 2, 10]\n"
     ]
    }
   ],
   "source": [
    "lista = [8, -5, 2, 0, -1, 10]\n",
    "lista = list(filter(lambda x: x > 0, lista))\n",
    "print(lista)"
   ]
  },
  {
   "cell_type": "markdown",
   "id": "a55822d9",
   "metadata": {},
   "source": [
    "### Compresiones"
   ]
  },
  {
   "cell_type": "code",
   "execution_count": 54,
   "id": "42474069",
   "metadata": {},
   "outputs": [
    {
     "name": "stdout",
     "output_type": "stream",
     "text": [
      "[1, 4, 9, 16, 25]\n"
     ]
    }
   ],
   "source": [
    "lista = [numero**2 for numero in  range(1,6)]\n",
    "print(lista)"
   ]
  },
  {
   "cell_type": "code",
   "execution_count": 55,
   "id": "0dacb128",
   "metadata": {},
   "outputs": [
    {
     "name": "stdout",
     "output_type": "stream",
     "text": [
      "[2, 4]\n"
     ]
    }
   ],
   "source": [
    "lista = [numero for numero in range(1,6) if numero % 2 == 0 ]\n",
    "print(lista)"
   ]
  },
  {
   "cell_type": "code",
   "execution_count": 80,
   "id": "45cf16d3",
   "metadata": {},
   "outputs": [
    {
     "name": "stdout",
     "output_type": "stream",
     "text": [
      "[(3, 1), (4, 3), (5, 5), (6, 7), (7, 9), (8, 11), (9, 13)]\n"
     ]
    }
   ],
   "source": [
    "a = 2 \n",
    "b = -5\n",
    "cant = 10 \n",
    "parejas = [(x, a*x + b) for x in range(1, cant) ] # lista de tuplas con parejas (x,y) aplicando la ec. y=a*x + b\n",
    "parejas = list( filter(lambda pareja: pareja[1] > 0, parejas)) # se filtra y se dejan las que tienen la y positiva\n",
    "print(parejas)"
   ]
  },
  {
   "cell_type": "markdown",
   "id": "79c76985",
   "metadata": {},
   "source": [
    "### Decoradores"
   ]
  },
  {
   "cell_type": "code",
   "execution_count": 27,
   "id": "c0a0f45a",
   "metadata": {},
   "outputs": [
    {
     "name": "stdout",
     "output_type": "stream",
     "text": [
      "Antes de la llamada de la función\n",
      "Sumamos dos números\n",
      "Despues de la llamada de la función\n",
      "La suma es:  5\n"
     ]
    }
   ],
   "source": [
    "def mi_decorador(funcion): # definimos el decorador\n",
    "    def funcion_interna(a, b):\n",
    "        print(\"Antes de la llamada de la función\")\n",
    "        res = funcion(a, b)\n",
    "        print(\"Despues de la llamada de la función\")\n",
    "        return res\n",
    "    return funcion_interna\n",
    "\n",
    "@mi_decorador # usamos el decorador\n",
    "def suma(a, b):\n",
    "    print(\"Sumamos dos números\")\n",
    "    return a + b\n",
    "\n",
    "print(\"La suma es: \",suma(3,2)) # invocamos al método suma()"
   ]
  },
  {
   "cell_type": "code",
   "execution_count": 28,
   "id": "78e416d9",
   "metadata": {},
   "outputs": [
    {
     "name": "stdout",
     "output_type": "stream",
     "text": [
      "Antes de la llamada de la función\n",
      "Resta dos números\n",
      "Despues de la llamada de la función\n",
      "La resta es:  1\n"
     ]
    }
   ],
   "source": [
    "@mi_decorador # usamos el decorador\n",
    "def resta(a, b):\n",
    "    print(\"Resta dos números\")\n",
    "    return a - b\n",
    "\n",
    "print(\"La resta es: \",resta(3,2)) # invocamos al método resta()"
   ]
  },
  {
   "cell_type": "markdown",
   "id": "5e6bd30d",
   "metadata": {},
   "source": [
    "### Programación orientada a objetos"
   ]
  },
  {
   "cell_type": "code",
   "execution_count": 20,
   "id": "f88cd27c",
   "metadata": {},
   "outputs": [
    {
     "name": "stdout",
     "output_type": "stream",
     "text": [
      "Mi vehículo tiene  4  ruedas\n",
      "El vehículo se esta desplazando\n",
      "El vehículo se esta frenando\n",
      "El kilometraje ahora es:  65000\n"
     ]
    }
   ],
   "source": [
    "class Vehiculo():\n",
    "    \n",
    "    ruedas = 4 # atributo de clase\n",
    "    \n",
    "    # método constructor\n",
    "    def __init__(self, color, modelo, km):        \n",
    "        # atributos de instancia\n",
    "        self.color = color  \n",
    "        self.modelo = modelo\n",
    "        self.km = km\n",
    "            \n",
    "    def acelera(self):        \n",
    "        print(\"El vehículo se esta desplazando\")\n",
    "        \n",
    "    def frena(self):\n",
    "        print(\"El vehículo se esta frenando\")\n",
    "        \n",
    "    def viaja(self, km_recorrido):\n",
    "        self.km += km_recorrido\n",
    "        \n",
    "        \n",
    "miVehiculo=Vehiculo(\"Plata\",2014,60000) # creamos un objeto de la clase\n",
    "print(\"Mi vehículo tiene \", miVehiculo.ruedas, \" ruedas\") # imprimimos ruedas\n",
    "miVehiculo.acelera()\n",
    "miVehiculo.frena()\n",
    "miVehiculo.viaja(5000)\n",
    "print(\"El kilometraje ahora es: \", miVehiculo.km)\n"
   ]
  },
  {
   "cell_type": "code",
   "execution_count": null,
   "id": "53f5c312",
   "metadata": {},
   "outputs": [],
   "source": []
  }
 ],
 "metadata": {
  "kernelspec": {
   "display_name": "Python 3 (ipykernel)",
   "language": "python",
   "name": "python3"
  },
  "language_info": {
   "codemirror_mode": {
    "name": "ipython",
    "version": 3
   },
   "file_extension": ".py",
   "mimetype": "text/x-python",
   "name": "python",
   "nbconvert_exporter": "python",
   "pygments_lexer": "ipython3",
   "version": "3.9.12"
  }
 },
 "nbformat": 4,
 "nbformat_minor": 5
}
