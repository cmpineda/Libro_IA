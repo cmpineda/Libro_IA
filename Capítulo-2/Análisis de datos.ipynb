{
 "cells": [
  {
   "cell_type": "markdown",
   "id": "c32bb475",
   "metadata": {},
   "source": [
    "# CAPITULO 2: Análisis de datos con Python"
   ]
  },
  {
   "cell_type": "markdown",
   "id": "ee438be2",
   "metadata": {},
   "source": [
    "## NumPy"
   ]
  },
  {
   "cell_type": "code",
   "execution_count": 1,
   "id": "dfbf5f73",
   "metadata": {},
   "outputs": [],
   "source": [
    "import numpy as np"
   ]
  },
  {
   "cell_type": "markdown",
   "id": "6fc5d6c2",
   "metadata": {},
   "source": [
    "### Creación de vectores y matrices"
   ]
  },
  {
   "cell_type": "code",
   "execution_count": 43,
   "id": "d4b0f798",
   "metadata": {},
   "outputs": [
    {
     "name": "stdout",
     "output_type": "stream",
     "text": [
      "[1 2 3 4 5]\n"
     ]
    }
   ],
   "source": [
    "# creamos un vector de 5 elementos\n",
    "a = np.array([1,2,3,4,5])\n",
    "print(a)"
   ]
  },
  {
   "cell_type": "code",
   "execution_count": 45,
   "id": "c3d8aa8b",
   "metadata": {},
   "outputs": [
    {
     "name": "stdout",
     "output_type": "stream",
     "text": [
      "[[1 2 3]\n",
      " [4 5 6]\n",
      " [7 8 9]]\n"
     ]
    }
   ],
   "source": [
    "# creamos una matriz de 3x3\n",
    "m = np.array([[1,2,3],[4,5,6],[7,8,9]])\n",
    "print(m)"
   ]
  },
  {
   "cell_type": "code",
   "execution_count": 46,
   "id": "e5437f28",
   "metadata": {},
   "outputs": [
    {
     "name": "stdout",
     "output_type": "stream",
     "text": [
      "[[1. 1.]\n",
      " [1. 1.]]\n"
     ]
    }
   ],
   "source": [
    "# Creación de un vector con valores entre 1 y 11 con paso de 2\n",
    "b = np.arange(1,11, 2)\n",
    "print(c)"
   ]
  },
  {
   "cell_type": "code",
   "execution_count": 47,
   "id": "9000aa82",
   "metadata": {},
   "outputs": [
    {
     "name": "stdout",
     "output_type": "stream",
     "text": [
      "[[0. 0. 0.]\n",
      " [0. 0. 0.]\n",
      " [0. 0. 0.]]\n"
     ]
    }
   ],
   "source": [
    "# Creación de una matriz de 3x3 de ceros\n",
    "c = np.zeros((3,3)) \n",
    "print(c) "
   ]
  },
  {
   "cell_type": "code",
   "execution_count": 48,
   "id": "d81e9502",
   "metadata": {},
   "outputs": [
    {
     "name": "stdout",
     "output_type": "stream",
     "text": [
      "[[1. 1.]\n",
      " [1. 1.]]\n"
     ]
    }
   ],
   "source": [
    "# Creación de una matriz de 2x2 de unos\n",
    "d = np.ones((2,2)) \n",
    "print(d)"
   ]
  },
  {
   "cell_type": "code",
   "execution_count": 49,
   "id": "7f98eae2",
   "metadata": {},
   "outputs": [
    {
     "name": "stdout",
     "output_type": "stream",
     "text": [
      "[[4 4]\n",
      " [4 4]]\n"
     ]
    }
   ],
   "source": [
    "# Creación de una matriz de 2x2 con valor constante\n",
    "e = np.full((2,2), 4) \n",
    "print(e) "
   ]
  },
  {
   "cell_type": "code",
   "execution_count": 53,
   "id": "7493059c",
   "metadata": {},
   "outputs": [
    {
     "name": "stdout",
     "output_type": "stream",
     "text": [
      "[[1. 0. 0. 0.]\n",
      " [0. 1. 0. 0.]\n",
      " [0. 0. 1. 0.]\n",
      " [0. 0. 0. 1.]]\n"
     ]
    }
   ],
   "source": [
    "# Creación de una matriz identica de 4x4\n",
    "f = np.eye(4) \n",
    "print(f) "
   ]
  },
  {
   "cell_type": "code",
   "execution_count": 54,
   "id": "584418f7",
   "metadata": {},
   "outputs": [
    {
     "name": "stdout",
     "output_type": "stream",
     "text": [
      "[[0.45093847 0.46571515 0.07560753]\n",
      " [0.84732003 0.37184351 0.90304515]\n",
      " [0.68707348 0.08795253 0.75537879]]\n"
     ]
    }
   ],
   "source": [
    "# Creación de una matriz de números aleatorios de 3x3\n",
    "h = np.random.random((3,3))\n",
    "print(h)"
   ]
  },
  {
   "cell_type": "markdown",
   "id": "b13850b8",
   "metadata": {},
   "source": [
    "### Operaciones con matrices"
   ]
  },
  {
   "cell_type": "code",
   "execution_count": 64,
   "id": "f967a17a",
   "metadata": {},
   "outputs": [
    {
     "name": "stdout",
     "output_type": "stream",
     "text": [
      "Vector original:  [ 0  1  2  3  4  5  6  7  8  9 10 11]\n",
      "Matriz generada:  \n",
      " [[ 0  1  2]\n",
      " [ 3  4  5]\n",
      " [ 6  7  8]\n",
      " [ 9 10 11]]\n"
     ]
    }
   ],
   "source": [
    "# ejemplo con método Reshape\n",
    "array = np.arange(12)\n",
    "print(\"Vector original: \", array)\n",
    "# Reformar el array a una matriz de 4x3\n",
    "nuevo_array=array.reshape(4,3)\n",
    "print(\"Matriz generada: \",\"\\n\",nuevo_array)"
   ]
  },
  {
   "cell_type": "code",
   "execution_count": 70,
   "id": "3f96de5c",
   "metadata": {},
   "outputs": [
    {
     "name": "stdout",
     "output_type": "stream",
     "text": [
      "Forma de la matriz: (4, 3)\n",
      "Vector:  [ 0  1  2  3  4  5  6  7  8  9 10 11]\n",
      "Forma del vector  (12,)\n"
     ]
    }
   ],
   "source": [
    "# ejemplo con método flatten()\n",
    "print(\"Forma de la matriz:\" , nuevo_array.shape)\n",
    "vector = nuevo_array.flatten() \n",
    "print(\"Vector: \" ,vector)\n",
    "print(\"Forma del vector \" , vector.shape)"
   ]
  },
  {
   "cell_type": "code",
   "execution_count": 75,
   "id": "feba9965",
   "metadata": {},
   "outputs": [
    {
     "name": "stdout",
     "output_type": "stream",
     "text": [
      "Matriz transpuesta: \n",
      " [[ 0  3  6  9]\n",
      " [ 1  4  7 10]\n",
      " [ 2  5  8 11]]\n"
     ]
    }
   ],
   "source": [
    "# ejemplo con método traspose()\n",
    "matriz = nuevo_array.transpose() \n",
    "print(\"Matriz transpuesta: \\n\" , matriz)"
   ]
  },
  {
   "cell_type": "code",
   "execution_count": 91,
   "id": "2b1c5d47",
   "metadata": {},
   "outputs": [
    {
     "name": "stdout",
     "output_type": "stream",
     "text": [
      "Matriz A: \n",
      " [[1 2]\n",
      " [3 4]]\n",
      "Matriz B: \n",
      " [[5 6]\n",
      " [7 8]]\n",
      "Matriz C: \n",
      " [[1 2 5 6]\n",
      " [3 4 7 8]]\n"
     ]
    }
   ],
   "source": [
    "# Ejemplo de apilamiento horizontal de matrices con concatenate()\n",
    "A = np.array([[1, 2], [3, 4]])\n",
    "print(\"Matriz A: \\n\" , A)\n",
    "B = np.array([[5, 6], [7, 8]])\n",
    "print(\"Matriz B: \\n\" , B)\n",
    "C = np.concatenate((A, B), axis=1)\n",
    "print(\"Matriz C: \\n\" , C)"
   ]
  },
  {
   "cell_type": "code",
   "execution_count": 93,
   "id": "7691c4ed",
   "metadata": {},
   "outputs": [
    {
     "name": "stdout",
     "output_type": "stream",
     "text": [
      "Matriz A: \n",
      " [[1 2]\n",
      " [3 4]]\n",
      "Matriz B: \n",
      " [[5 6]\n",
      " [7 8]]\n",
      "Matriz C: \n",
      " [[1 2 5 6]\n",
      " [3 4 7 8]]\n"
     ]
    }
   ],
   "source": [
    "# Ejemplo con apilamiento horizontal con hstack()\n",
    "A = np.array([[1, 2], [3, 4]])\n",
    "print(\"Matriz A: \\n\" , A)\n",
    "B = np.array([[5, 6], [7, 8]])\n",
    "print(\"Matriz B: \\n\" , B)\n",
    "C=np.hstack((A, B))\n",
    "print(\"Matriz C: \\n\" , C)"
   ]
  },
  {
   "cell_type": "code",
   "execution_count": 94,
   "id": "853e7c05",
   "metadata": {},
   "outputs": [
    {
     "name": "stdout",
     "output_type": "stream",
     "text": [
      "Matriz A: \n",
      " [[1 2]\n",
      " [3 4]]\n",
      "Matriz B: \n",
      " [[5 6]\n",
      " [7 8]]\n",
      "Matriz C: \n",
      " [[1 2]\n",
      " [3 4]\n",
      " [5 6]\n",
      " [7 8]]\n"
     ]
    }
   ],
   "source": [
    "# Ejemplo de apilamiento vertical de matrices con concatenate()\n",
    "A = np.array([[1, 2], [3, 4]])\n",
    "print(\"Matriz A: \\n\" , A)\n",
    "B = np.array([[5, 6], [7, 8]])\n",
    "print(\"Matriz B: \\n\" , B)\n",
    "C = np.concatenate((A, B), axis=0)\n",
    "print(\"Matriz C: \\n\" , C)"
   ]
  },
  {
   "cell_type": "code",
   "execution_count": 96,
   "id": "ebc23a8a",
   "metadata": {},
   "outputs": [
    {
     "name": "stdout",
     "output_type": "stream",
     "text": [
      "Matriz A: \n",
      " [[1 2]\n",
      " [3 4]]\n",
      "Matriz B: \n",
      " [[5 6]\n",
      " [7 8]]\n",
      "Matriz C: \n",
      " [[1 2]\n",
      " [3 4]\n",
      " [5 6]\n",
      " [7 8]]\n"
     ]
    }
   ],
   "source": [
    "# Ejemplo con apilamiento vertical con vstack()\n",
    "A = np.array([[1, 2], [3, 4]])\n",
    "print(\"Matriz A: \\n\" , A)\n",
    "B = np.array([[5, 6], [7, 8]])\n",
    "print(\"Matriz B: \\n\" , B)\n",
    "C=np.vstack((A, B))\n",
    "print(\"Matriz C: \\n\" , C)"
   ]
  },
  {
   "cell_type": "code",
   "execution_count": 100,
   "id": "604672c6",
   "metadata": {},
   "outputs": [
    {
     "name": "stdout",
     "output_type": "stream",
     "text": [
      "Array 1: \n",
      " [1 2 3 4]\n",
      "Array 2: \n",
      " [2 4 6 8]\n",
      "Matriz apilada: \n",
      " [[1 2]\n",
      " [2 4]\n",
      " [3 6]\n",
      " [4 8]]\n"
     ]
    }
   ],
   "source": [
    "# ejemplo de apilamiento a nivel de columna\n",
    "arr1 = np.arange(1,5)\n",
    "print(\"Array 1: \\n\", arr1)\n",
    "arr2 = 2 * arr1\n",
    "print(\"Array 2: \\n\",arr2)\n",
    "n=np.column_stack((arr1,arr2))\n",
    "print(\"Matriz apilada: \\n\", n)"
   ]
  },
  {
   "cell_type": "code",
   "execution_count": 101,
   "id": "f0745082",
   "metadata": {},
   "outputs": [
    {
     "name": "stdout",
     "output_type": "stream",
     "text": [
      "Array 1: \n",
      " [1 2 3 4]\n",
      "Array 2: \n",
      " [2 4 6 8]\n",
      "Matriz apilada: \n",
      " [[1 2 3 4]\n",
      " [2 4 6 8]]\n"
     ]
    }
   ],
   "source": [
    "# ejemplo de apilamiento a nivel de fila\n",
    "arr1 = np.arange(1,5)\n",
    "print(\"Array 1: \\n\", arr1)\n",
    "arr2 = 2 * arr1\n",
    "print(\"Array 2: \\n\",arr2)\n",
    "n=np.row_stack((arr1,arr2))\n",
    "print(\"Matriz apilada: \\n\", n)"
   ]
  },
  {
   "cell_type": "code",
   "execution_count": 104,
   "id": "8eb03f58",
   "metadata": {},
   "outputs": [
    {
     "name": "stdout",
     "output_type": "stream",
     "text": [
      "Matriz 1:\n",
      "[[[1 2]\n",
      "  [3 4]]\n",
      "\n",
      " [[5 6]\n",
      "  [7 8]]]\n",
      "\n",
      "Matriz 2:\n",
      "[[[ 9 10]\n",
      "  [11 12]]\n",
      "\n",
      " [[13 14]\n",
      "  [15 16]]]\n",
      "\n",
      "Matriz apilada en profundidad:\n",
      "[[[ 1  2  9 10]\n",
      "  [ 3  4 11 12]]\n",
      "\n",
      " [[ 5  6 13 14]\n",
      "  [ 7  8 15 16]]]\n"
     ]
    }
   ],
   "source": [
    "import numpy as np\n",
    "\n",
    "# Crear dos matrices tridimensionales\n",
    "arr1 = np.array([[[1, 2], [3, 4]], [[5, 6], [7, 8]]])\n",
    "arr2 = np.array([[[9, 10], [11, 12]], [[13, 14], [15, 16]]])\n",
    "\n",
    "# Apilamiento en profundidad\n",
    "matriz_final = np.dstack((arr1, arr2))\n",
    "\n",
    "print(\"Matriz 1:\")\n",
    "print(arr1)\n",
    "print(\"\\nMatriz 2:\")\n",
    "print(arr2)\n",
    "print(\"\\nMatriz apilada en profundidad:\")\n",
    "print(matriz_final)"
   ]
  },
  {
   "cell_type": "markdown",
   "id": "ca99a891",
   "metadata": {},
   "source": [
    "### Segmentación en NumPy"
   ]
  },
  {
   "cell_type": "code",
   "execution_count": 114,
   "id": "3d072f88",
   "metadata": {},
   "outputs": [],
   "source": [
    "arr=np.arange(1,10)"
   ]
  },
  {
   "cell_type": "code",
   "execution_count": 119,
   "id": "93e91b45",
   "metadata": {},
   "outputs": [
    {
     "name": "stdout",
     "output_type": "stream",
     "text": [
      "[3 4 5]\n"
     ]
    }
   ],
   "source": [
    "# corte de la posición 2 a la 5\n",
    "print(arr[2:5])"
   ]
  },
  {
   "cell_type": "code",
   "execution_count": 116,
   "id": "6ed6fa00",
   "metadata": {},
   "outputs": [
    {
     "name": "stdout",
     "output_type": "stream",
     "text": [
      "[3 4 5 6 7 8 9]\n"
     ]
    }
   ],
   "source": [
    "# corte de la posición 2 a la última\n",
    "print(arr[2:])"
   ]
  },
  {
   "cell_type": "code",
   "execution_count": 117,
   "id": "e0e4ffe7",
   "metadata": {},
   "outputs": [
    {
     "name": "stdout",
     "output_type": "stream",
     "text": [
      "[8 9]\n"
     ]
    }
   ],
   "source": [
    "# corte de la posición -2 a la última\n",
    "print(arr[-2:])"
   ]
  },
  {
   "cell_type": "code",
   "execution_count": 118,
   "id": "e21a915b",
   "metadata": {},
   "outputs": [
    {
     "name": "stdout",
     "output_type": "stream",
     "text": [
      "[4 6 8]\n"
     ]
    }
   ],
   "source": [
    "# corte de la posición 3 a la 8 con incremento de 2\n",
    "print(arr[3:8:2])"
   ]
  },
  {
   "cell_type": "code",
   "execution_count": 126,
   "id": "f7e1dde8",
   "metadata": {},
   "outputs": [
    {
     "name": "stdout",
     "output_type": "stream",
     "text": [
      "Vector original:\n",
      " [ 1  2  3  4  5  6  7  8  9 10 11 12 13 14 15 16 17 18 19 20]\n",
      "Después de la condición: [ 2  4  6  8 10 12 14 16 18 20]\n"
     ]
    }
   ],
   "source": [
    "#indexación booleana\n",
    "edades = np.arange(1,21)\n",
    "print(\"Vector original:\\n\",edades)\n",
    "print(\"Después de la condición:\",edades[edades%2==0])"
   ]
  },
  {
   "cell_type": "code",
   "execution_count": 130,
   "id": "8fb21dc2",
   "metadata": {},
   "outputs": [
    {
     "name": "stdout",
     "output_type": "stream",
     "text": [
      "Array original:\n",
      " [[ 1  2  3  4]\n",
      " [ 5  6  7  8]\n",
      " [ 9 10 11 12]\n",
      " [13 14 15 16]\n",
      " [17 18 19 20]]\n",
      "Selección de la fila 0 y 1:\n",
      " [[1 2 3 4]\n",
      " [5 6 7 8]]\n",
      "Selección de la fila 2 y 3:\n",
      " [[ 9 10 11 12]\n",
      " [13 14 15 16]]\n"
     ]
    }
   ],
   "source": [
    "#Selección de filas especificas\n",
    "arr = np.arange(1,21).reshape(5,4)\n",
    "print(\"Array original:\\n\",arr)\n",
    "\n",
    "#Selección de la fila 0 y 1\n",
    "indices = [0,1]\n",
    "print(\"Selección de la fila 0 y 1:\\n\", arr[indices])\n",
    "\n",
    "#Selección de la fila 2 y 3\n",
    "indices = [2,3]\n",
    "print(\"Selección de la fila 2 y 3:\\n\", arr[indices])"
   ]
  },
  {
   "cell_type": "code",
   "execution_count": 133,
   "id": "c031b514",
   "metadata": {},
   "outputs": [
    {
     "name": "stdout",
     "output_type": "stream",
     "text": [
      "Matriz A: \n",
      "  [[1 2]\n",
      " [3 4]]\n",
      "Matriz B: \n",
      " [[5 6]\n",
      " [7 8]]\n",
      "Suma: \n",
      " [[ 6  8]\n",
      " [10 12]]\n",
      "Resta: \n",
      " [[-4 -4]\n",
      " [-4 -4]]\n",
      "Multiplicación \n",
      " [[ 5 12]\n",
      " [21 32]]\n",
      "División \n",
      " [[0.2        0.33333333]\n",
      " [0.42857143 0.5       ]]\n",
      "Producto punto \n",
      " [[19 22]\n",
      " [43 50]]\n"
     ]
    }
   ],
   "source": [
    "# creamos una matriz\n",
    "A = np.arange(1,5).reshape(2,2) \n",
    "print(\"Matriz A: \\n \", A)\n",
    "\n",
    "# creamos otra matriz\n",
    "B = np.arange(5,9).reshape(2,2) \n",
    "print(\"Matriz B: \\n\", B)\n",
    "\n",
    "print(\"Suma: \\n\", A+B)\n",
    "print(\"Resta: \\n\", A-B)\n",
    "print(\"Multiplicación \\n\", A*B)\n",
    "print(\"División \\n\", A/B)\n",
    "print(\"Producto punto \\n\", np.dot(A,B))"
   ]
  },
  {
   "cell_type": "markdown",
   "id": "8fc67d65",
   "metadata": {},
   "source": [
    "## Pandas"
   ]
  },
  {
   "cell_type": "markdown",
   "id": "6ea32a1d",
   "metadata": {},
   "source": [
    "### Dataframe"
   ]
  },
  {
   "cell_type": "code",
   "execution_count": 2,
   "id": "3f3121c2",
   "metadata": {},
   "outputs": [],
   "source": [
    "import pandas as pd\n",
    "\n",
    "# creamos un DataFrame vacío\n",
    "df = pd.DataFrame()"
   ]
  },
  {
   "cell_type": "code",
   "execution_count": 8,
   "id": "3423ccff",
   "metadata": {},
   "outputs": [
    {
     "data": {
      "text/html": [
       "<div>\n",
       "<style scoped>\n",
       "    .dataframe tbody tr th:only-of-type {\n",
       "        vertical-align: middle;\n",
       "    }\n",
       "\n",
       "    .dataframe tbody tr th {\n",
       "        vertical-align: top;\n",
       "    }\n",
       "\n",
       "    .dataframe thead th {\n",
       "        text-align: right;\n",
       "    }\n",
       "</style>\n",
       "<table border=\"1\" class=\"dataframe\">\n",
       "  <thead>\n",
       "    <tr style=\"text-align: right;\">\n",
       "      <th></th>\n",
       "      <th>Nombre</th>\n",
       "      <th>Edad</th>\n",
       "    </tr>\n",
       "  </thead>\n",
       "  <tbody>\n",
       "    <tr>\n",
       "      <th>0</th>\n",
       "      <td>Carlos</td>\n",
       "      <td>36</td>\n",
       "    </tr>\n",
       "    <tr>\n",
       "      <th>1</th>\n",
       "      <td>Katerine</td>\n",
       "      <td>30</td>\n",
       "    </tr>\n",
       "    <tr>\n",
       "      <th>2</th>\n",
       "      <td>Luciana</td>\n",
       "      <td>6</td>\n",
       "    </tr>\n",
       "    <tr>\n",
       "      <th>3</th>\n",
       "      <td>Dylan</td>\n",
       "      <td>1</td>\n",
       "    </tr>\n",
       "  </tbody>\n",
       "</table>\n",
       "</div>"
      ],
      "text/plain": [
       "     Nombre  Edad\n",
       "0    Carlos    36\n",
       "1  Katerine    30\n",
       "2   Luciana     6\n",
       "3     Dylan     1"
      ]
     },
     "execution_count": 8,
     "metadata": {},
     "output_type": "execute_result"
    }
   ],
   "source": [
    "# Crear Dataframe con diccionario de listas\n",
    "datos = {'Nombre': ['Carlos', 'Katerine', 'Luciana', 'Dylan'], 'Edad': [36, 30, 6, 1 ]} \n",
    "df = pd.DataFrame(datos)\n",
    "df"
   ]
  },
  {
   "cell_type": "code",
   "execution_count": 9,
   "id": "4f41bb8b",
   "metadata": {},
   "outputs": [
    {
     "data": {
      "text/html": [
       "<div>\n",
       "<style scoped>\n",
       "    .dataframe tbody tr th:only-of-type {\n",
       "        vertical-align: middle;\n",
       "    }\n",
       "\n",
       "    .dataframe tbody tr th {\n",
       "        vertical-align: top;\n",
       "    }\n",
       "\n",
       "    .dataframe thead th {\n",
       "        text-align: right;\n",
       "    }\n",
       "</style>\n",
       "<table border=\"1\" class=\"dataframe\">\n",
       "  <thead>\n",
       "    <tr style=\"text-align: right;\">\n",
       "      <th></th>\n",
       "      <th>Nombre</th>\n",
       "      <th>Edad</th>\n",
       "    </tr>\n",
       "  </thead>\n",
       "  <tbody>\n",
       "    <tr>\n",
       "      <th>0</th>\n",
       "      <td>Ruby</td>\n",
       "      <td>45</td>\n",
       "    </tr>\n",
       "    <tr>\n",
       "      <th>1</th>\n",
       "      <td>Diana</td>\n",
       "      <td>43</td>\n",
       "    </tr>\n",
       "    <tr>\n",
       "      <th>2</th>\n",
       "      <td>Maira</td>\n",
       "      <td>38</td>\n",
       "    </tr>\n",
       "  </tbody>\n",
       "</table>\n",
       "</div>"
      ],
      "text/plain": [
       "  Nombre  Edad\n",
       "0   Ruby    45\n",
       "1  Diana    43\n",
       "2  Maira    38"
      ]
     },
     "execution_count": 9,
     "metadata": {},
     "output_type": "execute_result"
    }
   ],
   "source": [
    "# Crear Dataframe con lista de diccionarios\n",
    "datos =[ {'Nombre': 'Ruby', 'Edad': 45},{'Nombre': 'Diana', 'Edad': 43},{'Nombre': 'Maira', 'Edad': 38}] \n",
    "df = pd.DataFrame(datos,columns=['Nombre','Edad']) \n",
    "df"
   ]
  },
  {
   "cell_type": "code",
   "execution_count": 27,
   "id": "231556b7",
   "metadata": {},
   "outputs": [
    {
     "data": {
      "text/html": [
       "<div>\n",
       "<style scoped>\n",
       "    .dataframe tbody tr th:only-of-type {\n",
       "        vertical-align: middle;\n",
       "    }\n",
       "\n",
       "    .dataframe tbody tr th {\n",
       "        vertical-align: top;\n",
       "    }\n",
       "\n",
       "    .dataframe thead th {\n",
       "        text-align: right;\n",
       "    }\n",
       "</style>\n",
       "<table border=\"1\" class=\"dataframe\">\n",
       "  <thead>\n",
       "    <tr style=\"text-align: right;\">\n",
       "      <th></th>\n",
       "      <th>Nombre</th>\n",
       "      <th>Edad</th>\n",
       "    </tr>\n",
       "  </thead>\n",
       "  <tbody>\n",
       "    <tr>\n",
       "      <th>0</th>\n",
       "      <td>Demetrio</td>\n",
       "      <td>75</td>\n",
       "    </tr>\n",
       "    <tr>\n",
       "      <th>1</th>\n",
       "      <td>Ruby</td>\n",
       "      <td>71</td>\n",
       "    </tr>\n",
       "  </tbody>\n",
       "</table>\n",
       "</div>"
      ],
      "text/plain": [
       "     Nombre  Edad\n",
       "0  Demetrio    75\n",
       "1      Ruby    71"
      ]
     },
     "execution_count": 27,
     "metadata": {},
     "output_type": "execute_result"
    }
   ],
   "source": [
    "# Crear Dataframe con lista de tuplas\n",
    "datos = [('Demetrio', 75),( 'Ruby', 71)]\n",
    "df = pd.DataFrame(datos, columns=['Nombre','Edad'])\n",
    "df"
   ]
  },
  {
   "cell_type": "code",
   "execution_count": 28,
   "id": "30d59a42",
   "metadata": {},
   "outputs": [
    {
     "name": "stdout",
     "output_type": "stream",
     "text": [
      "Forma: (2, 2)\n",
      "Lista de Columnas: Index(['Nombre', 'Edad'], dtype='object')\n",
      "Tipos de datos: Nombre    object\n",
      "Edad       int64\n",
      "dtype: object\n"
     ]
    }
   ],
   "source": [
    "# mostrar forma del dataframe\n",
    "print(\"Forma:\", df.shape)\n",
    "# Lista de columnas del dataframe\n",
    "print(\"Lista de Columnas:\", df.columns)\n",
    "# Mostrar los tipos de datos\n",
    "print(\"Tipos de datos:\", df.dtypes)"
   ]
  },
  {
   "cell_type": "markdown",
   "id": "807105a9",
   "metadata": {},
   "source": [
    "### 2.2.2 Series"
   ]
  },
  {
   "cell_type": "code",
   "execution_count": 11,
   "id": "fb7b350a",
   "metadata": {},
   "outputs": [
    {
     "data": {
      "text/plain": [
       "0    Carlos\n",
       "1     Mario\n",
       "2    Pineda\n",
       "3    Pertuz\n",
       "dtype: object"
      ]
     },
     "execution_count": 11,
     "metadata": {},
     "output_type": "execute_result"
    }
   ],
   "source": [
    "# Crear Serie a partir de un diccionario\n",
    "dic = {0 : 'Carlos', 1 : 'Mario', 2 : 'Pineda', 3 : 'Pertuz'}\n",
    "serie = pd.Series(dic)\n",
    "serie"
   ]
  },
  {
   "cell_type": "code",
   "execution_count": 12,
   "id": "6171275d",
   "metadata": {
    "scrolled": true
   },
   "outputs": [
    {
     "data": {
      "text/plain": [
       "0     1\n",
       "1     6\n",
       "2    30\n",
       "3    36\n",
       "4    71\n",
       "5    75\n",
       "dtype: int32"
      ]
     },
     "execution_count": 12,
     "metadata": {},
     "output_type": "execute_result"
    }
   ],
   "source": [
    "import numpy as np\n",
    "arr = np.array([1,6,30,36, 71,75])\n",
    "serie = pd.Series(arr)\n",
    "serie"
   ]
  },
  {
   "cell_type": "code",
   "execution_count": 17,
   "id": "8c7d6307",
   "metadata": {
    "scrolled": true
   },
   "outputs": [
    {
     "data": {
      "text/plain": [
       "0    75\n",
       "1    71\n",
       "Name: Edad, dtype: int64"
      ]
     },
     "execution_count": 17,
     "metadata": {},
     "output_type": "execute_result"
    }
   ],
   "source": [
    "# Seleccionar columna edad\n",
    "edades=df['Edad']\n",
    "edades"
   ]
  },
  {
   "cell_type": "markdown",
   "id": "e4eb636f",
   "metadata": {},
   "source": [
    "### 2.2.3 Carga de datos en dataframes y funciones básicas"
   ]
  },
  {
   "cell_type": "code",
   "execution_count": 11,
   "id": "5be8f5ba",
   "metadata": {},
   "outputs": [
    {
     "data": {
      "text/html": [
       "<div>\n",
       "<style scoped>\n",
       "    .dataframe tbody tr th:only-of-type {\n",
       "        vertical-align: middle;\n",
       "    }\n",
       "\n",
       "    .dataframe tbody tr th {\n",
       "        vertical-align: top;\n",
       "    }\n",
       "\n",
       "    .dataframe thead th {\n",
       "        text-align: right;\n",
       "    }\n",
       "</style>\n",
       "<table border=\"1\" class=\"dataframe\">\n",
       "  <thead>\n",
       "    <tr style=\"text-align: right;\">\n",
       "      <th></th>\n",
       "      <th>index</th>\n",
       "      <th>age</th>\n",
       "      <th>sex</th>\n",
       "      <th>bmi</th>\n",
       "      <th>children</th>\n",
       "      <th>smoker</th>\n",
       "      <th>region</th>\n",
       "      <th>charges</th>\n",
       "    </tr>\n",
       "  </thead>\n",
       "  <tbody>\n",
       "    <tr>\n",
       "      <th>0</th>\n",
       "      <td>0</td>\n",
       "      <td>19</td>\n",
       "      <td>female</td>\n",
       "      <td>27.900</td>\n",
       "      <td>0</td>\n",
       "      <td>yes</td>\n",
       "      <td>southwest</td>\n",
       "      <td>16884.92400</td>\n",
       "    </tr>\n",
       "    <tr>\n",
       "      <th>1</th>\n",
       "      <td>1</td>\n",
       "      <td>18</td>\n",
       "      <td>male</td>\n",
       "      <td>33.770</td>\n",
       "      <td>1</td>\n",
       "      <td>no</td>\n",
       "      <td>southeast</td>\n",
       "      <td>1725.55230</td>\n",
       "    </tr>\n",
       "    <tr>\n",
       "      <th>2</th>\n",
       "      <td>2</td>\n",
       "      <td>28</td>\n",
       "      <td>male</td>\n",
       "      <td>33.000</td>\n",
       "      <td>3</td>\n",
       "      <td>no</td>\n",
       "      <td>southeast</td>\n",
       "      <td>4449.46200</td>\n",
       "    </tr>\n",
       "    <tr>\n",
       "      <th>3</th>\n",
       "      <td>3</td>\n",
       "      <td>33</td>\n",
       "      <td>male</td>\n",
       "      <td>22.705</td>\n",
       "      <td>0</td>\n",
       "      <td>no</td>\n",
       "      <td>northwest</td>\n",
       "      <td>21984.47061</td>\n",
       "    </tr>\n",
       "    <tr>\n",
       "      <th>4</th>\n",
       "      <td>4</td>\n",
       "      <td>32</td>\n",
       "      <td>male</td>\n",
       "      <td>28.880</td>\n",
       "      <td>0</td>\n",
       "      <td>no</td>\n",
       "      <td>northwest</td>\n",
       "      <td>3866.85520</td>\n",
       "    </tr>\n",
       "    <tr>\n",
       "      <th>...</th>\n",
       "      <td>...</td>\n",
       "      <td>...</td>\n",
       "      <td>...</td>\n",
       "      <td>...</td>\n",
       "      <td>...</td>\n",
       "      <td>...</td>\n",
       "      <td>...</td>\n",
       "      <td>...</td>\n",
       "    </tr>\n",
       "    <tr>\n",
       "      <th>1333</th>\n",
       "      <td>1333</td>\n",
       "      <td>50</td>\n",
       "      <td>male</td>\n",
       "      <td>30.970</td>\n",
       "      <td>3</td>\n",
       "      <td>no</td>\n",
       "      <td>northwest</td>\n",
       "      <td>10600.54830</td>\n",
       "    </tr>\n",
       "    <tr>\n",
       "      <th>1334</th>\n",
       "      <td>1334</td>\n",
       "      <td>18</td>\n",
       "      <td>female</td>\n",
       "      <td>31.920</td>\n",
       "      <td>0</td>\n",
       "      <td>no</td>\n",
       "      <td>northeast</td>\n",
       "      <td>2205.98080</td>\n",
       "    </tr>\n",
       "    <tr>\n",
       "      <th>1335</th>\n",
       "      <td>1335</td>\n",
       "      <td>18</td>\n",
       "      <td>female</td>\n",
       "      <td>36.850</td>\n",
       "      <td>0</td>\n",
       "      <td>no</td>\n",
       "      <td>southeast</td>\n",
       "      <td>1629.83350</td>\n",
       "    </tr>\n",
       "    <tr>\n",
       "      <th>1336</th>\n",
       "      <td>1336</td>\n",
       "      <td>21</td>\n",
       "      <td>female</td>\n",
       "      <td>25.800</td>\n",
       "      <td>0</td>\n",
       "      <td>no</td>\n",
       "      <td>southwest</td>\n",
       "      <td>2007.94500</td>\n",
       "    </tr>\n",
       "    <tr>\n",
       "      <th>1337</th>\n",
       "      <td>1337</td>\n",
       "      <td>61</td>\n",
       "      <td>female</td>\n",
       "      <td>29.070</td>\n",
       "      <td>0</td>\n",
       "      <td>yes</td>\n",
       "      <td>northwest</td>\n",
       "      <td>29141.36030</td>\n",
       "    </tr>\n",
       "  </tbody>\n",
       "</table>\n",
       "<p>1338 rows × 8 columns</p>\n",
       "</div>"
      ],
      "text/plain": [
       "      index  age     sex     bmi  children smoker     region      charges\n",
       "0         0   19  female  27.900         0    yes  southwest  16884.92400\n",
       "1         1   18    male  33.770         1     no  southeast   1725.55230\n",
       "2         2   28    male  33.000         3     no  southeast   4449.46200\n",
       "3         3   33    male  22.705         0     no  northwest  21984.47061\n",
       "4         4   32    male  28.880         0     no  northwest   3866.85520\n",
       "...     ...  ...     ...     ...       ...    ...        ...          ...\n",
       "1333   1333   50    male  30.970         3     no  northwest  10600.54830\n",
       "1334   1334   18  female  31.920         0     no  northeast   2205.98080\n",
       "1335   1335   18  female  36.850         0     no  southeast   1629.83350\n",
       "1336   1336   21  female  25.800         0     no  southwest   2007.94500\n",
       "1337   1337   61  female  29.070         0    yes  northwest  29141.36030\n",
       "\n",
       "[1338 rows x 8 columns]"
      ]
     },
     "execution_count": 11,
     "metadata": {},
     "output_type": "execute_result"
    }
   ],
   "source": [
    "import pandas as pd\n",
    "# Leer archivo CSV\n",
    "df = pd.read_csv(\"../datasets/insurance.csv\")\n",
    "df"
   ]
  },
  {
   "cell_type": "code",
   "execution_count": 12,
   "id": "db919e02",
   "metadata": {},
   "outputs": [],
   "source": [
    "df.to_csv('salida.csv', index=False)"
   ]
  },
  {
   "cell_type": "code",
   "execution_count": 2,
   "id": "58f5b97f",
   "metadata": {},
   "outputs": [
    {
     "data": {
      "text/plain": [
       "(1338, 8)"
      ]
     },
     "execution_count": 2,
     "metadata": {},
     "output_type": "execute_result"
    }
   ],
   "source": [
    "# obtener la forma del dataframe\n",
    "df.shape"
   ]
  },
  {
   "cell_type": "code",
   "execution_count": 3,
   "id": "a00bc694",
   "metadata": {},
   "outputs": [
    {
     "data": {
      "text/plain": [
       "Index(['index', 'age', 'sex', 'bmi', 'children', 'smoker', 'region',\n",
       "       'charges'],\n",
       "      dtype='object')"
      ]
     },
     "execution_count": 3,
     "metadata": {},
     "output_type": "execute_result"
    }
   ],
   "source": [
    "# Obtener los nombres de las columnas\n",
    "df.columns"
   ]
  },
  {
   "cell_type": "code",
   "execution_count": 4,
   "id": "0e84573d",
   "metadata": {},
   "outputs": [
    {
     "data": {
      "text/plain": [
       "index         int64\n",
       "age           int64\n",
       "sex          object\n",
       "bmi         float64\n",
       "children      int64\n",
       "smoker       object\n",
       "region       object\n",
       "charges     float64\n",
       "dtype: object"
      ]
     },
     "execution_count": 4,
     "metadata": {},
     "output_type": "execute_result"
    }
   ],
   "source": [
    "# Obtener el tipo de datos de las columnas\n",
    "df.dtypes"
   ]
  },
  {
   "cell_type": "code",
   "execution_count": 5,
   "id": "7e344346",
   "metadata": {
    "scrolled": true
   },
   "outputs": [
    {
     "name": "stdout",
     "output_type": "stream",
     "text": [
      "<class 'pandas.core.frame.DataFrame'>\n",
      "RangeIndex: 1338 entries, 0 to 1337\n",
      "Data columns (total 8 columns):\n",
      " #   Column    Non-Null Count  Dtype  \n",
      "---  ------    --------------  -----  \n",
      " 0   index     1338 non-null   int64  \n",
      " 1   age       1338 non-null   int64  \n",
      " 2   sex       1338 non-null   object \n",
      " 3   bmi       1338 non-null   float64\n",
      " 4   children  1338 non-null   int64  \n",
      " 5   smoker    1338 non-null   object \n",
      " 6   region    1338 non-null   object \n",
      " 7   charges   1338 non-null   float64\n",
      "dtypes: float64(2), int64(3), object(3)\n",
      "memory usage: 83.8+ KB\n"
     ]
    }
   ],
   "source": [
    "# Obtener informción del dataframe\n",
    "df.info()"
   ]
  },
  {
   "cell_type": "code",
   "execution_count": 6,
   "id": "c9f28384",
   "metadata": {},
   "outputs": [
    {
     "data": {
      "text/html": [
       "<div>\n",
       "<style scoped>\n",
       "    .dataframe tbody tr th:only-of-type {\n",
       "        vertical-align: middle;\n",
       "    }\n",
       "\n",
       "    .dataframe tbody tr th {\n",
       "        vertical-align: top;\n",
       "    }\n",
       "\n",
       "    .dataframe thead th {\n",
       "        text-align: right;\n",
       "    }\n",
       "</style>\n",
       "<table border=\"1\" class=\"dataframe\">\n",
       "  <thead>\n",
       "    <tr style=\"text-align: right;\">\n",
       "      <th></th>\n",
       "      <th>index</th>\n",
       "      <th>age</th>\n",
       "      <th>sex</th>\n",
       "      <th>bmi</th>\n",
       "      <th>children</th>\n",
       "      <th>smoker</th>\n",
       "      <th>region</th>\n",
       "      <th>charges</th>\n",
       "    </tr>\n",
       "  </thead>\n",
       "  <tbody>\n",
       "    <tr>\n",
       "      <th>0</th>\n",
       "      <td>0</td>\n",
       "      <td>19</td>\n",
       "      <td>female</td>\n",
       "      <td>27.900</td>\n",
       "      <td>0</td>\n",
       "      <td>yes</td>\n",
       "      <td>southwest</td>\n",
       "      <td>16884.92400</td>\n",
       "    </tr>\n",
       "    <tr>\n",
       "      <th>1</th>\n",
       "      <td>1</td>\n",
       "      <td>18</td>\n",
       "      <td>male</td>\n",
       "      <td>33.770</td>\n",
       "      <td>1</td>\n",
       "      <td>no</td>\n",
       "      <td>southeast</td>\n",
       "      <td>1725.55230</td>\n",
       "    </tr>\n",
       "    <tr>\n",
       "      <th>2</th>\n",
       "      <td>2</td>\n",
       "      <td>28</td>\n",
       "      <td>male</td>\n",
       "      <td>33.000</td>\n",
       "      <td>3</td>\n",
       "      <td>no</td>\n",
       "      <td>southeast</td>\n",
       "      <td>4449.46200</td>\n",
       "    </tr>\n",
       "    <tr>\n",
       "      <th>3</th>\n",
       "      <td>3</td>\n",
       "      <td>33</td>\n",
       "      <td>male</td>\n",
       "      <td>22.705</td>\n",
       "      <td>0</td>\n",
       "      <td>no</td>\n",
       "      <td>northwest</td>\n",
       "      <td>21984.47061</td>\n",
       "    </tr>\n",
       "    <tr>\n",
       "      <th>4</th>\n",
       "      <td>4</td>\n",
       "      <td>32</td>\n",
       "      <td>male</td>\n",
       "      <td>28.880</td>\n",
       "      <td>0</td>\n",
       "      <td>no</td>\n",
       "      <td>northwest</td>\n",
       "      <td>3866.85520</td>\n",
       "    </tr>\n",
       "  </tbody>\n",
       "</table>\n",
       "</div>"
      ],
      "text/plain": [
       "   index  age     sex     bmi  children smoker     region      charges\n",
       "0      0   19  female  27.900         0    yes  southwest  16884.92400\n",
       "1      1   18    male  33.770         1     no  southeast   1725.55230\n",
       "2      2   28    male  33.000         3     no  southeast   4449.46200\n",
       "3      3   33    male  22.705         0     no  northwest  21984.47061\n",
       "4      4   32    male  28.880         0     no  northwest   3866.85520"
      ]
     },
     "execution_count": 6,
     "metadata": {},
     "output_type": "execute_result"
    }
   ],
   "source": [
    "# conocer las 5 primeras filas\n",
    "df.head()"
   ]
  },
  {
   "cell_type": "code",
   "execution_count": 7,
   "id": "0eae369b",
   "metadata": {},
   "outputs": [
    {
     "data": {
      "text/html": [
       "<div>\n",
       "<style scoped>\n",
       "    .dataframe tbody tr th:only-of-type {\n",
       "        vertical-align: middle;\n",
       "    }\n",
       "\n",
       "    .dataframe tbody tr th {\n",
       "        vertical-align: top;\n",
       "    }\n",
       "\n",
       "    .dataframe thead th {\n",
       "        text-align: right;\n",
       "    }\n",
       "</style>\n",
       "<table border=\"1\" class=\"dataframe\">\n",
       "  <thead>\n",
       "    <tr style=\"text-align: right;\">\n",
       "      <th></th>\n",
       "      <th>index</th>\n",
       "      <th>age</th>\n",
       "      <th>sex</th>\n",
       "      <th>bmi</th>\n",
       "      <th>children</th>\n",
       "      <th>smoker</th>\n",
       "      <th>region</th>\n",
       "      <th>charges</th>\n",
       "    </tr>\n",
       "  </thead>\n",
       "  <tbody>\n",
       "    <tr>\n",
       "      <th>1333</th>\n",
       "      <td>1333</td>\n",
       "      <td>50</td>\n",
       "      <td>male</td>\n",
       "      <td>30.97</td>\n",
       "      <td>3</td>\n",
       "      <td>no</td>\n",
       "      <td>northwest</td>\n",
       "      <td>10600.5483</td>\n",
       "    </tr>\n",
       "    <tr>\n",
       "      <th>1334</th>\n",
       "      <td>1334</td>\n",
       "      <td>18</td>\n",
       "      <td>female</td>\n",
       "      <td>31.92</td>\n",
       "      <td>0</td>\n",
       "      <td>no</td>\n",
       "      <td>northeast</td>\n",
       "      <td>2205.9808</td>\n",
       "    </tr>\n",
       "    <tr>\n",
       "      <th>1335</th>\n",
       "      <td>1335</td>\n",
       "      <td>18</td>\n",
       "      <td>female</td>\n",
       "      <td>36.85</td>\n",
       "      <td>0</td>\n",
       "      <td>no</td>\n",
       "      <td>southeast</td>\n",
       "      <td>1629.8335</td>\n",
       "    </tr>\n",
       "    <tr>\n",
       "      <th>1336</th>\n",
       "      <td>1336</td>\n",
       "      <td>21</td>\n",
       "      <td>female</td>\n",
       "      <td>25.80</td>\n",
       "      <td>0</td>\n",
       "      <td>no</td>\n",
       "      <td>southwest</td>\n",
       "      <td>2007.9450</td>\n",
       "    </tr>\n",
       "    <tr>\n",
       "      <th>1337</th>\n",
       "      <td>1337</td>\n",
       "      <td>61</td>\n",
       "      <td>female</td>\n",
       "      <td>29.07</td>\n",
       "      <td>0</td>\n",
       "      <td>yes</td>\n",
       "      <td>northwest</td>\n",
       "      <td>29141.3603</td>\n",
       "    </tr>\n",
       "  </tbody>\n",
       "</table>\n",
       "</div>"
      ],
      "text/plain": [
       "      index  age     sex    bmi  children smoker     region     charges\n",
       "1333   1333   50    male  30.97         3     no  northwest  10600.5483\n",
       "1334   1334   18  female  31.92         0     no  northeast   2205.9808\n",
       "1335   1335   18  female  36.85         0     no  southeast   1629.8335\n",
       "1336   1336   21  female  25.80         0     no  southwest   2007.9450\n",
       "1337   1337   61  female  29.07         0    yes  northwest  29141.3603"
      ]
     },
     "execution_count": 7,
     "metadata": {},
     "output_type": "execute_result"
    }
   ],
   "source": [
    "# conocer las últimas 5 filas\n",
    "df.tail()"
   ]
  },
  {
   "cell_type": "code",
   "execution_count": 8,
   "id": "7b596d22",
   "metadata": {},
   "outputs": [
    {
     "data": {
      "text/html": [
       "<div>\n",
       "<style scoped>\n",
       "    .dataframe tbody tr th:only-of-type {\n",
       "        vertical-align: middle;\n",
       "    }\n",
       "\n",
       "    .dataframe tbody tr th {\n",
       "        vertical-align: top;\n",
       "    }\n",
       "\n",
       "    .dataframe thead th {\n",
       "        text-align: right;\n",
       "    }\n",
       "</style>\n",
       "<table border=\"1\" class=\"dataframe\">\n",
       "  <thead>\n",
       "    <tr style=\"text-align: right;\">\n",
       "      <th></th>\n",
       "      <th>index</th>\n",
       "      <th>age</th>\n",
       "      <th>bmi</th>\n",
       "      <th>children</th>\n",
       "      <th>charges</th>\n",
       "    </tr>\n",
       "  </thead>\n",
       "  <tbody>\n",
       "    <tr>\n",
       "      <th>count</th>\n",
       "      <td>1338.000000</td>\n",
       "      <td>1338.000000</td>\n",
       "      <td>1338.000000</td>\n",
       "      <td>1338.000000</td>\n",
       "      <td>1338.000000</td>\n",
       "    </tr>\n",
       "    <tr>\n",
       "      <th>mean</th>\n",
       "      <td>668.500000</td>\n",
       "      <td>39.207025</td>\n",
       "      <td>30.663397</td>\n",
       "      <td>1.094918</td>\n",
       "      <td>13270.422265</td>\n",
       "    </tr>\n",
       "    <tr>\n",
       "      <th>std</th>\n",
       "      <td>386.391641</td>\n",
       "      <td>14.049960</td>\n",
       "      <td>6.098187</td>\n",
       "      <td>1.205493</td>\n",
       "      <td>12110.011237</td>\n",
       "    </tr>\n",
       "    <tr>\n",
       "      <th>min</th>\n",
       "      <td>0.000000</td>\n",
       "      <td>18.000000</td>\n",
       "      <td>15.960000</td>\n",
       "      <td>0.000000</td>\n",
       "      <td>1121.873900</td>\n",
       "    </tr>\n",
       "    <tr>\n",
       "      <th>25%</th>\n",
       "      <td>334.250000</td>\n",
       "      <td>27.000000</td>\n",
       "      <td>26.296250</td>\n",
       "      <td>0.000000</td>\n",
       "      <td>4740.287150</td>\n",
       "    </tr>\n",
       "    <tr>\n",
       "      <th>50%</th>\n",
       "      <td>668.500000</td>\n",
       "      <td>39.000000</td>\n",
       "      <td>30.400000</td>\n",
       "      <td>1.000000</td>\n",
       "      <td>9382.033000</td>\n",
       "    </tr>\n",
       "    <tr>\n",
       "      <th>75%</th>\n",
       "      <td>1002.750000</td>\n",
       "      <td>51.000000</td>\n",
       "      <td>34.693750</td>\n",
       "      <td>2.000000</td>\n",
       "      <td>16639.912515</td>\n",
       "    </tr>\n",
       "    <tr>\n",
       "      <th>max</th>\n",
       "      <td>1337.000000</td>\n",
       "      <td>64.000000</td>\n",
       "      <td>53.130000</td>\n",
       "      <td>5.000000</td>\n",
       "      <td>63770.428010</td>\n",
       "    </tr>\n",
       "  </tbody>\n",
       "</table>\n",
       "</div>"
      ],
      "text/plain": [
       "             index          age          bmi     children       charges\n",
       "count  1338.000000  1338.000000  1338.000000  1338.000000   1338.000000\n",
       "mean    668.500000    39.207025    30.663397     1.094918  13270.422265\n",
       "std     386.391641    14.049960     6.098187     1.205493  12110.011237\n",
       "min       0.000000    18.000000    15.960000     0.000000   1121.873900\n",
       "25%     334.250000    27.000000    26.296250     0.000000   4740.287150\n",
       "50%     668.500000    39.000000    30.400000     1.000000   9382.033000\n",
       "75%    1002.750000    51.000000    34.693750     2.000000  16639.912515\n",
       "max    1337.000000    64.000000    53.130000     5.000000  63770.428010"
      ]
     },
     "execution_count": 8,
     "metadata": {},
     "output_type": "execute_result"
    }
   ],
   "source": [
    "df.describe()"
   ]
  },
  {
   "cell_type": "code",
   "execution_count": 13,
   "id": "b3af483f",
   "metadata": {},
   "outputs": [
    {
     "data": {
      "text/html": [
       "<div>\n",
       "<style scoped>\n",
       "    .dataframe tbody tr th:only-of-type {\n",
       "        vertical-align: middle;\n",
       "    }\n",
       "\n",
       "    .dataframe tbody tr th {\n",
       "        vertical-align: top;\n",
       "    }\n",
       "\n",
       "    .dataframe thead th {\n",
       "        text-align: right;\n",
       "    }\n",
       "</style>\n",
       "<table border=\"1\" class=\"dataframe\">\n",
       "  <thead>\n",
       "    <tr style=\"text-align: right;\">\n",
       "      <th></th>\n",
       "      <th>index</th>\n",
       "      <th>age</th>\n",
       "      <th>sex</th>\n",
       "      <th>bmi</th>\n",
       "      <th>children</th>\n",
       "      <th>smoker</th>\n",
       "      <th>region</th>\n",
       "      <th>charges</th>\n",
       "    </tr>\n",
       "  </thead>\n",
       "  <tbody>\n",
       "    <tr>\n",
       "      <th>count</th>\n",
       "      <td>1338.000000</td>\n",
       "      <td>1338.000000</td>\n",
       "      <td>1338</td>\n",
       "      <td>1338.000000</td>\n",
       "      <td>1338.000000</td>\n",
       "      <td>1338</td>\n",
       "      <td>1338</td>\n",
       "      <td>1338.000000</td>\n",
       "    </tr>\n",
       "    <tr>\n",
       "      <th>unique</th>\n",
       "      <td>NaN</td>\n",
       "      <td>NaN</td>\n",
       "      <td>2</td>\n",
       "      <td>NaN</td>\n",
       "      <td>NaN</td>\n",
       "      <td>2</td>\n",
       "      <td>4</td>\n",
       "      <td>NaN</td>\n",
       "    </tr>\n",
       "    <tr>\n",
       "      <th>top</th>\n",
       "      <td>NaN</td>\n",
       "      <td>NaN</td>\n",
       "      <td>male</td>\n",
       "      <td>NaN</td>\n",
       "      <td>NaN</td>\n",
       "      <td>no</td>\n",
       "      <td>southeast</td>\n",
       "      <td>NaN</td>\n",
       "    </tr>\n",
       "    <tr>\n",
       "      <th>freq</th>\n",
       "      <td>NaN</td>\n",
       "      <td>NaN</td>\n",
       "      <td>676</td>\n",
       "      <td>NaN</td>\n",
       "      <td>NaN</td>\n",
       "      <td>1064</td>\n",
       "      <td>364</td>\n",
       "      <td>NaN</td>\n",
       "    </tr>\n",
       "    <tr>\n",
       "      <th>mean</th>\n",
       "      <td>668.500000</td>\n",
       "      <td>39.207025</td>\n",
       "      <td>NaN</td>\n",
       "      <td>30.663397</td>\n",
       "      <td>1.094918</td>\n",
       "      <td>NaN</td>\n",
       "      <td>NaN</td>\n",
       "      <td>13270.422265</td>\n",
       "    </tr>\n",
       "    <tr>\n",
       "      <th>std</th>\n",
       "      <td>386.391641</td>\n",
       "      <td>14.049960</td>\n",
       "      <td>NaN</td>\n",
       "      <td>6.098187</td>\n",
       "      <td>1.205493</td>\n",
       "      <td>NaN</td>\n",
       "      <td>NaN</td>\n",
       "      <td>12110.011237</td>\n",
       "    </tr>\n",
       "    <tr>\n",
       "      <th>min</th>\n",
       "      <td>0.000000</td>\n",
       "      <td>18.000000</td>\n",
       "      <td>NaN</td>\n",
       "      <td>15.960000</td>\n",
       "      <td>0.000000</td>\n",
       "      <td>NaN</td>\n",
       "      <td>NaN</td>\n",
       "      <td>1121.873900</td>\n",
       "    </tr>\n",
       "    <tr>\n",
       "      <th>25%</th>\n",
       "      <td>334.250000</td>\n",
       "      <td>27.000000</td>\n",
       "      <td>NaN</td>\n",
       "      <td>26.296250</td>\n",
       "      <td>0.000000</td>\n",
       "      <td>NaN</td>\n",
       "      <td>NaN</td>\n",
       "      <td>4740.287150</td>\n",
       "    </tr>\n",
       "    <tr>\n",
       "      <th>50%</th>\n",
       "      <td>668.500000</td>\n",
       "      <td>39.000000</td>\n",
       "      <td>NaN</td>\n",
       "      <td>30.400000</td>\n",
       "      <td>1.000000</td>\n",
       "      <td>NaN</td>\n",
       "      <td>NaN</td>\n",
       "      <td>9382.033000</td>\n",
       "    </tr>\n",
       "    <tr>\n",
       "      <th>75%</th>\n",
       "      <td>1002.750000</td>\n",
       "      <td>51.000000</td>\n",
       "      <td>NaN</td>\n",
       "      <td>34.693750</td>\n",
       "      <td>2.000000</td>\n",
       "      <td>NaN</td>\n",
       "      <td>NaN</td>\n",
       "      <td>16639.912515</td>\n",
       "    </tr>\n",
       "    <tr>\n",
       "      <th>max</th>\n",
       "      <td>1337.000000</td>\n",
       "      <td>64.000000</td>\n",
       "      <td>NaN</td>\n",
       "      <td>53.130000</td>\n",
       "      <td>5.000000</td>\n",
       "      <td>NaN</td>\n",
       "      <td>NaN</td>\n",
       "      <td>63770.428010</td>\n",
       "    </tr>\n",
       "  </tbody>\n",
       "</table>\n",
       "</div>"
      ],
      "text/plain": [
       "              index          age   sex          bmi     children smoker  \\\n",
       "count   1338.000000  1338.000000  1338  1338.000000  1338.000000   1338   \n",
       "unique          NaN          NaN     2          NaN          NaN      2   \n",
       "top             NaN          NaN  male          NaN          NaN     no   \n",
       "freq            NaN          NaN   676          NaN          NaN   1064   \n",
       "mean     668.500000    39.207025   NaN    30.663397     1.094918    NaN   \n",
       "std      386.391641    14.049960   NaN     6.098187     1.205493    NaN   \n",
       "min        0.000000    18.000000   NaN    15.960000     0.000000    NaN   \n",
       "25%      334.250000    27.000000   NaN    26.296250     0.000000    NaN   \n",
       "50%      668.500000    39.000000   NaN    30.400000     1.000000    NaN   \n",
       "75%     1002.750000    51.000000   NaN    34.693750     2.000000    NaN   \n",
       "max     1337.000000    64.000000   NaN    53.130000     5.000000    NaN   \n",
       "\n",
       "           region       charges  \n",
       "count        1338   1338.000000  \n",
       "unique          4           NaN  \n",
       "top     southeast           NaN  \n",
       "freq          364           NaN  \n",
       "mean          NaN  13270.422265  \n",
       "std           NaN  12110.011237  \n",
       "min           NaN   1121.873900  \n",
       "25%           NaN   4740.287150  \n",
       "50%           NaN   9382.033000  \n",
       "75%           NaN  16639.912515  \n",
       "max           NaN  63770.428010  "
      ]
     },
     "execution_count": 13,
     "metadata": {},
     "output_type": "execute_result"
    }
   ],
   "source": [
    "df.describe(include=\"all\")"
   ]
  },
  {
   "cell_type": "code",
   "execution_count": 10,
   "id": "003a1c7d",
   "metadata": {},
   "outputs": [
    {
     "data": {
      "text/plain": [
       "index               0\n",
       "age                18\n",
       "sex            female\n",
       "bmi             15.96\n",
       "children            0\n",
       "smoker             no\n",
       "region      northeast\n",
       "charges     1121.8739\n",
       "dtype: object"
      ]
     },
     "execution_count": 10,
     "metadata": {},
     "output_type": "execute_result"
    }
   ],
   "source": [
    "df.min()"
   ]
  },
  {
   "cell_type": "code",
   "execution_count": 11,
   "id": "5b65fb8e",
   "metadata": {},
   "outputs": [
    {
     "data": {
      "text/plain": [
       "age    18\n",
       "dtype: int64"
      ]
     },
     "execution_count": 11,
     "metadata": {},
     "output_type": "execute_result"
    }
   ],
   "source": [
    "df[['age']].min()"
   ]
  },
  {
   "cell_type": "code",
   "execution_count": 18,
   "id": "87078f01",
   "metadata": {},
   "outputs": [
    {
     "data": {
      "text/plain": [
       "array(['female', 'male'], dtype=object)"
      ]
     },
     "execution_count": 18,
     "metadata": {},
     "output_type": "execute_result"
    }
   ],
   "source": [
    "df['sex'].unique()"
   ]
  },
  {
   "cell_type": "code",
   "execution_count": 17,
   "id": "8e4759f8",
   "metadata": {},
   "outputs": [
    {
     "data": {
      "text/plain": [
       "male      676\n",
       "female    662\n",
       "Name: sex, dtype: int64"
      ]
     },
     "execution_count": 17,
     "metadata": {},
     "output_type": "execute_result"
    }
   ],
   "source": [
    "df['sex'].value_counts()"
   ]
  },
  {
   "cell_type": "markdown",
   "id": "f7434223",
   "metadata": {},
   "source": [
    "### 2.2.4 Selección de columnas y filas"
   ]
  },
  {
   "cell_type": "code",
   "execution_count": 21,
   "id": "be3677a8",
   "metadata": {},
   "outputs": [
    {
     "data": {
      "text/plain": [
       "0       female\n",
       "1         male\n",
       "2         male\n",
       "3         male\n",
       "4         male\n",
       "         ...  \n",
       "1333      male\n",
       "1334    female\n",
       "1335    female\n",
       "1336    female\n",
       "1337    female\n",
       "Name: sex, Length: 1338, dtype: object"
      ]
     },
     "execution_count": 21,
     "metadata": {},
     "output_type": "execute_result"
    }
   ],
   "source": [
    "df.sex"
   ]
  },
  {
   "cell_type": "code",
   "execution_count": 22,
   "id": "156bb7a4",
   "metadata": {},
   "outputs": [
    {
     "data": {
      "text/plain": [
       "0       female\n",
       "1         male\n",
       "2         male\n",
       "3         male\n",
       "4         male\n",
       "         ...  \n",
       "1333      male\n",
       "1334    female\n",
       "1335    female\n",
       "1336    female\n",
       "1337    female\n",
       "Name: sex, Length: 1338, dtype: object"
      ]
     },
     "execution_count": 22,
     "metadata": {},
     "output_type": "execute_result"
    }
   ],
   "source": [
    "df['sex']"
   ]
  },
  {
   "cell_type": "code",
   "execution_count": 23,
   "id": "b24712d3",
   "metadata": {},
   "outputs": [
    {
     "data": {
      "text/html": [
       "<div>\n",
       "<style scoped>\n",
       "    .dataframe tbody tr th:only-of-type {\n",
       "        vertical-align: middle;\n",
       "    }\n",
       "\n",
       "    .dataframe tbody tr th {\n",
       "        vertical-align: top;\n",
       "    }\n",
       "\n",
       "    .dataframe thead th {\n",
       "        text-align: right;\n",
       "    }\n",
       "</style>\n",
       "<table border=\"1\" class=\"dataframe\">\n",
       "  <thead>\n",
       "    <tr style=\"text-align: right;\">\n",
       "      <th></th>\n",
       "      <th>sex</th>\n",
       "      <th>age</th>\n",
       "    </tr>\n",
       "  </thead>\n",
       "  <tbody>\n",
       "    <tr>\n",
       "      <th>0</th>\n",
       "      <td>female</td>\n",
       "      <td>19</td>\n",
       "    </tr>\n",
       "    <tr>\n",
       "      <th>1</th>\n",
       "      <td>male</td>\n",
       "      <td>18</td>\n",
       "    </tr>\n",
       "    <tr>\n",
       "      <th>2</th>\n",
       "      <td>male</td>\n",
       "      <td>28</td>\n",
       "    </tr>\n",
       "    <tr>\n",
       "      <th>3</th>\n",
       "      <td>male</td>\n",
       "      <td>33</td>\n",
       "    </tr>\n",
       "    <tr>\n",
       "      <th>4</th>\n",
       "      <td>male</td>\n",
       "      <td>32</td>\n",
       "    </tr>\n",
       "    <tr>\n",
       "      <th>...</th>\n",
       "      <td>...</td>\n",
       "      <td>...</td>\n",
       "    </tr>\n",
       "    <tr>\n",
       "      <th>1333</th>\n",
       "      <td>male</td>\n",
       "      <td>50</td>\n",
       "    </tr>\n",
       "    <tr>\n",
       "      <th>1334</th>\n",
       "      <td>female</td>\n",
       "      <td>18</td>\n",
       "    </tr>\n",
       "    <tr>\n",
       "      <th>1335</th>\n",
       "      <td>female</td>\n",
       "      <td>18</td>\n",
       "    </tr>\n",
       "    <tr>\n",
       "      <th>1336</th>\n",
       "      <td>female</td>\n",
       "      <td>21</td>\n",
       "    </tr>\n",
       "    <tr>\n",
       "      <th>1337</th>\n",
       "      <td>female</td>\n",
       "      <td>61</td>\n",
       "    </tr>\n",
       "  </tbody>\n",
       "</table>\n",
       "<p>1338 rows × 2 columns</p>\n",
       "</div>"
      ],
      "text/plain": [
       "         sex  age\n",
       "0     female   19\n",
       "1       male   18\n",
       "2       male   28\n",
       "3       male   33\n",
       "4       male   32\n",
       "...      ...  ...\n",
       "1333    male   50\n",
       "1334  female   18\n",
       "1335  female   18\n",
       "1336  female   21\n",
       "1337  female   61\n",
       "\n",
       "[1338 rows x 2 columns]"
      ]
     },
     "execution_count": 23,
     "metadata": {},
     "output_type": "execute_result"
    }
   ],
   "source": [
    "df[['sex','age']]"
   ]
  },
  {
   "cell_type": "code",
   "execution_count": 28,
   "id": "a95b8881",
   "metadata": {},
   "outputs": [
    {
     "data": {
      "text/html": [
       "<div>\n",
       "<style scoped>\n",
       "    .dataframe tbody tr th:only-of-type {\n",
       "        vertical-align: middle;\n",
       "    }\n",
       "\n",
       "    .dataframe tbody tr th {\n",
       "        vertical-align: top;\n",
       "    }\n",
       "\n",
       "    .dataframe thead th {\n",
       "        text-align: right;\n",
       "    }\n",
       "</style>\n",
       "<table border=\"1\" class=\"dataframe\">\n",
       "  <thead>\n",
       "    <tr style=\"text-align: right;\">\n",
       "      <th></th>\n",
       "      <th>index</th>\n",
       "      <th>age</th>\n",
       "      <th>sex</th>\n",
       "      <th>bmi</th>\n",
       "      <th>children</th>\n",
       "      <th>smoker</th>\n",
       "      <th>region</th>\n",
       "      <th>charges</th>\n",
       "    </tr>\n",
       "  </thead>\n",
       "  <tbody>\n",
       "    <tr>\n",
       "      <th>50</th>\n",
       "      <td>50</td>\n",
       "      <td>18</td>\n",
       "      <td>female</td>\n",
       "      <td>35.625</td>\n",
       "      <td>0</td>\n",
       "      <td>no</td>\n",
       "      <td>northeast</td>\n",
       "      <td>2211.13075</td>\n",
       "    </tr>\n",
       "    <tr>\n",
       "      <th>51</th>\n",
       "      <td>51</td>\n",
       "      <td>21</td>\n",
       "      <td>female</td>\n",
       "      <td>33.630</td>\n",
       "      <td>2</td>\n",
       "      <td>no</td>\n",
       "      <td>northwest</td>\n",
       "      <td>3579.82870</td>\n",
       "    </tr>\n",
       "    <tr>\n",
       "      <th>52</th>\n",
       "      <td>52</td>\n",
       "      <td>48</td>\n",
       "      <td>male</td>\n",
       "      <td>28.000</td>\n",
       "      <td>1</td>\n",
       "      <td>yes</td>\n",
       "      <td>southwest</td>\n",
       "      <td>23568.27200</td>\n",
       "    </tr>\n",
       "    <tr>\n",
       "      <th>53</th>\n",
       "      <td>53</td>\n",
       "      <td>36</td>\n",
       "      <td>male</td>\n",
       "      <td>34.430</td>\n",
       "      <td>0</td>\n",
       "      <td>yes</td>\n",
       "      <td>southeast</td>\n",
       "      <td>37742.57570</td>\n",
       "    </tr>\n",
       "    <tr>\n",
       "      <th>54</th>\n",
       "      <td>54</td>\n",
       "      <td>40</td>\n",
       "      <td>female</td>\n",
       "      <td>28.690</td>\n",
       "      <td>3</td>\n",
       "      <td>no</td>\n",
       "      <td>northwest</td>\n",
       "      <td>8059.67910</td>\n",
       "    </tr>\n",
       "  </tbody>\n",
       "</table>\n",
       "</div>"
      ],
      "text/plain": [
       "    index  age     sex     bmi  children smoker     region      charges\n",
       "50     50   18  female  35.625         0     no  northeast   2211.13075\n",
       "51     51   21  female  33.630         2     no  northwest   3579.82870\n",
       "52     52   48    male  28.000         1    yes  southwest  23568.27200\n",
       "53     53   36    male  34.430         0    yes  southeast  37742.57570\n",
       "54     54   40  female  28.690         3     no  northwest   8059.67910"
      ]
     },
     "execution_count": 28,
     "metadata": {},
     "output_type": "execute_result"
    }
   ],
   "source": [
    "# selección de filas de la 50 a la 55\n",
    "df[50:55]"
   ]
  },
  {
   "cell_type": "code",
   "execution_count": 30,
   "id": "254631cc",
   "metadata": {},
   "outputs": [
    {
     "data": {
      "text/html": [
       "<div>\n",
       "<style scoped>\n",
       "    .dataframe tbody tr th:only-of-type {\n",
       "        vertical-align: middle;\n",
       "    }\n",
       "\n",
       "    .dataframe tbody tr th {\n",
       "        vertical-align: top;\n",
       "    }\n",
       "\n",
       "    .dataframe thead th {\n",
       "        text-align: right;\n",
       "    }\n",
       "</style>\n",
       "<table border=\"1\" class=\"dataframe\">\n",
       "  <thead>\n",
       "    <tr style=\"text-align: right;\">\n",
       "      <th></th>\n",
       "      <th>age</th>\n",
       "      <th>charges</th>\n",
       "    </tr>\n",
       "  </thead>\n",
       "  <tbody>\n",
       "    <tr>\n",
       "      <th>0</th>\n",
       "      <td>19</td>\n",
       "      <td>16884.92400</td>\n",
       "    </tr>\n",
       "    <tr>\n",
       "      <th>1</th>\n",
       "      <td>18</td>\n",
       "      <td>1725.55230</td>\n",
       "    </tr>\n",
       "    <tr>\n",
       "      <th>2</th>\n",
       "      <td>28</td>\n",
       "      <td>4449.46200</td>\n",
       "    </tr>\n",
       "    <tr>\n",
       "      <th>3</th>\n",
       "      <td>33</td>\n",
       "      <td>21984.47061</td>\n",
       "    </tr>\n",
       "    <tr>\n",
       "      <th>4</th>\n",
       "      <td>32</td>\n",
       "      <td>3866.85520</td>\n",
       "    </tr>\n",
       "  </tbody>\n",
       "</table>\n",
       "</div>"
      ],
      "text/plain": [
       "   age      charges\n",
       "0   19  16884.92400\n",
       "1   18   1725.55230\n",
       "2   28   4449.46200\n",
       "3   33  21984.47061\n",
       "4   32   3866.85520"
      ]
     },
     "execution_count": 30,
     "metadata": {},
     "output_type": "execute_result"
    }
   ],
   "source": [
    "df[['age','charges']][0:5]"
   ]
  },
  {
   "cell_type": "markdown",
   "id": "e7d5f3a2",
   "metadata": {},
   "source": [
    "### 2.2.5 Atributo loc"
   ]
  },
  {
   "cell_type": "code",
   "execution_count": 40,
   "id": "36b76207",
   "metadata": {},
   "outputs": [
    {
     "data": {
      "text/html": [
       "<div>\n",
       "<style scoped>\n",
       "    .dataframe tbody tr th:only-of-type {\n",
       "        vertical-align: middle;\n",
       "    }\n",
       "\n",
       "    .dataframe tbody tr th {\n",
       "        vertical-align: top;\n",
       "    }\n",
       "\n",
       "    .dataframe thead th {\n",
       "        text-align: right;\n",
       "    }\n",
       "</style>\n",
       "<table border=\"1\" class=\"dataframe\">\n",
       "  <thead>\n",
       "    <tr style=\"text-align: right;\">\n",
       "      <th></th>\n",
       "      <th>index</th>\n",
       "      <th>age</th>\n",
       "      <th>sex</th>\n",
       "      <th>bmi</th>\n",
       "      <th>children</th>\n",
       "      <th>smoker</th>\n",
       "      <th>region</th>\n",
       "      <th>charges</th>\n",
       "    </tr>\n",
       "  </thead>\n",
       "  <tbody>\n",
       "    <tr>\n",
       "      <th>50</th>\n",
       "      <td>50</td>\n",
       "      <td>18</td>\n",
       "      <td>female</td>\n",
       "      <td>35.625</td>\n",
       "      <td>0</td>\n",
       "      <td>no</td>\n",
       "      <td>northeast</td>\n",
       "      <td>2211.13075</td>\n",
       "    </tr>\n",
       "    <tr>\n",
       "      <th>51</th>\n",
       "      <td>51</td>\n",
       "      <td>21</td>\n",
       "      <td>female</td>\n",
       "      <td>33.630</td>\n",
       "      <td>2</td>\n",
       "      <td>no</td>\n",
       "      <td>northwest</td>\n",
       "      <td>3579.82870</td>\n",
       "    </tr>\n",
       "    <tr>\n",
       "      <th>52</th>\n",
       "      <td>52</td>\n",
       "      <td>48</td>\n",
       "      <td>male</td>\n",
       "      <td>28.000</td>\n",
       "      <td>1</td>\n",
       "      <td>yes</td>\n",
       "      <td>southwest</td>\n",
       "      <td>23568.27200</td>\n",
       "    </tr>\n",
       "    <tr>\n",
       "      <th>53</th>\n",
       "      <td>53</td>\n",
       "      <td>36</td>\n",
       "      <td>male</td>\n",
       "      <td>34.430</td>\n",
       "      <td>0</td>\n",
       "      <td>yes</td>\n",
       "      <td>southeast</td>\n",
       "      <td>37742.57570</td>\n",
       "    </tr>\n",
       "    <tr>\n",
       "      <th>54</th>\n",
       "      <td>54</td>\n",
       "      <td>40</td>\n",
       "      <td>female</td>\n",
       "      <td>28.690</td>\n",
       "      <td>3</td>\n",
       "      <td>no</td>\n",
       "      <td>northwest</td>\n",
       "      <td>8059.67910</td>\n",
       "    </tr>\n",
       "    <tr>\n",
       "      <th>55</th>\n",
       "      <td>55</td>\n",
       "      <td>58</td>\n",
       "      <td>male</td>\n",
       "      <td>36.955</td>\n",
       "      <td>2</td>\n",
       "      <td>yes</td>\n",
       "      <td>northwest</td>\n",
       "      <td>47496.49445</td>\n",
       "    </tr>\n",
       "  </tbody>\n",
       "</table>\n",
       "</div>"
      ],
      "text/plain": [
       "    index  age     sex     bmi  children smoker     region      charges\n",
       "50     50   18  female  35.625         0     no  northeast   2211.13075\n",
       "51     51   21  female  33.630         2     no  northwest   3579.82870\n",
       "52     52   48    male  28.000         1    yes  southwest  23568.27200\n",
       "53     53   36    male  34.430         0    yes  southeast  37742.57570\n",
       "54     54   40  female  28.690         3     no  northwest   8059.67910\n",
       "55     55   58    male  36.955         2    yes  northwest  47496.49445"
      ]
     },
     "execution_count": 40,
     "metadata": {},
     "output_type": "execute_result"
    }
   ],
   "source": [
    "# selección de filas de la 50 a la 55\n",
    "df.loc[50:55]"
   ]
  },
  {
   "cell_type": "code",
   "execution_count": 17,
   "id": "4b2cb610",
   "metadata": {},
   "outputs": [
    {
     "data": {
      "text/plain": [
       "0       19\n",
       "1       18\n",
       "2       28\n",
       "3       33\n",
       "4       32\n",
       "        ..\n",
       "1333    50\n",
       "1334    18\n",
       "1335    18\n",
       "1336    21\n",
       "1337    61\n",
       "Name: age, Length: 1338, dtype: int64"
      ]
     },
     "execution_count": 17,
     "metadata": {},
     "output_type": "execute_result"
    }
   ],
   "source": [
    "# selección de todas las filas y la columna age\n",
    "df.loc[:,'age']"
   ]
  },
  {
   "cell_type": "code",
   "execution_count": 38,
   "id": "93a8dc04",
   "metadata": {},
   "outputs": [
    {
     "data": {
      "text/html": [
       "<div>\n",
       "<style scoped>\n",
       "    .dataframe tbody tr th:only-of-type {\n",
       "        vertical-align: middle;\n",
       "    }\n",
       "\n",
       "    .dataframe tbody tr th {\n",
       "        vertical-align: top;\n",
       "    }\n",
       "\n",
       "    .dataframe thead th {\n",
       "        text-align: right;\n",
       "    }\n",
       "</style>\n",
       "<table border=\"1\" class=\"dataframe\">\n",
       "  <thead>\n",
       "    <tr style=\"text-align: right;\">\n",
       "      <th></th>\n",
       "      <th>age</th>\n",
       "      <th>charges</th>\n",
       "    </tr>\n",
       "  </thead>\n",
       "  <tbody>\n",
       "    <tr>\n",
       "      <th>10</th>\n",
       "      <td>25</td>\n",
       "      <td>2721.3208</td>\n",
       "    </tr>\n",
       "    <tr>\n",
       "      <th>11</th>\n",
       "      <td>62</td>\n",
       "      <td>27808.7251</td>\n",
       "    </tr>\n",
       "    <tr>\n",
       "      <th>12</th>\n",
       "      <td>23</td>\n",
       "      <td>1826.8430</td>\n",
       "    </tr>\n",
       "    <tr>\n",
       "      <th>13</th>\n",
       "      <td>56</td>\n",
       "      <td>11090.7178</td>\n",
       "    </tr>\n",
       "    <tr>\n",
       "      <th>14</th>\n",
       "      <td>27</td>\n",
       "      <td>39611.7577</td>\n",
       "    </tr>\n",
       "    <tr>\n",
       "      <th>15</th>\n",
       "      <td>19</td>\n",
       "      <td>1837.2370</td>\n",
       "    </tr>\n",
       "  </tbody>\n",
       "</table>\n",
       "</div>"
      ],
      "text/plain": [
       "    age     charges\n",
       "10   25   2721.3208\n",
       "11   62  27808.7251\n",
       "12   23   1826.8430\n",
       "13   56  11090.7178\n",
       "14   27  39611.7577\n",
       "15   19   1837.2370"
      ]
     },
     "execution_count": 38,
     "metadata": {},
     "output_type": "execute_result"
    }
   ],
   "source": [
    "# selección las filas de la 10  a la 15 y las columnas age y charges\n",
    "df.loc[10:15,['age','charges']]"
   ]
  },
  {
   "cell_type": "markdown",
   "id": "178ebbbe",
   "metadata": {},
   "source": [
    "### 2.2.6 Atributo iloc"
   ]
  },
  {
   "cell_type": "code",
   "execution_count": 19,
   "id": "a8263cc8",
   "metadata": {},
   "outputs": [
    {
     "data": {
      "text/html": [
       "<div>\n",
       "<style scoped>\n",
       "    .dataframe tbody tr th:only-of-type {\n",
       "        vertical-align: middle;\n",
       "    }\n",
       "\n",
       "    .dataframe tbody tr th {\n",
       "        vertical-align: top;\n",
       "    }\n",
       "\n",
       "    .dataframe thead th {\n",
       "        text-align: right;\n",
       "    }\n",
       "</style>\n",
       "<table border=\"1\" class=\"dataframe\">\n",
       "  <thead>\n",
       "    <tr style=\"text-align: right;\">\n",
       "      <th></th>\n",
       "      <th>age</th>\n",
       "      <th>bmi</th>\n",
       "    </tr>\n",
       "  </thead>\n",
       "  <tbody>\n",
       "    <tr>\n",
       "      <th>10</th>\n",
       "      <td>25</td>\n",
       "      <td>26.22</td>\n",
       "    </tr>\n",
       "    <tr>\n",
       "      <th>11</th>\n",
       "      <td>62</td>\n",
       "      <td>26.29</td>\n",
       "    </tr>\n",
       "    <tr>\n",
       "      <th>12</th>\n",
       "      <td>23</td>\n",
       "      <td>34.40</td>\n",
       "    </tr>\n",
       "    <tr>\n",
       "      <th>13</th>\n",
       "      <td>56</td>\n",
       "      <td>39.82</td>\n",
       "    </tr>\n",
       "    <tr>\n",
       "      <th>14</th>\n",
       "      <td>27</td>\n",
       "      <td>42.13</td>\n",
       "    </tr>\n",
       "  </tbody>\n",
       "</table>\n",
       "</div>"
      ],
      "text/plain": [
       "    age    bmi\n",
       "10   25  26.22\n",
       "11   62  26.29\n",
       "12   23  34.40\n",
       "13   56  39.82\n",
       "14   27  42.13"
      ]
     },
     "execution_count": 19,
     "metadata": {},
     "output_type": "execute_result"
    }
   ],
   "source": [
    "df.iloc[10:15, [1, 3]]"
   ]
  },
  {
   "cell_type": "code",
   "execution_count": 21,
   "id": "bbb456c0",
   "metadata": {},
   "outputs": [
    {
     "data": {
      "text/html": [
       "<div>\n",
       "<style scoped>\n",
       "    .dataframe tbody tr th:only-of-type {\n",
       "        vertical-align: middle;\n",
       "    }\n",
       "\n",
       "    .dataframe tbody tr th {\n",
       "        vertical-align: top;\n",
       "    }\n",
       "\n",
       "    .dataframe thead th {\n",
       "        text-align: right;\n",
       "    }\n",
       "</style>\n",
       "<table border=\"1\" class=\"dataframe\">\n",
       "  <thead>\n",
       "    <tr style=\"text-align: right;\">\n",
       "      <th></th>\n",
       "      <th>age</th>\n",
       "      <th>sex</th>\n",
       "      <th>bmi</th>\n",
       "    </tr>\n",
       "  </thead>\n",
       "  <tbody>\n",
       "    <tr>\n",
       "      <th>10</th>\n",
       "      <td>25</td>\n",
       "      <td>male</td>\n",
       "      <td>26.22</td>\n",
       "    </tr>\n",
       "    <tr>\n",
       "      <th>11</th>\n",
       "      <td>62</td>\n",
       "      <td>female</td>\n",
       "      <td>26.29</td>\n",
       "    </tr>\n",
       "    <tr>\n",
       "      <th>12</th>\n",
       "      <td>23</td>\n",
       "      <td>male</td>\n",
       "      <td>34.40</td>\n",
       "    </tr>\n",
       "    <tr>\n",
       "      <th>13</th>\n",
       "      <td>56</td>\n",
       "      <td>female</td>\n",
       "      <td>39.82</td>\n",
       "    </tr>\n",
       "    <tr>\n",
       "      <th>14</th>\n",
       "      <td>27</td>\n",
       "      <td>male</td>\n",
       "      <td>42.13</td>\n",
       "    </tr>\n",
       "  </tbody>\n",
       "</table>\n",
       "</div>"
      ],
      "text/plain": [
       "    age     sex    bmi\n",
       "10   25    male  26.22\n",
       "11   62  female  26.29\n",
       "12   23    male  34.40\n",
       "13   56  female  39.82\n",
       "14   27    male  42.13"
      ]
     },
     "execution_count": 21,
     "metadata": {},
     "output_type": "execute_result"
    }
   ],
   "source": [
    "df.iloc[10:15, 1:4]"
   ]
  },
  {
   "cell_type": "code",
   "execution_count": 30,
   "id": "eaa4056d",
   "metadata": {},
   "outputs": [
    {
     "data": {
      "text/html": [
       "<div>\n",
       "<style scoped>\n",
       "    .dataframe tbody tr th:only-of-type {\n",
       "        vertical-align: middle;\n",
       "    }\n",
       "\n",
       "    .dataframe tbody tr th {\n",
       "        vertical-align: top;\n",
       "    }\n",
       "\n",
       "    .dataframe thead th {\n",
       "        text-align: right;\n",
       "    }\n",
       "</style>\n",
       "<table border=\"1\" class=\"dataframe\">\n",
       "  <thead>\n",
       "    <tr style=\"text-align: right;\">\n",
       "      <th></th>\n",
       "      <th>index</th>\n",
       "      <th>age</th>\n",
       "      <th>sex</th>\n",
       "      <th>bmi</th>\n",
       "      <th>children</th>\n",
       "      <th>smoker</th>\n",
       "      <th>region</th>\n",
       "      <th>charges</th>\n",
       "    </tr>\n",
       "  </thead>\n",
       "  <tbody>\n",
       "    <tr>\n",
       "      <th>34</th>\n",
       "      <td>34</td>\n",
       "      <td>28</td>\n",
       "      <td>male</td>\n",
       "      <td>36.400</td>\n",
       "      <td>1</td>\n",
       "      <td>yes</td>\n",
       "      <td>southwest</td>\n",
       "      <td>51194.55914</td>\n",
       "    </tr>\n",
       "    <tr>\n",
       "      <th>543</th>\n",
       "      <td>543</td>\n",
       "      <td>54</td>\n",
       "      <td>female</td>\n",
       "      <td>47.410</td>\n",
       "      <td>0</td>\n",
       "      <td>yes</td>\n",
       "      <td>southeast</td>\n",
       "      <td>63770.42801</td>\n",
       "    </tr>\n",
       "    <tr>\n",
       "      <th>577</th>\n",
       "      <td>577</td>\n",
       "      <td>31</td>\n",
       "      <td>female</td>\n",
       "      <td>38.095</td>\n",
       "      <td>1</td>\n",
       "      <td>yes</td>\n",
       "      <td>northeast</td>\n",
       "      <td>58571.07448</td>\n",
       "    </tr>\n",
       "    <tr>\n",
       "      <th>819</th>\n",
       "      <td>819</td>\n",
       "      <td>33</td>\n",
       "      <td>female</td>\n",
       "      <td>35.530</td>\n",
       "      <td>0</td>\n",
       "      <td>yes</td>\n",
       "      <td>northwest</td>\n",
       "      <td>55135.40209</td>\n",
       "    </tr>\n",
       "    <tr>\n",
       "      <th>1146</th>\n",
       "      <td>1146</td>\n",
       "      <td>60</td>\n",
       "      <td>male</td>\n",
       "      <td>32.800</td>\n",
       "      <td>0</td>\n",
       "      <td>yes</td>\n",
       "      <td>southwest</td>\n",
       "      <td>52590.82939</td>\n",
       "    </tr>\n",
       "    <tr>\n",
       "      <th>1230</th>\n",
       "      <td>1230</td>\n",
       "      <td>52</td>\n",
       "      <td>male</td>\n",
       "      <td>34.485</td>\n",
       "      <td>3</td>\n",
       "      <td>yes</td>\n",
       "      <td>northwest</td>\n",
       "      <td>60021.39897</td>\n",
       "    </tr>\n",
       "    <tr>\n",
       "      <th>1300</th>\n",
       "      <td>1300</td>\n",
       "      <td>45</td>\n",
       "      <td>male</td>\n",
       "      <td>30.360</td>\n",
       "      <td>0</td>\n",
       "      <td>yes</td>\n",
       "      <td>southeast</td>\n",
       "      <td>62592.87309</td>\n",
       "    </tr>\n",
       "  </tbody>\n",
       "</table>\n",
       "</div>"
      ],
      "text/plain": [
       "      index  age     sex     bmi  children smoker     region      charges\n",
       "34       34   28    male  36.400         1    yes  southwest  51194.55914\n",
       "543     543   54  female  47.410         0    yes  southeast  63770.42801\n",
       "577     577   31  female  38.095         1    yes  northeast  58571.07448\n",
       "819     819   33  female  35.530         0    yes  northwest  55135.40209\n",
       "1146   1146   60    male  32.800         0    yes  southwest  52590.82939\n",
       "1230   1230   52    male  34.485         3    yes  northwest  60021.39897\n",
       "1300   1300   45    male  30.360         0    yes  southeast  62592.87309"
      ]
     },
     "execution_count": 30,
     "metadata": {},
     "output_type": "execute_result"
    }
   ],
   "source": [
    "df[df.charges > 50000]"
   ]
  },
  {
   "cell_type": "code",
   "execution_count": 33,
   "id": "88a27226",
   "metadata": {},
   "outputs": [
    {
     "data": {
      "text/html": [
       "<div>\n",
       "<style scoped>\n",
       "    .dataframe tbody tr th:only-of-type {\n",
       "        vertical-align: middle;\n",
       "    }\n",
       "\n",
       "    .dataframe tbody tr th {\n",
       "        vertical-align: top;\n",
       "    }\n",
       "\n",
       "    .dataframe thead th {\n",
       "        text-align: right;\n",
       "    }\n",
       "</style>\n",
       "<table border=\"1\" class=\"dataframe\">\n",
       "  <thead>\n",
       "    <tr style=\"text-align: right;\">\n",
       "      <th></th>\n",
       "      <th>index</th>\n",
       "      <th>age</th>\n",
       "      <th>sex</th>\n",
       "      <th>bmi</th>\n",
       "      <th>children</th>\n",
       "      <th>smoker</th>\n",
       "      <th>region</th>\n",
       "      <th>charges</th>\n",
       "    </tr>\n",
       "  </thead>\n",
       "  <tbody>\n",
       "    <tr>\n",
       "      <th>34</th>\n",
       "      <td>34</td>\n",
       "      <td>28</td>\n",
       "      <td>male</td>\n",
       "      <td>36.400</td>\n",
       "      <td>1</td>\n",
       "      <td>yes</td>\n",
       "      <td>southwest</td>\n",
       "      <td>51194.55914</td>\n",
       "    </tr>\n",
       "    <tr>\n",
       "      <th>577</th>\n",
       "      <td>577</td>\n",
       "      <td>31</td>\n",
       "      <td>female</td>\n",
       "      <td>38.095</td>\n",
       "      <td>1</td>\n",
       "      <td>yes</td>\n",
       "      <td>northeast</td>\n",
       "      <td>58571.07448</td>\n",
       "    </tr>\n",
       "    <tr>\n",
       "      <th>819</th>\n",
       "      <td>819</td>\n",
       "      <td>33</td>\n",
       "      <td>female</td>\n",
       "      <td>35.530</td>\n",
       "      <td>0</td>\n",
       "      <td>yes</td>\n",
       "      <td>northwest</td>\n",
       "      <td>55135.40209</td>\n",
       "    </tr>\n",
       "    <tr>\n",
       "      <th>1146</th>\n",
       "      <td>1146</td>\n",
       "      <td>60</td>\n",
       "      <td>male</td>\n",
       "      <td>32.800</td>\n",
       "      <td>0</td>\n",
       "      <td>yes</td>\n",
       "      <td>southwest</td>\n",
       "      <td>52590.82939</td>\n",
       "    </tr>\n",
       "  </tbody>\n",
       "</table>\n",
       "</div>"
      ],
      "text/plain": [
       "      index  age     sex     bmi  children smoker     region      charges\n",
       "34       34   28    male  36.400         1    yes  southwest  51194.55914\n",
       "577     577   31  female  38.095         1    yes  northeast  58571.07448\n",
       "819     819   33  female  35.530         0    yes  northwest  55135.40209\n",
       "1146   1146   60    male  32.800         0    yes  southwest  52590.82939"
      ]
     },
     "execution_count": 33,
     "metadata": {},
     "output_type": "execute_result"
    }
   ],
   "source": [
    "df.loc[(df.charges > 50000) & (df.charges < 60000)]"
   ]
  },
  {
   "cell_type": "code",
   "execution_count": 38,
   "id": "db933816",
   "metadata": {},
   "outputs": [
    {
     "data": {
      "text/html": [
       "<div>\n",
       "<style scoped>\n",
       "    .dataframe tbody tr th:only-of-type {\n",
       "        vertical-align: middle;\n",
       "    }\n",
       "\n",
       "    .dataframe tbody tr th {\n",
       "        vertical-align: top;\n",
       "    }\n",
       "\n",
       "    .dataframe thead th {\n",
       "        text-align: right;\n",
       "    }\n",
       "</style>\n",
       "<table border=\"1\" class=\"dataframe\">\n",
       "  <thead>\n",
       "    <tr style=\"text-align: right;\">\n",
       "      <th></th>\n",
       "      <th>index</th>\n",
       "      <th>age</th>\n",
       "      <th>sex</th>\n",
       "      <th>bmi</th>\n",
       "      <th>children</th>\n",
       "      <th>smoker</th>\n",
       "      <th>region</th>\n",
       "      <th>charges</th>\n",
       "      <th>country</th>\n",
       "    </tr>\n",
       "  </thead>\n",
       "  <tbody>\n",
       "    <tr>\n",
       "      <th>0</th>\n",
       "      <td>0</td>\n",
       "      <td>19</td>\n",
       "      <td>female</td>\n",
       "      <td>27.900</td>\n",
       "      <td>0</td>\n",
       "      <td>yes</td>\n",
       "      <td>southwest</td>\n",
       "      <td>16884.92400</td>\n",
       "      <td>USA</td>\n",
       "    </tr>\n",
       "    <tr>\n",
       "      <th>1</th>\n",
       "      <td>1</td>\n",
       "      <td>18</td>\n",
       "      <td>male</td>\n",
       "      <td>33.770</td>\n",
       "      <td>1</td>\n",
       "      <td>no</td>\n",
       "      <td>southeast</td>\n",
       "      <td>1725.55230</td>\n",
       "      <td>USA</td>\n",
       "    </tr>\n",
       "    <tr>\n",
       "      <th>2</th>\n",
       "      <td>2</td>\n",
       "      <td>28</td>\n",
       "      <td>male</td>\n",
       "      <td>33.000</td>\n",
       "      <td>3</td>\n",
       "      <td>no</td>\n",
       "      <td>southeast</td>\n",
       "      <td>4449.46200</td>\n",
       "      <td>USA</td>\n",
       "    </tr>\n",
       "    <tr>\n",
       "      <th>3</th>\n",
       "      <td>3</td>\n",
       "      <td>33</td>\n",
       "      <td>male</td>\n",
       "      <td>22.705</td>\n",
       "      <td>0</td>\n",
       "      <td>no</td>\n",
       "      <td>northwest</td>\n",
       "      <td>21984.47061</td>\n",
       "      <td>USA</td>\n",
       "    </tr>\n",
       "    <tr>\n",
       "      <th>4</th>\n",
       "      <td>4</td>\n",
       "      <td>32</td>\n",
       "      <td>male</td>\n",
       "      <td>28.880</td>\n",
       "      <td>0</td>\n",
       "      <td>no</td>\n",
       "      <td>northwest</td>\n",
       "      <td>3866.85520</td>\n",
       "      <td>USA</td>\n",
       "    </tr>\n",
       "  </tbody>\n",
       "</table>\n",
       "</div>"
      ],
      "text/plain": [
       "   index  age     sex     bmi  children smoker     region      charges country\n",
       "0      0   19  female  27.900         0    yes  southwest  16884.92400     USA\n",
       "1      1   18    male  33.770         1     no  southeast   1725.55230     USA\n",
       "2      2   28    male  33.000         3     no  southeast   4449.46200     USA\n",
       "3      3   33    male  22.705         0     no  northwest  21984.47061     USA\n",
       "4      4   32    male  28.880         0     no  northwest   3866.85520     USA"
      ]
     },
     "execution_count": 38,
     "metadata": {},
     "output_type": "execute_result"
    }
   ],
   "source": [
    "# crear columna\n",
    "df['country'] = 'USA'\n",
    "df.head()"
   ]
  },
  {
   "cell_type": "code",
   "execution_count": 41,
   "id": "b6fa5bbb",
   "metadata": {},
   "outputs": [
    {
     "data": {
      "text/html": [
       "<div>\n",
       "<style scoped>\n",
       "    .dataframe tbody tr th:only-of-type {\n",
       "        vertical-align: middle;\n",
       "    }\n",
       "\n",
       "    .dataframe tbody tr th {\n",
       "        vertical-align: top;\n",
       "    }\n",
       "\n",
       "    .dataframe thead th {\n",
       "        text-align: right;\n",
       "    }\n",
       "</style>\n",
       "<table border=\"1\" class=\"dataframe\">\n",
       "  <thead>\n",
       "    <tr style=\"text-align: right;\">\n",
       "      <th></th>\n",
       "      <th>index</th>\n",
       "      <th>age</th>\n",
       "      <th>sex</th>\n",
       "      <th>bmi</th>\n",
       "      <th>children</th>\n",
       "      <th>smoker</th>\n",
       "      <th>region</th>\n",
       "      <th>charges</th>\n",
       "      <th>country</th>\n",
       "      <th>Type</th>\n",
       "    </tr>\n",
       "  </thead>\n",
       "  <tbody>\n",
       "    <tr>\n",
       "      <th>0</th>\n",
       "      <td>0</td>\n",
       "      <td>19</td>\n",
       "      <td>female</td>\n",
       "      <td>27.900</td>\n",
       "      <td>0</td>\n",
       "      <td>yes</td>\n",
       "      <td>southwest</td>\n",
       "      <td>16884.92400</td>\n",
       "      <td>USA</td>\n",
       "      <td>Young</td>\n",
       "    </tr>\n",
       "    <tr>\n",
       "      <th>1</th>\n",
       "      <td>1</td>\n",
       "      <td>18</td>\n",
       "      <td>male</td>\n",
       "      <td>33.770</td>\n",
       "      <td>1</td>\n",
       "      <td>no</td>\n",
       "      <td>southeast</td>\n",
       "      <td>1725.55230</td>\n",
       "      <td>USA</td>\n",
       "      <td>Young</td>\n",
       "    </tr>\n",
       "    <tr>\n",
       "      <th>2</th>\n",
       "      <td>2</td>\n",
       "      <td>28</td>\n",
       "      <td>male</td>\n",
       "      <td>33.000</td>\n",
       "      <td>3</td>\n",
       "      <td>no</td>\n",
       "      <td>southeast</td>\n",
       "      <td>4449.46200</td>\n",
       "      <td>USA</td>\n",
       "      <td>NaN</td>\n",
       "    </tr>\n",
       "    <tr>\n",
       "      <th>3</th>\n",
       "      <td>3</td>\n",
       "      <td>33</td>\n",
       "      <td>male</td>\n",
       "      <td>22.705</td>\n",
       "      <td>0</td>\n",
       "      <td>no</td>\n",
       "      <td>northwest</td>\n",
       "      <td>21984.47061</td>\n",
       "      <td>USA</td>\n",
       "      <td>NaN</td>\n",
       "    </tr>\n",
       "    <tr>\n",
       "      <th>4</th>\n",
       "      <td>4</td>\n",
       "      <td>32</td>\n",
       "      <td>male</td>\n",
       "      <td>28.880</td>\n",
       "      <td>0</td>\n",
       "      <td>no</td>\n",
       "      <td>northwest</td>\n",
       "      <td>3866.85520</td>\n",
       "      <td>USA</td>\n",
       "      <td>NaN</td>\n",
       "    </tr>\n",
       "  </tbody>\n",
       "</table>\n",
       "</div>"
      ],
      "text/plain": [
       "   index  age     sex     bmi  children smoker     region      charges  \\\n",
       "0      0   19  female  27.900         0    yes  southwest  16884.92400   \n",
       "1      1   18    male  33.770         1     no  southeast   1725.55230   \n",
       "2      2   28    male  33.000         3     no  southeast   4449.46200   \n",
       "3      3   33    male  22.705         0     no  northwest  21984.47061   \n",
       "4      4   32    male  28.880         0     no  northwest   3866.85520   \n",
       "\n",
       "  country   Type  \n",
       "0     USA  Young  \n",
       "1     USA  Young  \n",
       "2     USA    NaN  \n",
       "3     USA    NaN  \n",
       "4     USA    NaN  "
      ]
     },
     "execution_count": 41,
     "metadata": {},
     "output_type": "execute_result"
    }
   ],
   "source": [
    "df.loc[df[\"age\"]<20, \"Type\"] = \"Young\"\n",
    "df.head()"
   ]
  },
  {
   "cell_type": "markdown",
   "id": "56d77962",
   "metadata": {},
   "source": [
    "### 2.2.Funciones avanzadas de los dataframes"
   ]
  },
  {
   "cell_type": "markdown",
   "id": "c6604a52",
   "metadata": {},
   "source": [
    "#### Agrupación"
   ]
  },
  {
   "cell_type": "code",
   "execution_count": 48,
   "id": "29418386",
   "metadata": {},
   "outputs": [
    {
     "data": {
      "text/plain": [
       "region\n",
       "northeast    324\n",
       "northwest    325\n",
       "southeast    364\n",
       "southwest    325\n",
       "Name: age, dtype: int64"
      ]
     },
     "execution_count": 48,
     "metadata": {},
     "output_type": "execute_result"
    }
   ],
   "source": [
    "df.groupby('region')['age'].count()"
   ]
  },
  {
   "cell_type": "markdown",
   "id": "1318e2a2",
   "metadata": {},
   "source": [
    "#### Combinación"
   ]
  },
  {
   "cell_type": "code",
   "execution_count": 1,
   "id": "ec513145",
   "metadata": {},
   "outputs": [],
   "source": [
    "import pandas as pd\n",
    "\n",
    "# DataFrame de estudiantes en el primer periodo\n",
    "datos_periodo1 = {\n",
    "    'ID': [1, 2, 3, 4, 5],\n",
    "    'Nombre': ['Juan', 'María', 'Pedro', 'Ana', 'Luis'],\n",
    "    'Edad': [20, 21, 22, 20, 23]\n",
    "}\n",
    "df_periodo1 = pd.DataFrame(datos_periodo1)\n",
    "\n",
    "# DataFrame de estudiantes en el segundo periodo\n",
    "datos_periodo2 = {\n",
    "    'ID': [2, 3, 4, 5, 6, 7],\n",
    "    'Nombre': ['María', 'Pedro', 'Ana', 'Luis', 'Sofía', 'Carlos'],\n",
    "    'Edad': [22, 23, 21, 24, 20, 22]\n",
    "}\n",
    "df_periodo2 = pd.DataFrame(datos_periodo2)"
   ]
  },
  {
   "cell_type": "code",
   "execution_count": 3,
   "id": "cc91288d",
   "metadata": {},
   "outputs": [
    {
     "name": "stdout",
     "output_type": "stream",
     "text": [
      "DataFrame resultante:\n"
     ]
    },
    {
     "data": {
      "text/html": [
       "<div>\n",
       "<style scoped>\n",
       "    .dataframe tbody tr th:only-of-type {\n",
       "        vertical-align: middle;\n",
       "    }\n",
       "\n",
       "    .dataframe tbody tr th {\n",
       "        vertical-align: top;\n",
       "    }\n",
       "\n",
       "    .dataframe thead th {\n",
       "        text-align: right;\n",
       "    }\n",
       "</style>\n",
       "<table border=\"1\" class=\"dataframe\">\n",
       "  <thead>\n",
       "    <tr style=\"text-align: right;\">\n",
       "      <th></th>\n",
       "      <th>ID</th>\n",
       "      <th>Nombre_periodo1</th>\n",
       "      <th>Edad_periodo1</th>\n",
       "      <th>Nombre_periodo2</th>\n",
       "      <th>Edad_periodo2</th>\n",
       "    </tr>\n",
       "  </thead>\n",
       "  <tbody>\n",
       "    <tr>\n",
       "      <th>0</th>\n",
       "      <td>2</td>\n",
       "      <td>María</td>\n",
       "      <td>21</td>\n",
       "      <td>María</td>\n",
       "      <td>22</td>\n",
       "    </tr>\n",
       "    <tr>\n",
       "      <th>1</th>\n",
       "      <td>3</td>\n",
       "      <td>Pedro</td>\n",
       "      <td>22</td>\n",
       "      <td>Pedro</td>\n",
       "      <td>23</td>\n",
       "    </tr>\n",
       "    <tr>\n",
       "      <th>2</th>\n",
       "      <td>4</td>\n",
       "      <td>Ana</td>\n",
       "      <td>20</td>\n",
       "      <td>Ana</td>\n",
       "      <td>21</td>\n",
       "    </tr>\n",
       "    <tr>\n",
       "      <th>3</th>\n",
       "      <td>5</td>\n",
       "      <td>Luis</td>\n",
       "      <td>23</td>\n",
       "      <td>Luis</td>\n",
       "      <td>24</td>\n",
       "    </tr>\n",
       "  </tbody>\n",
       "</table>\n",
       "</div>"
      ],
      "text/plain": [
       "   ID Nombre_periodo1  Edad_periodo1 Nombre_periodo2  Edad_periodo2\n",
       "0   2           María             21           María             22\n",
       "1   3           Pedro             22           Pedro             23\n",
       "2   4             Ana             20             Ana             21\n",
       "3   5            Luis             23            Luis             24"
      ]
     },
     "execution_count": 3,
     "metadata": {},
     "output_type": "execute_result"
    }
   ],
   "source": [
    "# Realizar un inner join basado en la columna 'ID'\n",
    "union_estudiantes = pd.merge(df_periodo1, df_periodo2, on='ID', suffixes=('_periodo1', '_periodo2'), how='inner')\n",
    "\n",
    "print(\"DataFrame resultante:\")\n",
    "union_estudiantes"
   ]
  },
  {
   "cell_type": "code",
   "execution_count": 4,
   "id": "d9747f86",
   "metadata": {},
   "outputs": [
    {
     "data": {
      "text/html": [
       "<div>\n",
       "<style scoped>\n",
       "    .dataframe tbody tr th:only-of-type {\n",
       "        vertical-align: middle;\n",
       "    }\n",
       "\n",
       "    .dataframe tbody tr th {\n",
       "        vertical-align: top;\n",
       "    }\n",
       "\n",
       "    .dataframe thead th {\n",
       "        text-align: right;\n",
       "    }\n",
       "</style>\n",
       "<table border=\"1\" class=\"dataframe\">\n",
       "  <thead>\n",
       "    <tr style=\"text-align: right;\">\n",
       "      <th></th>\n",
       "      <th>ID</th>\n",
       "      <th>Nombre_periodo1</th>\n",
       "      <th>Edad_periodo1</th>\n",
       "      <th>Nombre_periodo2</th>\n",
       "      <th>Edad_periodo2</th>\n",
       "    </tr>\n",
       "  </thead>\n",
       "  <tbody>\n",
       "    <tr>\n",
       "      <th>0</th>\n",
       "      <td>1</td>\n",
       "      <td>Juan</td>\n",
       "      <td>20</td>\n",
       "      <td>NaN</td>\n",
       "      <td>NaN</td>\n",
       "    </tr>\n",
       "    <tr>\n",
       "      <th>1</th>\n",
       "      <td>2</td>\n",
       "      <td>María</td>\n",
       "      <td>21</td>\n",
       "      <td>María</td>\n",
       "      <td>22.0</td>\n",
       "    </tr>\n",
       "    <tr>\n",
       "      <th>2</th>\n",
       "      <td>3</td>\n",
       "      <td>Pedro</td>\n",
       "      <td>22</td>\n",
       "      <td>Pedro</td>\n",
       "      <td>23.0</td>\n",
       "    </tr>\n",
       "    <tr>\n",
       "      <th>3</th>\n",
       "      <td>4</td>\n",
       "      <td>Ana</td>\n",
       "      <td>20</td>\n",
       "      <td>Ana</td>\n",
       "      <td>21.0</td>\n",
       "    </tr>\n",
       "    <tr>\n",
       "      <th>4</th>\n",
       "      <td>5</td>\n",
       "      <td>Luis</td>\n",
       "      <td>23</td>\n",
       "      <td>Luis</td>\n",
       "      <td>24.0</td>\n",
       "    </tr>\n",
       "  </tbody>\n",
       "</table>\n",
       "</div>"
      ],
      "text/plain": [
       "   ID Nombre_periodo1  Edad_periodo1 Nombre_periodo2  Edad_periodo2\n",
       "0   1            Juan             20             NaN            NaN\n",
       "1   2           María             21           María           22.0\n",
       "2   3           Pedro             22           Pedro           23.0\n",
       "3   4             Ana             20             Ana           21.0\n",
       "4   5            Luis             23            Luis           24.0"
      ]
     },
     "execution_count": 4,
     "metadata": {},
     "output_type": "execute_result"
    }
   ],
   "source": [
    "# Realizar un left join basado en la columna 'ID'\n",
    "union_estudiantes = pd.merge(df_periodo1, df_periodo2, on='ID', suffixes=('_periodo1', '_periodo2'), how='left')\n",
    "union_estudiantes"
   ]
  },
  {
   "cell_type": "code",
   "execution_count": 5,
   "id": "6948d331",
   "metadata": {},
   "outputs": [
    {
     "data": {
      "text/html": [
       "<div>\n",
       "<style scoped>\n",
       "    .dataframe tbody tr th:only-of-type {\n",
       "        vertical-align: middle;\n",
       "    }\n",
       "\n",
       "    .dataframe tbody tr th {\n",
       "        vertical-align: top;\n",
       "    }\n",
       "\n",
       "    .dataframe thead th {\n",
       "        text-align: right;\n",
       "    }\n",
       "</style>\n",
       "<table border=\"1\" class=\"dataframe\">\n",
       "  <thead>\n",
       "    <tr style=\"text-align: right;\">\n",
       "      <th></th>\n",
       "      <th>ID</th>\n",
       "      <th>Nombre_periodo1</th>\n",
       "      <th>Edad_periodo1</th>\n",
       "      <th>Nombre_periodo2</th>\n",
       "      <th>Edad_periodo2</th>\n",
       "    </tr>\n",
       "  </thead>\n",
       "  <tbody>\n",
       "    <tr>\n",
       "      <th>0</th>\n",
       "      <td>2</td>\n",
       "      <td>María</td>\n",
       "      <td>21.0</td>\n",
       "      <td>María</td>\n",
       "      <td>22</td>\n",
       "    </tr>\n",
       "    <tr>\n",
       "      <th>1</th>\n",
       "      <td>3</td>\n",
       "      <td>Pedro</td>\n",
       "      <td>22.0</td>\n",
       "      <td>Pedro</td>\n",
       "      <td>23</td>\n",
       "    </tr>\n",
       "    <tr>\n",
       "      <th>2</th>\n",
       "      <td>4</td>\n",
       "      <td>Ana</td>\n",
       "      <td>20.0</td>\n",
       "      <td>Ana</td>\n",
       "      <td>21</td>\n",
       "    </tr>\n",
       "    <tr>\n",
       "      <th>3</th>\n",
       "      <td>5</td>\n",
       "      <td>Luis</td>\n",
       "      <td>23.0</td>\n",
       "      <td>Luis</td>\n",
       "      <td>24</td>\n",
       "    </tr>\n",
       "    <tr>\n",
       "      <th>4</th>\n",
       "      <td>6</td>\n",
       "      <td>NaN</td>\n",
       "      <td>NaN</td>\n",
       "      <td>Sofía</td>\n",
       "      <td>20</td>\n",
       "    </tr>\n",
       "    <tr>\n",
       "      <th>5</th>\n",
       "      <td>7</td>\n",
       "      <td>NaN</td>\n",
       "      <td>NaN</td>\n",
       "      <td>Carlos</td>\n",
       "      <td>22</td>\n",
       "    </tr>\n",
       "  </tbody>\n",
       "</table>\n",
       "</div>"
      ],
      "text/plain": [
       "   ID Nombre_periodo1  Edad_periodo1 Nombre_periodo2  Edad_periodo2\n",
       "0   2           María           21.0           María             22\n",
       "1   3           Pedro           22.0           Pedro             23\n",
       "2   4             Ana           20.0             Ana             21\n",
       "3   5            Luis           23.0            Luis             24\n",
       "4   6             NaN            NaN           Sofía             20\n",
       "5   7             NaN            NaN          Carlos             22"
      ]
     },
     "execution_count": 5,
     "metadata": {},
     "output_type": "execute_result"
    }
   ],
   "source": [
    "# Realizar un right join basado en la columna 'ID'\n",
    "union_estudiantes = pd.merge(df_periodo1, df_periodo2, on='ID', suffixes=('_periodo1', '_periodo2'), how='right')\n",
    "union_estudiantes"
   ]
  },
  {
   "cell_type": "code",
   "execution_count": 6,
   "id": "cb0f99ed",
   "metadata": {},
   "outputs": [
    {
     "data": {
      "text/html": [
       "<div>\n",
       "<style scoped>\n",
       "    .dataframe tbody tr th:only-of-type {\n",
       "        vertical-align: middle;\n",
       "    }\n",
       "\n",
       "    .dataframe tbody tr th {\n",
       "        vertical-align: top;\n",
       "    }\n",
       "\n",
       "    .dataframe thead th {\n",
       "        text-align: right;\n",
       "    }\n",
       "</style>\n",
       "<table border=\"1\" class=\"dataframe\">\n",
       "  <thead>\n",
       "    <tr style=\"text-align: right;\">\n",
       "      <th></th>\n",
       "      <th>ID</th>\n",
       "      <th>Nombre_periodo1</th>\n",
       "      <th>Edad_periodo1</th>\n",
       "      <th>Nombre_periodo2</th>\n",
       "      <th>Edad_periodo2</th>\n",
       "    </tr>\n",
       "  </thead>\n",
       "  <tbody>\n",
       "    <tr>\n",
       "      <th>0</th>\n",
       "      <td>1</td>\n",
       "      <td>Juan</td>\n",
       "      <td>20.0</td>\n",
       "      <td>NaN</td>\n",
       "      <td>NaN</td>\n",
       "    </tr>\n",
       "    <tr>\n",
       "      <th>1</th>\n",
       "      <td>2</td>\n",
       "      <td>María</td>\n",
       "      <td>21.0</td>\n",
       "      <td>María</td>\n",
       "      <td>22.0</td>\n",
       "    </tr>\n",
       "    <tr>\n",
       "      <th>2</th>\n",
       "      <td>3</td>\n",
       "      <td>Pedro</td>\n",
       "      <td>22.0</td>\n",
       "      <td>Pedro</td>\n",
       "      <td>23.0</td>\n",
       "    </tr>\n",
       "    <tr>\n",
       "      <th>3</th>\n",
       "      <td>4</td>\n",
       "      <td>Ana</td>\n",
       "      <td>20.0</td>\n",
       "      <td>Ana</td>\n",
       "      <td>21.0</td>\n",
       "    </tr>\n",
       "    <tr>\n",
       "      <th>4</th>\n",
       "      <td>5</td>\n",
       "      <td>Luis</td>\n",
       "      <td>23.0</td>\n",
       "      <td>Luis</td>\n",
       "      <td>24.0</td>\n",
       "    </tr>\n",
       "    <tr>\n",
       "      <th>5</th>\n",
       "      <td>6</td>\n",
       "      <td>NaN</td>\n",
       "      <td>NaN</td>\n",
       "      <td>Sofía</td>\n",
       "      <td>20.0</td>\n",
       "    </tr>\n",
       "    <tr>\n",
       "      <th>6</th>\n",
       "      <td>7</td>\n",
       "      <td>NaN</td>\n",
       "      <td>NaN</td>\n",
       "      <td>Carlos</td>\n",
       "      <td>22.0</td>\n",
       "    </tr>\n",
       "  </tbody>\n",
       "</table>\n",
       "</div>"
      ],
      "text/plain": [
       "   ID Nombre_periodo1  Edad_periodo1 Nombre_periodo2  Edad_periodo2\n",
       "0   1            Juan           20.0             NaN            NaN\n",
       "1   2           María           21.0           María           22.0\n",
       "2   3           Pedro           22.0           Pedro           23.0\n",
       "3   4             Ana           20.0             Ana           21.0\n",
       "4   5            Luis           23.0            Luis           24.0\n",
       "5   6             NaN            NaN           Sofía           20.0\n",
       "6   7             NaN            NaN          Carlos           22.0"
      ]
     },
     "execution_count": 6,
     "metadata": {},
     "output_type": "execute_result"
    }
   ],
   "source": [
    "# Realizar un outer join basado en la columna 'ID'\n",
    "union_estudiantes = pd.merge(df_periodo1, df_periodo2, on='ID', suffixes=('_periodo1', '_periodo2'), how='outer')\n",
    "union_estudiantes"
   ]
  },
  {
   "cell_type": "markdown",
   "id": "188802c6",
   "metadata": {},
   "source": [
    "### Concatenación (concat)"
   ]
  },
  {
   "cell_type": "code",
   "execution_count": 7,
   "id": "b702d02d",
   "metadata": {},
   "outputs": [
    {
     "name": "stdout",
     "output_type": "stream",
     "text": [
      "DataFrame concatenado:\n"
     ]
    },
    {
     "data": {
      "text/html": [
       "<div>\n",
       "<style scoped>\n",
       "    .dataframe tbody tr th:only-of-type {\n",
       "        vertical-align: middle;\n",
       "    }\n",
       "\n",
       "    .dataframe tbody tr th {\n",
       "        vertical-align: top;\n",
       "    }\n",
       "\n",
       "    .dataframe thead th {\n",
       "        text-align: right;\n",
       "    }\n",
       "</style>\n",
       "<table border=\"1\" class=\"dataframe\">\n",
       "  <thead>\n",
       "    <tr style=\"text-align: right;\">\n",
       "      <th></th>\n",
       "      <th>ID</th>\n",
       "      <th>Nombre</th>\n",
       "      <th>Edad</th>\n",
       "    </tr>\n",
       "  </thead>\n",
       "  <tbody>\n",
       "    <tr>\n",
       "      <th>0</th>\n",
       "      <td>1</td>\n",
       "      <td>Juan</td>\n",
       "      <td>20</td>\n",
       "    </tr>\n",
       "    <tr>\n",
       "      <th>1</th>\n",
       "      <td>2</td>\n",
       "      <td>María</td>\n",
       "      <td>21</td>\n",
       "    </tr>\n",
       "    <tr>\n",
       "      <th>2</th>\n",
       "      <td>3</td>\n",
       "      <td>Pedro</td>\n",
       "      <td>22</td>\n",
       "    </tr>\n",
       "    <tr>\n",
       "      <th>3</th>\n",
       "      <td>4</td>\n",
       "      <td>Ana</td>\n",
       "      <td>20</td>\n",
       "    </tr>\n",
       "    <tr>\n",
       "      <th>4</th>\n",
       "      <td>5</td>\n",
       "      <td>Luis</td>\n",
       "      <td>23</td>\n",
       "    </tr>\n",
       "    <tr>\n",
       "      <th>0</th>\n",
       "      <td>6</td>\n",
       "      <td>Sofía</td>\n",
       "      <td>22</td>\n",
       "    </tr>\n",
       "    <tr>\n",
       "      <th>1</th>\n",
       "      <td>7</td>\n",
       "      <td>Carlos</td>\n",
       "      <td>23</td>\n",
       "    </tr>\n",
       "    <tr>\n",
       "      <th>2</th>\n",
       "      <td>8</td>\n",
       "      <td>Juan</td>\n",
       "      <td>21</td>\n",
       "    </tr>\n",
       "    <tr>\n",
       "      <th>3</th>\n",
       "      <td>9</td>\n",
       "      <td>Andrés</td>\n",
       "      <td>24</td>\n",
       "    </tr>\n",
       "    <tr>\n",
       "      <th>4</th>\n",
       "      <td>10</td>\n",
       "      <td>Marta</td>\n",
       "      <td>20</td>\n",
       "    </tr>\n",
       "  </tbody>\n",
       "</table>\n",
       "</div>"
      ],
      "text/plain": [
       "   ID  Nombre  Edad\n",
       "0   1    Juan    20\n",
       "1   2   María    21\n",
       "2   3   Pedro    22\n",
       "3   4     Ana    20\n",
       "4   5    Luis    23\n",
       "0   6   Sofía    22\n",
       "1   7  Carlos    23\n",
       "2   8    Juan    21\n",
       "3   9  Andrés    24\n",
       "4  10   Marta    20"
      ]
     },
     "execution_count": 7,
     "metadata": {},
     "output_type": "execute_result"
    }
   ],
   "source": [
    "data_curso1 = {\n",
    "    'ID': [1, 2, 3, 4, 5],\n",
    "    'Nombre': ['Juan', 'María', 'Pedro', 'Ana', 'Luis'],\n",
    "    'Edad': [20, 21, 22, 20, 23]\n",
    "}\n",
    "df_curso1 = pd.DataFrame(data_curso1)\n",
    "\n",
    "# Crear DataFrame de estudiantes de otro curso\n",
    "data_curso2 = {\n",
    "    'ID': [6, 7, 8, 9, 10],\n",
    "    'Nombre': ['Sofía', 'Carlos', 'Juan', 'Andrés', 'Marta'],\n",
    "    'Edad': [22, 23, 21, 24, 20]\n",
    "}\n",
    "df_curso2 = pd.DataFrame(data_curso2)\n",
    "\n",
    "df_concatenado = pd.concat([df_curso1, df_curso2], axis=0)\n",
    "\n",
    "print(\"DataFrame concatenado:\")\n",
    "df_concatenado"
   ]
  },
  {
   "cell_type": "code",
   "execution_count": null,
   "id": "9a7d8c40",
   "metadata": {},
   "outputs": [],
   "source": []
  },
  {
   "cell_type": "markdown",
   "id": "f125016f",
   "metadata": {},
   "source": [
    "## Matplolib    "
   ]
  },
  {
   "cell_type": "markdown",
   "id": "4a31cbdb",
   "metadata": {},
   "source": [
    "### Gráfico de líneas"
   ]
  },
  {
   "cell_type": "code",
   "execution_count": 26,
   "id": "b1a05254",
   "metadata": {},
   "outputs": [
    {
     "data": {
      "image/png": "[encoded data removed]",
      "text/plain": [
       "<Figure size 432x288 with 1 Axes>"
      ]
     },
     "metadata": {
      "needs_background": "light"
     },
     "output_type": "display_data"
    }
   ],
   "source": [
    "import matplotlib.pyplot as plt\n",
    "import numpy as np\n",
    "\n",
    "# definimos los datos\n",
    "X = np.arange(1, 20)\n",
    "# Dibujamos el gráfico\n",
    "plt.plot(X, X + 1.0, label='linear')\n",
    "# Visualizamos\n",
    "plt.show()"
   ]
  },
  {
   "cell_type": "code",
   "execution_count": 29,
   "id": "d7d6e254",
   "metadata": {},
   "outputs": [
    {
     "data": {
      "image/png": "[encoded data removed]",
      "text/plain": [
       "<Figure size 432x288 with 1 Axes>"
      ]
     },
     "metadata": {
      "needs_background": "light"
     },
     "output_type": "display_data"
    }
   ],
   "source": [
    "# creamos los datos\n",
    "x = [1,3,5,7,9,11]\n",
    "y = [10,25,35,33,41,59]\n",
    "# Dibujamos una lína\n",
    "plt.plot(x, y,label='Serie 1', color='blue')\n",
    "\n",
    "# creamos los datos\n",
    "x = [2,4,6,8,10,12]\n",
    "y = [15,29,32,33,38,55]\n",
    "# dibujamos la otra línea\n",
    "\n",
    "plt.plot(x, y, label='Serie 2', color='red')\n",
    "# Adicionamos etiqueta para el eje X\n",
    "plt.xlabel(\"X\")\n",
    "# Adicionamos etiqueta para el eje Y\n",
    "plt.ylabel(\"Y\")\n",
    "# Adicionamos título para el gráfico\n",
    "plt.title(\"Gráfico con múltiples líneas\")\n",
    "# Adicioamos leyenda para el gráfico\n",
    "plt.legend()\n",
    "# Visualizamos el gráfico\n",
    "plt.show()"
   ]
  },
  {
   "cell_type": "markdown",
   "id": "9a4f49c0",
   "metadata": {},
   "source": [
    "### Gráfico de dispersión"
   ]
  },
  {
   "cell_type": "code",
   "execution_count": 30,
   "id": "db9d1b9f",
   "metadata": {},
   "outputs": [
    {
     "data": {
      "image/png": "[encoded data removed]",
      "text/plain": [
       "<Figure size 432x288 with 1 Axes>"
      ]
     },
     "metadata": {
      "needs_background": "light"
     },
     "output_type": "display_data"
    }
   ],
   "source": [
    "# se definen los datos\n",
    "x = [1,3,5,7,9,11]\n",
    "y = [10,25,35,33,41,59]\n",
    "\n",
    "# se dibuja el gráfico\n",
    "plt.scatter(x, y, c='blue', marker='*',alpha=0.5)\n",
    "plt.xlabel(\"X\")\n",
    "plt.ylabel(\"Y\")\n",
    "plt.title(\"Ejemplo de gráfico de dispersión\")\n",
    "plt.show()"
   ]
  },
  {
   "cell_type": "markdown",
   "id": "bcc6aebf",
   "metadata": {},
   "source": [
    "### Gráfico circular"
   ]
  },
  {
   "cell_type": "code",
   "execution_count": 34,
   "id": "9461c392",
   "metadata": {},
   "outputs": [
    {
     "data": {
      "image/png": "[encoded data removed]",
      "text/plain": [
       "<Figure size 432x288 with 1 Axes>"
      ]
     },
     "metadata": {},
     "output_type": "display_data"
    }
   ],
   "source": [
    "asignaturas = [\"Matemáticas\",\"Programación\",\"Algebra\",\"Cálculo\"]\n",
    "notas = [75,90,85,85]\n",
    "\n",
    "# Dibujamos el gráfico\n",
    "plt.pie(notas, labels=asignaturas, colors=['r','g','b','y'],\n",
    "        startangle=90,shadow= True, explode=(0,0.1,0,0), \n",
    "        autopct='%1.1f%%')\n",
    "\n",
    "plt.title(\"Calificaciones\")\n",
    "plt.show()"
   ]
  },
  {
   "cell_type": "markdown",
   "id": "ec32dd74",
   "metadata": {},
   "source": [
    "### Gráfico de barras"
   ]
  },
  {
   "cell_type": "code",
   "execution_count": 35,
   "id": "22bcf912",
   "metadata": {},
   "outputs": [
    {
     "data": {
      "image/png": "[encoded data removed]",
      "text/plain": [
       "<Figure size 432x288 with 1 Axes>"
      ]
     },
     "metadata": {
      "needs_background": "light"
     },
     "output_type": "display_data"
    }
   ],
   "source": [
    "# Definimos los datos\n",
    "semestres = [1,2,3,4,5]\n",
    "cantidad = [21,40,22,29,32]\n",
    "\n",
    "# dibujamos el gráfico\n",
    "plt.bar(semestres, cantidad, color='blue')\n",
    "plt.xlabel(\"Semestre\")\n",
    "plt.ylabel(\"Cantidad\")\n",
    "\n",
    "plt.title(\"Distribución de estudiantes por semestre\")\n",
    "plt.show()"
   ]
  },
  {
   "cell_type": "markdown",
   "id": "bdd6f3d3",
   "metadata": {},
   "source": [
    "### Histograma"
   ]
  },
  {
   "cell_type": "code",
   "execution_count": 38,
   "id": "5de354e9",
   "metadata": {},
   "outputs": [
    {
     "data": {
      "image/png": "[encoded data removed]",
      "text/plain": [
       "<Figure size 432x288 with 1 Axes>"
      ]
     },
     "metadata": {
      "needs_background": "light"
     },
     "output_type": "display_data"
    }
   ],
   "source": [
    "# datos\n",
    "edades = [21,28,32,34,35,35,37,42,47,55]\n",
    "grupos = [20,30,40,50,60]\n",
    "\n",
    "# dibujamos elgráfico\n",
    "plt.hist(edades, grupos, rwidth=0.6)\n",
    "plt.xlabel(\"Edad\")\n",
    "plt.ylabel(\"Frecuencia\")\n",
    "plt.title(\"Distribución de edades por grupo\")\n",
    "plt.show()"
   ]
  },
  {
   "cell_type": "markdown",
   "id": "4e495b17-030b-4c16-90d5-5082dfa11e96",
   "metadata": {},
   "source": [
    "### Estudio de caso"
   ]
  },
  {
   "cell_type": "code",
   "execution_count": 1542,
   "id": "6594663f-020d-47cb-8f39-161706bd4087",
   "metadata": {},
   "outputs": [],
   "source": [
    "import pandas as pd\n",
    "import numpy as np"
   ]
  },
  {
   "cell_type": "code",
   "execution_count": 2048,
   "id": "6596a579-a559-4b97-8287-6017d91f224b",
   "metadata": {},
   "outputs": [],
   "source": [
    "df = pd.read_excel(\"../datasets/pqrs_final.xlsx\")"
   ]
  },
  {
   "cell_type": "code",
   "execution_count": 2050,
   "id": "11c4980d-011a-4519-a8a2-482221e74b9e",
   "metadata": {},
   "outputs": [
    {
     "data": {
      "text/plain": [
       "(551, 24)"
      ]
     },
     "execution_count": 2050,
     "metadata": {},
     "output_type": "execute_result"
    }
   ],
   "source": [
    "df.shape"
   ]
  },
  {
   "cell_type": "code",
   "execution_count": 2052,
   "id": "41ccdc9a-ced9-40e7-a2f8-a4e05bc82b93",
   "metadata": {},
   "outputs": [
    {
     "data": {
      "text/html": [
       "<div>\n",
       "<style scoped>\n",
       "    .dataframe tbody tr th:only-of-type {\n",
       "        vertical-align: middle;\n",
       "    }\n",
       "\n",
       "    .dataframe tbody tr th {\n",
       "        vertical-align: top;\n",
       "    }\n",
       "\n",
       "    .dataframe thead th {\n",
       "        text-align: right;\n",
       "    }\n",
       "</style>\n",
       "<table border=\"1\" class=\"dataframe\">\n",
       "  <thead>\n",
       "    <tr style=\"text-align: right;\">\n",
       "      <th></th>\n",
       "      <th>CODIGO</th>\n",
       "      <th>TIPO DE SOLICITUD</th>\n",
       "      <th>ESTADO</th>\n",
       "      <th>FECHA REGISTRO</th>\n",
       "      <th>HORA REGISTRO</th>\n",
       "      <th>FECHA LIMITE RESPUESTA</th>\n",
       "      <th>FECHA RESPUESTA</th>\n",
       "      <th>HORA RESPUESTA</th>\n",
       "      <th>DIF. RESPUESTA-REGISTRO</th>\n",
       "      <th>DIF. LIMITE-RESPUESTA</th>\n",
       "      <th>...</th>\n",
       "      <th>TIPO DE USUARIO</th>\n",
       "      <th>TIPO IDENTIFICACION</th>\n",
       "      <th>IDENTIFICACION</th>\n",
       "      <th>CODIGO DEL SOLICITANTE</th>\n",
       "      <th>PROGRAMA DEL SOLICITANTE</th>\n",
       "      <th>ASUNTO</th>\n",
       "      <th>AREA</th>\n",
       "      <th>TIEMPO DE RESPUESTA</th>\n",
       "      <th>EXPLICACION Y CALIDAD</th>\n",
       "      <th>OBSERVACION</th>\n",
       "    </tr>\n",
       "  </thead>\n",
       "  <tbody>\n",
       "    <tr>\n",
       "      <th>101</th>\n",
       "      <td>2022-43832-5382</td>\n",
       "      <td>PETICIÃ“N</td>\n",
       "      <td>Finalizado</td>\n",
       "      <td>2022-01-29</td>\n",
       "      <td>12:10:32</td>\n",
       "      <td>2022-02-09</td>\n",
       "      <td>2022-02-04</td>\n",
       "      <td>16:34:09</td>\n",
       "      <td>6</td>\n",
       "      <td>5</td>\n",
       "      <td>...</td>\n",
       "      <td>ESTUDIANTE</td>\n",
       "      <td>CÃ©dula de CiudadanÃ­a</td>\n",
       "      <td>1005569732</td>\n",
       "      <td>19100783</td>\n",
       "      <td>INGENIERIA DE SISTEMAS</td>\n",
       "      <td>COMPRA DE CREDITO EDUCATIVO</td>\n",
       "      <td>FACULTAD DE CIENCIAS DE LA INGENIERÃA</td>\n",
       "      <td>NaN</td>\n",
       "      <td>NaN</td>\n",
       "      <td>NaN</td>\n",
       "    </tr>\n",
       "    <tr>\n",
       "      <th>336</th>\n",
       "      <td>2023-5478-20493</td>\n",
       "      <td>PETICIÃ“N</td>\n",
       "      <td>Finalizado</td>\n",
       "      <td>2023-12-06</td>\n",
       "      <td>09:37:18</td>\n",
       "      <td>2023-12-19</td>\n",
       "      <td>2023-12-11</td>\n",
       "      <td>16:46:18</td>\n",
       "      <td>5</td>\n",
       "      <td>8</td>\n",
       "      <td>...</td>\n",
       "      <td>ESTUDIANTE</td>\n",
       "      <td>CÃ©dula de CiudadanÃ­a</td>\n",
       "      <td>1193241074</td>\n",
       "      <td>23200391</td>\n",
       "      <td>INGENIERIA DE SISTEMAS</td>\n",
       "      <td>Factura de pago.</td>\n",
       "      <td>FACULTAD DE CIENCIAS DE LA INGENIERÃA</td>\n",
       "      <td>NaN</td>\n",
       "      <td>NaN</td>\n",
       "      <td>NaN</td>\n",
       "    </tr>\n",
       "    <tr>\n",
       "      <th>174</th>\n",
       "      <td>2022-5594-12916</td>\n",
       "      <td>PETICIÃ“N</td>\n",
       "      <td>Finalizado</td>\n",
       "      <td>2022-12-02</td>\n",
       "      <td>13:15:14</td>\n",
       "      <td>2022-12-15</td>\n",
       "      <td>2022-12-03</td>\n",
       "      <td>12:23:38</td>\n",
       "      <td>1</td>\n",
       "      <td>12</td>\n",
       "      <td>...</td>\n",
       "      <td>EXTERNO</td>\n",
       "      <td>CÃ©dula de CiudadanÃ­a</td>\n",
       "      <td>1003344437</td>\n",
       "      <td>NaN</td>\n",
       "      <td>NaN</td>\n",
       "      <td>Solicitud de reingreso al programa de ingenier...</td>\n",
       "      <td>FACULTAD DE CIENCIAS DE LA INGENIERÃA</td>\n",
       "      <td>NaN</td>\n",
       "      <td>NaN</td>\n",
       "      <td>NaN</td>\n",
       "    </tr>\n",
       "    <tr>\n",
       "      <th>328</th>\n",
       "      <td>2023-5055-19896</td>\n",
       "      <td>PETICIÃ“N</td>\n",
       "      <td>Finalizado</td>\n",
       "      <td>2023-10-30</td>\n",
       "      <td>14:00:15</td>\n",
       "      <td>2023-11-10</td>\n",
       "      <td>2023-11-07</td>\n",
       "      <td>09:49:55</td>\n",
       "      <td>8</td>\n",
       "      <td>3</td>\n",
       "      <td>...</td>\n",
       "      <td>ESTUDIANTE</td>\n",
       "      <td>CÃ©dula de CiudadanÃ­a</td>\n",
       "      <td>1102797779</td>\n",
       "      <td>23100033</td>\n",
       "      <td>INGENIERIA DE SISTEMAS</td>\n",
       "      <td>No asistencia a clases</td>\n",
       "      <td>FACULTAD DE CIENCIAS DE LA INGENIERÃA</td>\n",
       "      <td>NaN</td>\n",
       "      <td>NaN</td>\n",
       "      <td>NaN</td>\n",
       "    </tr>\n",
       "    <tr>\n",
       "      <th>203</th>\n",
       "      <td>2022-60595-8111</td>\n",
       "      <td>PETICIÃ“N</td>\n",
       "      <td>Finalizado</td>\n",
       "      <td>2022-07-19</td>\n",
       "      <td>16:49:55</td>\n",
       "      <td>2022-07-29</td>\n",
       "      <td>2022-07-21</td>\n",
       "      <td>17:45:17</td>\n",
       "      <td>2</td>\n",
       "      <td>8</td>\n",
       "      <td>...</td>\n",
       "      <td>ESTUDIANTE</td>\n",
       "      <td>CÃ©dula de CiudadanÃ­a</td>\n",
       "      <td>1102885076</td>\n",
       "      <td>S19114034</td>\n",
       "      <td>INGENIERIA DE SISTEMAS</td>\n",
       "      <td>Solicitud de examen de suficiencia en TWEETALIG</td>\n",
       "      <td>FACULTAD DE CIENCIAS DE LA INGENIERÃA</td>\n",
       "      <td>NaN</td>\n",
       "      <td>NaN</td>\n",
       "      <td>NaN</td>\n",
       "    </tr>\n",
       "  </tbody>\n",
       "</table>\n",
       "<p>5 rows × 24 columns</p>\n",
       "</div>"
      ],
      "text/plain": [
       "              CODIGO TIPO DE SOLICITUD     ESTADO  FECHA REGISTRO  \\\n",
       "101  2022-43832-5382         PETICIÃ“N  Finalizado     2022-01-29   \n",
       "336  2023-5478-20493         PETICIÃ“N  Finalizado     2023-12-06   \n",
       "174  2022-5594-12916         PETICIÃ“N  Finalizado     2022-12-02   \n",
       "328  2023-5055-19896         PETICIÃ“N  Finalizado     2023-10-30   \n",
       "203  2022-60595-8111         PETICIÃ“N  Finalizado     2022-07-19   \n",
       "\n",
       "    HORA REGISTRO FECHA LIMITE RESPUESTA  FECHA RESPUESTA  HORA RESPUESTA   \\\n",
       "101      12:10:32              2022-02-09       2022-02-04        16:34:09   \n",
       "336      09:37:18              2023-12-19       2023-12-11        16:46:18   \n",
       "174      13:15:14              2022-12-15       2022-12-03        12:23:38   \n",
       "328      14:00:15              2023-11-10       2023-11-07        09:49:55   \n",
       "203      16:49:55              2022-07-29       2022-07-21        17:45:17   \n",
       "\n",
       "     DIF. RESPUESTA-REGISTRO   DIF. LIMITE-RESPUESTA   ... TIPO DE USUARIO   \\\n",
       "101                         6                       5  ...       ESTUDIANTE   \n",
       "336                         5                       8  ...       ESTUDIANTE   \n",
       "174                         1                      12  ...          EXTERNO   \n",
       "328                         8                       3  ...       ESTUDIANTE   \n",
       "203                         2                       8  ...       ESTUDIANTE   \n",
       "\n",
       "       TIPO IDENTIFICACION  IDENTIFICACION  CODIGO DEL SOLICITANTE  \\\n",
       "101  CÃ©dula de CiudadanÃ­a      1005569732               19100783   \n",
       "336  CÃ©dula de CiudadanÃ­a      1193241074               23200391   \n",
       "174  CÃ©dula de CiudadanÃ­a      1003344437                    NaN   \n",
       "328  CÃ©dula de CiudadanÃ­a      1102797779               23100033   \n",
       "203  CÃ©dula de CiudadanÃ­a      1102885076              S19114034   \n",
       "\n",
       "    PROGRAMA DEL SOLICITANTE  \\\n",
       "101   INGENIERIA DE SISTEMAS   \n",
       "336   INGENIERIA DE SISTEMAS   \n",
       "174                      NaN   \n",
       "328   INGENIERIA DE SISTEMAS   \n",
       "203   INGENIERIA DE SISTEMAS   \n",
       "\n",
       "                                               ASUNTO   \\\n",
       "101                        COMPRA DE CREDITO EDUCATIVO   \n",
       "336                                   Factura de pago.   \n",
       "174  Solicitud de reingreso al programa de ingenier...   \n",
       "328                             No asistencia a clases   \n",
       "203    Solicitud de examen de suficiencia en TWEETALIG   \n",
       "\n",
       "                                      AREA  TIEMPO DE RESPUESTA  \\\n",
       "101  FACULTAD DE CIENCIAS DE LA INGENIERÃA                 NaN   \n",
       "336  FACULTAD DE CIENCIAS DE LA INGENIERÃA                 NaN   \n",
       "174  FACULTAD DE CIENCIAS DE LA INGENIERÃA                 NaN   \n",
       "328  FACULTAD DE CIENCIAS DE LA INGENIERÃA                 NaN   \n",
       "203  FACULTAD DE CIENCIAS DE LA INGENIERÃA                 NaN   \n",
       "\n",
       "    EXPLICACION Y CALIDAD  OBSERVACION   \n",
       "101                    NaN          NaN  \n",
       "336                    NaN          NaN  \n",
       "174                    NaN          NaN  \n",
       "328                    NaN          NaN  \n",
       "203                    NaN          NaN  \n",
       "\n",
       "[5 rows x 24 columns]"
      ]
     },
     "execution_count": 2052,
     "metadata": {},
     "output_type": "execute_result"
    }
   ],
   "source": [
    "df.sample(5)"
   ]
  },
  {
   "cell_type": "code",
   "execution_count": 1912,
   "id": "7fadc8b6-ed9c-4cfd-9788-6b875edee771",
   "metadata": {},
   "outputs": [
    {
     "data": {
      "text/plain": [
       "Index(['CODIGO', 'TIPO DE SOLICITUD', 'ESTADO ', 'FECHA REGISTRO',\n",
       "       'HORA REGISTRO', 'FECHA LIMITE RESPUESTA ', 'FECHA RESPUESTA ',\n",
       "       'HORA RESPUESTA ', 'DIF. RESPUESTA-REGISTRO ', 'DIF. LIMITE-RESPUESTA ',\n",
       "       'FECHA LIMITE TRANSFERENCIA ', 'FECHA EVALUACION ', 'HORA EVALUACION ',\n",
       "       'SEDE ', 'TIPO DE USUARIO ', 'TIPO IDENTIFICACION ', 'IDENTIFICACION ',\n",
       "       'CODIGO DEL SOLICITANTE', 'PROGRAMA DEL SOLICITANTE', 'ASUNTO ',\n",
       "       'AREA ', 'TIEMPO DE RESPUESTA', 'EXPLICACION Y CALIDAD ',\n",
       "       'OBSERVACION '],\n",
       "      dtype='object')"
      ]
     },
     "execution_count": 1912,
     "metadata": {},
     "output_type": "execute_result"
    }
   ],
   "source": [
    "df.columns"
   ]
  },
  {
   "cell_type": "code",
   "execution_count": 1914,
   "id": "129dfce7-f094-465a-801f-d5cc9e8108a2",
   "metadata": {},
   "outputs": [
    {
     "data": {
      "text/plain": [
       "TIPO DE SOLICITUD\n",
       "PETICIÃ“N        521\n",
       "RECLAMO           17\n",
       "QUEJA              5\n",
       "FELICITACIÃ“N      5\n",
       "SUGERENCIA         3\n",
       "Name: count, dtype: int64"
      ]
     },
     "execution_count": 1914,
     "metadata": {},
     "output_type": "execute_result"
    }
   ],
   "source": [
    "df[\"TIPO DE SOLICITUD\"].value_counts()"
   ]
  },
  {
   "cell_type": "code",
   "execution_count": 2054,
   "id": "eeddbf37-d6d2-48f7-a3b5-452ba30aa6d9",
   "metadata": {},
   "outputs": [],
   "source": [
    "# Reemplazamos un par de palabras que se han mostrado mal por tener acentos.\n",
    "df[\"TIPO DE SOLICITUD\"] = df[\"TIPO DE SOLICITUD\"].replace('PETICIÃ“N', 'PETICIÓN')\n",
    "df[\"TIPO DE SOLICITUD\"] = df[\"TIPO DE SOLICITUD\"].replace('FELICITACIÃ“N', 'FELICITACIÓN')"
   ]
  },
  {
   "cell_type": "code",
   "execution_count": 2056,
   "id": "27d53d95-16af-4ad8-8670-0887e874526d",
   "metadata": {},
   "outputs": [],
   "source": [
    "# convertir FECHA REGISTRO a datetime\n",
    "df['FECHA REGISTRO'] = pd.to_datetime(df['FECHA REGISTRO'])\n",
    "# Combinar las dos columnas en un solo campo de tipo Timestamp\n",
    "df['FECHA'] = df.apply(lambda row: pd.Timestamp.combine(row['FECHA REGISTRO'], row['HORA REGISTRO']), axis=1)"
   ]
  },
  {
   "cell_type": "code",
   "execution_count": 2058,
   "id": "5857dffb-7cc8-450a-8bb1-d2a6ab6ef2e6",
   "metadata": {},
   "outputs": [],
   "source": [
    "# creamos una columna con el mes y el año de la fecha de registro\n",
    "df['mes_anio'] = df['FECHA'].dt.to_period('M')"
   ]
  },
  {
   "cell_type": "code",
   "execution_count": 2060,
   "id": "fbf99044-a4f6-40f6-acdc-698e04d64b52",
   "metadata": {},
   "outputs": [],
   "source": [
    "# se crean virias columnas adicionales a usar en las visualizaciones\n",
    "campos = ['year', 'month', 'day', 'dayofweek', 'dayofyear']\n",
    "df = df.join(pd.concat((getattr(df['FECHA REGISTRO'].dt, i).rename(i) for i in campos), axis=1))"
   ]
  },
  {
   "cell_type": "code",
   "execution_count": 2062,
   "id": "204d95ad-029d-4992-8de8-9895659320a9",
   "metadata": {},
   "outputs": [
    {
     "data": {
      "text/plain": [
       "array([5, 1, 2, 0, 4, 3, 6])"
      ]
     },
     "execution_count": 2062,
     "metadata": {},
     "output_type": "execute_result"
    }
   ],
   "source": [
    "# Los días de la semana están del 0 al 6\n",
    "df.dayofweek.unique()"
   ]
  },
  {
   "cell_type": "code",
   "execution_count": 2064,
   "id": "0e8bdbbc-10a5-4440-8a01-b5d0b3930679",
   "metadata": {},
   "outputs": [
    {
     "data": {
      "text/html": [
       "<div>\n",
       "<style scoped>\n",
       "    .dataframe tbody tr th:only-of-type {\n",
       "        vertical-align: middle;\n",
       "    }\n",
       "\n",
       "    .dataframe tbody tr th {\n",
       "        vertical-align: top;\n",
       "    }\n",
       "\n",
       "    .dataframe thead th {\n",
       "        text-align: right;\n",
       "    }\n",
       "</style>\n",
       "<table border=\"1\" class=\"dataframe\">\n",
       "  <thead>\n",
       "    <tr style=\"text-align: right;\">\n",
       "      <th></th>\n",
       "      <th>CODIGO</th>\n",
       "      <th>TIPO DE SOLICITUD</th>\n",
       "      <th>ESTADO</th>\n",
       "      <th>FECHA REGISTRO</th>\n",
       "      <th>HORA REGISTRO</th>\n",
       "      <th>FECHA LIMITE RESPUESTA</th>\n",
       "      <th>FECHA RESPUESTA</th>\n",
       "      <th>HORA RESPUESTA</th>\n",
       "      <th>DIF. RESPUESTA-REGISTRO</th>\n",
       "      <th>DIF. LIMITE-RESPUESTA</th>\n",
       "      <th>...</th>\n",
       "      <th>TIEMPO DE RESPUESTA</th>\n",
       "      <th>EXPLICACION Y CALIDAD</th>\n",
       "      <th>OBSERVACION</th>\n",
       "      <th>FECHA</th>\n",
       "      <th>mes_anio</th>\n",
       "      <th>year</th>\n",
       "      <th>month</th>\n",
       "      <th>day</th>\n",
       "      <th>dayofweek</th>\n",
       "      <th>dayofyear</th>\n",
       "    </tr>\n",
       "  </thead>\n",
       "  <tbody>\n",
       "    <tr>\n",
       "      <th>0</th>\n",
       "      <td>2022-10512-5369</td>\n",
       "      <td>RECLAMO</td>\n",
       "      <td>Finalizado</td>\n",
       "      <td>2022-01-29</td>\n",
       "      <td>02:55:13</td>\n",
       "      <td>2022-02-09</td>\n",
       "      <td>2022-01-29</td>\n",
       "      <td>11:56:06</td>\n",
       "      <td>0</td>\n",
       "      <td>11</td>\n",
       "      <td>...</td>\n",
       "      <td>NaN</td>\n",
       "      <td>NaN</td>\n",
       "      <td>NaN</td>\n",
       "      <td>2022-01-29 02:55:13</td>\n",
       "      <td>2022-01</td>\n",
       "      <td>2022</td>\n",
       "      <td>1</td>\n",
       "      <td>29</td>\n",
       "      <td>6</td>\n",
       "      <td>29</td>\n",
       "    </tr>\n",
       "  </tbody>\n",
       "</table>\n",
       "<p>1 rows × 31 columns</p>\n",
       "</div>"
      ],
      "text/plain": [
       "            CODIGO TIPO DE SOLICITUD     ESTADO  FECHA REGISTRO HORA REGISTRO  \\\n",
       "0  2022-10512-5369           RECLAMO  Finalizado     2022-01-29      02:55:13   \n",
       "\n",
       "  FECHA LIMITE RESPUESTA  FECHA RESPUESTA  HORA RESPUESTA   \\\n",
       "0              2022-02-09       2022-01-29        11:56:06   \n",
       "\n",
       "   DIF. RESPUESTA-REGISTRO   DIF. LIMITE-RESPUESTA   ... TIEMPO DE RESPUESTA  \\\n",
       "0                         0                      11  ...                 NaN   \n",
       "\n",
       "  EXPLICACION Y CALIDAD  OBSERVACION                FECHA mes_anio  year  \\\n",
       "0                    NaN          NaN 2022-01-29 02:55:13  2022-01  2022   \n",
       "\n",
       "  month day dayofweek dayofyear  \n",
       "0     1  29         6        29  \n",
       "\n",
       "[1 rows x 31 columns]"
      ]
     },
     "execution_count": 2064,
     "metadata": {},
     "output_type": "execute_result"
    }
   ],
   "source": [
    "# se suma 1 para que los días sean del 1 al 7\n",
    "df['dayofweek'] = df['dayofweek'] + 1\n",
    "df.head(1)"
   ]
  },
  {
   "cell_type": "code",
   "execution_count": 2066,
   "id": "d726f36c-e521-4049-adfc-8c530b15a79c",
   "metadata": {},
   "outputs": [
    {
     "data": {
      "text/plain": [
       "IDENTIFICACION \n",
       "ANONIMO       27\n",
       "1102872839    14\n",
       "1103497574     9\n",
       "1102882572     7\n",
       "1101381532     7\n",
       "              ..\n",
       "1193515727     1\n",
       "1005604987     1\n",
       "1005412503     1\n",
       "1005419590     1\n",
       "1102850190     1\n",
       "Name: count, Length: 294, dtype: int64"
      ]
     },
     "execution_count": 2066,
     "metadata": {},
     "output_type": "execute_result"
    }
   ],
   "source": [
    "df[\"IDENTIFICACION \"].value_counts()"
   ]
  },
  {
   "cell_type": "code",
   "execution_count": 2068,
   "id": "61b64c40-8005-436b-b644-488a42efc8ae",
   "metadata": {},
   "outputs": [],
   "source": [
    "# se seleccinan las identificaciones diferentes a \"ANONIMO\"\n",
    "df = df[df['IDENTIFICACION '] != 'ANONIMO']\n",
    "# Se establece el tipo de datos a int64\n",
    "df['IDENTIFICACION '] = df['IDENTIFICACION '].astype('int64')"
   ]
  },
  {
   "cell_type": "code",
   "execution_count": 2070,
   "id": "661c5e61-6e8a-4b90-b7a2-f939131dd4fd",
   "metadata": {},
   "outputs": [],
   "source": [
    "# se insertan dos columnas adicionales para las visualizaciones\n",
    "df.insert(loc=2, column='anio_mes', value=df['FECHA'].map(lambda x: 100*x.year + x.month))\n",
    "df.insert(loc=5, column='hora', value=np.where(df[\"FECHA\"].dt.hour==0, 12 , df[\"FECHA\"].dt.hour ))"
   ]
  },
  {
   "cell_type": "code",
   "execution_count": 2072,
   "id": "49509c29-0a54-4991-9d93-be2bdbad4e41",
   "metadata": {},
   "outputs": [
    {
     "data": {
      "image/png": "[encoded data removed]",
      "text/plain": [
       "<Figure size 600x400 with 1 Axes>"
      ]
     },
     "metadata": {},
     "output_type": "display_data"
    }
   ],
   "source": [
    "solicitudes = df.groupby('TIPO DE SOLICITUD')['FECHA REGISTRO'].count().sort_values()\n",
    "\n",
    "plt.subplots(figsize=(6,4))\n",
    "solicitudes.plot(kind='bar', fontsize=10, color='blue')\n",
    "plt.xlabel('Tipo', fontsize=10)\n",
    "plt.ylabel('Cantidad', fontsize=10)\n",
    "plt.title('Cantidad de pqrs por Tipo', fontsize=10)\n",
    "plt.show()"
   ]
  },
  {
   "cell_type": "code",
   "execution_count": 2190,
   "id": "81fa96d5-4709-4b49-aa37-6e0cc1fec103",
   "metadata": {},
   "outputs": [
    {
     "data": {
      "text/plain": [
       "TIPO DE SOLICITUD\n",
       "SUGERENCIA        3\n",
       "FELICITACIÓN      5\n",
       "QUEJA             5\n",
       "RECLAMO          17\n",
       "PETICIÓN        494\n",
       "Name: FECHA REGISTRO, dtype: int64"
      ]
     },
     "execution_count": 2190,
     "metadata": {},
     "output_type": "execute_result"
    }
   ],
   "source": [
    "solicitudes"
   ]
  },
  {
   "cell_type": "code",
   "execution_count": 2140,
   "id": "8bff5bd7-3518-4e87-bc82-92db8a02dfa6",
   "metadata": {},
   "outputs": [
    {
     "data": {
      "image/png": "[encoded data removed]",
      "text/plain": [
       "<Figure size 600x400 with 1 Axes>"
      ]
     },
     "metadata": {},
     "output_type": "display_data"
    }
   ],
   "source": [
    "df_pqrs_2024 = df[df[\"year\"]==2024]\n",
    "ax = df_pqrs_2024.groupby('CODIGO')['anio_mes'].unique().value_counts().sort_index().plot(kind='bar',color='blue',figsize=(6,4))\n",
    "ax.set_xlabel('Mes',fontsize=10)\n",
    "ax.set_ylabel('Número de pqrs',fontsize=10)\n",
    "ax.set_title('Número de pqrs por mes (Enero - Junio)',fontsize=10)\n",
    "ax.set_xticklabels(('Ene','Feb','Mar','Abr','May','Jun'), rotation='horizontal', fontsize=10)\n",
    "plt.show()"
   ]
  },
  {
   "cell_type": "code",
   "execution_count": 2142,
   "id": "37dedf1e-b897-470b-8e3b-e1625217dcc6",
   "metadata": {},
   "outputs": [
    {
     "data": {
      "image/png": "[encoded data removed]",
      "text/plain": [
       "<Figure size 600x400 with 1 Axes>"
      ]
     },
     "metadata": {},
     "output_type": "display_data"
    }
   ],
   "source": [
    "ax = df.groupby('CODIGO')['dayofweek'].unique().value_counts().sort_index().plot(kind='bar',color='blue',figsize=(6,4))\n",
    "ax.set_xlabel('Día',fontsize=10)\n",
    "ax.set_ylabel('Número de pqrs',fontsize=10)\n",
    "ax.set_title('Número de pqrs por días',fontsize=10)\n",
    "ax.set_xticklabels(('Lun','Mar','Mie','Jue','Vie','Sab','Dom'), rotation='horizontal', fontsize=10)\n",
    "plt.show()"
   ]
  },
  {
   "cell_type": "code",
   "execution_count": 2078,
   "id": "f980bacc-1de8-4921-a91a-5d6a2ee128e6",
   "metadata": {},
   "outputs": [
    {
     "data": {
      "image/png": "[encoded data removed]",
      "text/plain": [
       "<Figure size 640x480 with 1 Axes>"
      ]
     },
     "metadata": {},
     "output_type": "display_data"
    }
   ],
   "source": [
    "plt.boxplot(df[\"hora\"])\n",
    "plt.title(\"Horas de pqrs\")\n",
    "plt.ylabel('Horas')\n",
    "plt.show()"
   ]
  },
  {
   "cell_type": "code",
   "execution_count": 2188,
   "id": "ef43696b-0b5e-4eac-b73e-4f201d04c76e",
   "metadata": {},
   "outputs": [
    {
     "name": "stdout",
     "output_type": "stream",
     "text": [
      "Total de entradas pendientes: 0\n"
     ]
    },
    {
     "data": {
      "text/html": [
       "<div>\n",
       "<style scoped>\n",
       "    .dataframe tbody tr th:only-of-type {\n",
       "        vertical-align: middle;\n",
       "    }\n",
       "\n",
       "    .dataframe tbody tr th {\n",
       "        vertical-align: top;\n",
       "    }\n",
       "\n",
       "    .dataframe thead th {\n",
       "        text-align: right;\n",
       "    }\n",
       "</style>\n",
       "<table border=\"1\" class=\"dataframe\">\n",
       "  <thead>\n",
       "    <tr style=\"text-align: right;\">\n",
       "      <th></th>\n",
       "      <th>CODIGO</th>\n",
       "      <th>TIPO DE SOLICITUD</th>\n",
       "      <th>anio_mes</th>\n",
       "      <th>ESTADO</th>\n",
       "      <th>FECHA REGISTRO</th>\n",
       "      <th>hora</th>\n",
       "      <th>HORA REGISTRO</th>\n",
       "      <th>FECHA LIMITE RESPUESTA</th>\n",
       "      <th>FECHA RESPUESTA</th>\n",
       "      <th>HORA RESPUESTA</th>\n",
       "      <th>...</th>\n",
       "      <th>TIEMPO DE RESPUESTA</th>\n",
       "      <th>EXPLICACION Y CALIDAD</th>\n",
       "      <th>OBSERVACION</th>\n",
       "      <th>FECHA</th>\n",
       "      <th>mes_anio</th>\n",
       "      <th>year</th>\n",
       "      <th>month</th>\n",
       "      <th>day</th>\n",
       "      <th>dayofweek</th>\n",
       "      <th>dayofyear</th>\n",
       "    </tr>\n",
       "  </thead>\n",
       "  <tbody>\n",
       "  </tbody>\n",
       "</table>\n",
       "<p>0 rows × 33 columns</p>\n",
       "</div>"
      ],
      "text/plain": [
       "Empty DataFrame\n",
       "Columns: [CODIGO, TIPO DE SOLICITUD, anio_mes, ESTADO , FECHA REGISTRO, hora, HORA REGISTRO, FECHA LIMITE RESPUESTA , FECHA RESPUESTA , HORA RESPUESTA , DIF. RESPUESTA-REGISTRO , DIF. LIMITE-RESPUESTA , FECHA LIMITE TRANSFERENCIA , FECHA EVALUACION , HORA EVALUACION , SEDE , TIPO DE USUARIO , TIPO IDENTIFICACION , IDENTIFICACION , CODIGO DEL SOLICITANTE, PROGRAMA DEL SOLICITANTE, ASUNTO , AREA , TIEMPO DE RESPUESTA, EXPLICACION Y CALIDAD , OBSERVACION , FECHA, mes_anio, year, month, day, dayofweek, dayofyear]\n",
       "Index: []\n",
       "\n",
       "[0 rows x 33 columns]"
      ]
     },
     "execution_count": 2188,
     "metadata": {},
     "output_type": "execute_result"
    }
   ],
   "source": [
    "df_pendientes = df[df[\"ESTADO \"] == \"Pendiente\"]\n",
    "print(\"Total de entradas pendientes:\", len(df_pendientes))\n",
    "df_pendientes.head()"
   ]
  },
  {
   "cell_type": "code",
   "execution_count": 2158,
   "id": "14ae2083-46d4-4139-85c9-dd763975a494",
   "metadata": {},
   "outputs": [
    {
     "data": {
      "text/html": [
       "<div>\n",
       "<style scoped>\n",
       "    .dataframe tbody tr th:only-of-type {\n",
       "        vertical-align: middle;\n",
       "    }\n",
       "\n",
       "    .dataframe tbody tr th {\n",
       "        vertical-align: top;\n",
       "    }\n",
       "\n",
       "    .dataframe thead th {\n",
       "        text-align: right;\n",
       "    }\n",
       "</style>\n",
       "<table border=\"1\" class=\"dataframe\">\n",
       "  <thead>\n",
       "    <tr style=\"text-align: right;\">\n",
       "      <th></th>\n",
       "      <th>FECHA REGISTRO</th>\n",
       "      <th>PROGRAMA DEL SOLICITANTE</th>\n",
       "      <th>CANTIDAD</th>\n",
       "    </tr>\n",
       "  </thead>\n",
       "  <tbody>\n",
       "    <tr>\n",
       "      <th>17</th>\n",
       "      <td>2024-04-11</td>\n",
       "      <td>INGENIERIA DE SISTEMAS</td>\n",
       "      <td>1</td>\n",
       "    </tr>\n",
       "    <tr>\n",
       "      <th>8</th>\n",
       "      <td>2024-02-20</td>\n",
       "      <td>INGENIERIA DE SISTEMAS</td>\n",
       "      <td>3</td>\n",
       "    </tr>\n",
       "    <tr>\n",
       "      <th>13</th>\n",
       "      <td>2024-03-11</td>\n",
       "      <td>INGENIERIA ELECTRÓNICA</td>\n",
       "      <td>1</td>\n",
       "    </tr>\n",
       "    <tr>\n",
       "      <th>18</th>\n",
       "      <td>2024-04-15</td>\n",
       "      <td>INGENIERIA ELECTRONICA</td>\n",
       "      <td>1</td>\n",
       "    </tr>\n",
       "    <tr>\n",
       "      <th>1</th>\n",
       "      <td>2024-01-31</td>\n",
       "      <td>INGENIERIA DE SISTEMAS</td>\n",
       "      <td>1</td>\n",
       "    </tr>\n",
       "  </tbody>\n",
       "</table>\n",
       "</div>"
      ],
      "text/plain": [
       "   FECHA REGISTRO PROGRAMA DEL SOLICITANTE  CANTIDAD\n",
       "17     2024-04-11   INGENIERIA DE SISTEMAS         1\n",
       "8      2024-02-20   INGENIERIA DE SISTEMAS         3\n",
       "13     2024-03-11   INGENIERIA ELECTRÓNICA         1\n",
       "18     2024-04-15   INGENIERIA ELECTRONICA         1\n",
       "1      2024-01-31   INGENIERIA DE SISTEMAS         1"
      ]
     },
     "execution_count": 2158,
     "metadata": {},
     "output_type": "execute_result"
    }
   ],
   "source": [
    "registros_programa= df_pqrs_2024.groupby(by=['FECHA REGISTRO', 'PROGRAMA DEL SOLICITANTE'], as_index=False)['CODIGO'].count()\n",
    "registros_programa.columns=['FECHA REGISTRO', 'PROGRAMA DEL SOLICITANTE', \"CANTIDAD\"]\n",
    "df_registros = pd.DataFrame(registros_programa)\n",
    "df_registros.sample(5)"
   ]
  },
  {
   "cell_type": "code",
   "execution_count": 2166,
   "id": "deb8caee-456b-472e-a245-a757f301837a",
   "metadata": {},
   "outputs": [
    {
     "data": {
      "text/html": [
       "<div>\n",
       "<style scoped>\n",
       "    .dataframe tbody tr th:only-of-type {\n",
       "        vertical-align: middle;\n",
       "    }\n",
       "\n",
       "    .dataframe tbody tr th {\n",
       "        vertical-align: top;\n",
       "    }\n",
       "\n",
       "    .dataframe thead th {\n",
       "        text-align: right;\n",
       "    }\n",
       "</style>\n",
       "<table border=\"1\" class=\"dataframe\">\n",
       "  <thead>\n",
       "    <tr style=\"text-align: right;\">\n",
       "      <th></th>\n",
       "      <th>FECHA REGISTRO</th>\n",
       "      <th>PROGRAMA DEL SOLICITANTE</th>\n",
       "      <th>CANTIDAD</th>\n",
       "    </tr>\n",
       "  </thead>\n",
       "  <tbody>\n",
       "    <tr>\n",
       "      <th>18</th>\n",
       "      <td>2024-04-15</td>\n",
       "      <td>INGENIERIA ELECTRONICA</td>\n",
       "      <td>1</td>\n",
       "    </tr>\n",
       "    <tr>\n",
       "      <th>0</th>\n",
       "      <td>2024-01-30</td>\n",
       "      <td>INGENIERIA DE SISTEMAS</td>\n",
       "      <td>1</td>\n",
       "    </tr>\n",
       "    <tr>\n",
       "      <th>4</th>\n",
       "      <td>2024-02-07</td>\n",
       "      <td>INGENIERIA DE SISTEMAS</td>\n",
       "      <td>2</td>\n",
       "    </tr>\n",
       "    <tr>\n",
       "      <th>19</th>\n",
       "      <td>2024-04-25</td>\n",
       "      <td>INGENIERIA DE SISTEMAS</td>\n",
       "      <td>1</td>\n",
       "    </tr>\n",
       "    <tr>\n",
       "      <th>22</th>\n",
       "      <td>2024-05-31</td>\n",
       "      <td>INGENIERIA DE SISTEMAS</td>\n",
       "      <td>2</td>\n",
       "    </tr>\n",
       "  </tbody>\n",
       "</table>\n",
       "</div>"
      ],
      "text/plain": [
       "   FECHA REGISTRO PROGRAMA DEL SOLICITANTE  CANTIDAD\n",
       "18     2024-04-15   INGENIERIA ELECTRONICA         1\n",
       "0      2024-01-30   INGENIERIA DE SISTEMAS         1\n",
       "4      2024-02-07   INGENIERIA DE SISTEMAS         2\n",
       "19     2024-04-25   INGENIERIA DE SISTEMAS         1\n",
       "22     2024-05-31   INGENIERIA DE SISTEMAS         2"
      ]
     },
     "execution_count": 2166,
     "metadata": {},
     "output_type": "execute_result"
    }
   ],
   "source": [
    "df_registros[\"PROGRAMA DEL SOLICITANTE\"] = df_registros[\"PROGRAMA DEL SOLICITANTE\"].replace('INGENIERIA ELECTRÃ“NICA', 'INGENIERIA ELECTRONICA')\n",
    "df_registros = df_registros[df_registros['PROGRAMA DEL SOLICITANTE'].isin([\"INGENIERIA DE SISTEMAS\",\"INGENIERIA ELECTRONICA\"])]\n",
    "df_registros.sample(5)"
   ]
  },
  {
   "cell_type": "code",
   "execution_count": 2168,
   "id": "7ba473c9-4c4e-48f6-a648-cd036a585564",
   "metadata": {},
   "outputs": [
    {
     "data": {
      "text/plain": [
       "PROGRAMA DEL SOLICITANTE\n",
       "INGENIERIA DE SISTEMAS    24\n",
       "INGENIERIA ELECTRONICA     3\n",
       "Name: count, dtype: int64"
      ]
     },
     "execution_count": 2168,
     "metadata": {},
     "output_type": "execute_result"
    }
   ],
   "source": [
    "df_registros['PROGRAMA DEL SOLICITANTE'].value_counts()"
   ]
  },
  {
   "cell_type": "code",
   "execution_count": 2176,
   "id": "f3b02170-f039-4345-a6db-5c375a0d985b",
   "metadata": {},
   "outputs": [
    {
     "data": {
      "text/html": [
       "<div>\n",
       "<style scoped>\n",
       "    .dataframe tbody tr th:only-of-type {\n",
       "        vertical-align: middle;\n",
       "    }\n",
       "\n",
       "    .dataframe tbody tr th {\n",
       "        vertical-align: top;\n",
       "    }\n",
       "\n",
       "    .dataframe thead th {\n",
       "        text-align: right;\n",
       "    }\n",
       "</style>\n",
       "<table border=\"1\" class=\"dataframe\">\n",
       "  <thead>\n",
       "    <tr style=\"text-align: right;\">\n",
       "      <th>PROGRAMA DEL SOLICITANTE</th>\n",
       "      <th>INGENIERIA DE SISTEMAS</th>\n",
       "      <th>INGENIERIA ELECTRONICA</th>\n",
       "    </tr>\n",
       "    <tr>\n",
       "      <th>FECHA REGISTRO</th>\n",
       "      <th></th>\n",
       "      <th></th>\n",
       "    </tr>\n",
       "  </thead>\n",
       "  <tbody>\n",
       "    <tr>\n",
       "      <th>2024-02-23</th>\n",
       "      <td>2.0</td>\n",
       "      <td>0.0</td>\n",
       "    </tr>\n",
       "    <tr>\n",
       "      <th>2024-04-10</th>\n",
       "      <td>0.0</td>\n",
       "      <td>1.0</td>\n",
       "    </tr>\n",
       "    <tr>\n",
       "      <th>2024-05-16</th>\n",
       "      <td>1.0</td>\n",
       "      <td>0.0</td>\n",
       "    </tr>\n",
       "    <tr>\n",
       "      <th>2024-04-11</th>\n",
       "      <td>1.0</td>\n",
       "      <td>0.0</td>\n",
       "    </tr>\n",
       "    <tr>\n",
       "      <th>2024-06-16</th>\n",
       "      <td>1.0</td>\n",
       "      <td>0.0</td>\n",
       "    </tr>\n",
       "  </tbody>\n",
       "</table>\n",
       "</div>"
      ],
      "text/plain": [
       "PROGRAMA DEL SOLICITANTE  INGENIERIA DE SISTEMAS  INGENIERIA ELECTRONICA\n",
       "FECHA REGISTRO                                                          \n",
       "2024-02-23                                   2.0                     0.0\n",
       "2024-04-10                                   0.0                     1.0\n",
       "2024-05-16                                   1.0                     0.0\n",
       "2024-04-11                                   1.0                     0.0\n",
       "2024-06-16                                   1.0                     0.0"
      ]
     },
     "execution_count": 2176,
     "metadata": {},
     "output_type": "execute_result"
    }
   ],
   "source": [
    "registros_programa2 = df_registros.reset_index().pivot(index='FECHA REGISTRO', columns='PROGRAMA DEL SOLICITANTE', values='CANTIDAD').fillna(0)\n",
    "registros_programa2 = registros_programa2.reset_index()\n",
    "registros_programa2 = registros_programa2.set_index('FECHA REGISTRO')\n",
    "registros_programa2.sample(5)"
   ]
  },
  {
   "cell_type": "code",
   "execution_count": 2180,
   "id": "3033d991-278b-4b42-96df-004ad5c3f52e",
   "metadata": {},
   "outputs": [
    {
     "data": {
      "image/png": "[encoded data removed]",
      "text/plain": [
       "<Figure size 700x400 with 1 Axes>"
      ]
     },
     "metadata": {},
     "output_type": "display_data"
    }
   ],
   "source": [
    "ax = pd.DataFrame(registros_programa2.values).plot(figsize=(7,4))\n",
    "\n",
    "ax.set_ylabel('Número de entradas')\n",
    "ax.set_xlabel('Fecha')\n",
    "ax.set_title('PQRS de los programa de Ingeniería por día')\n",
    "\n",
    "ax.legend(registros_programa2.columns, loc='upper left')\n",
    "plt.xticks(range(len(registros_programa2.index)), [x.strftime('%d.%m.%Y') for x in registros_programa2.index], rotation=45)\n",
    "plt.show()"
   ]
  },
  {
   "cell_type": "code",
   "execution_count": null,
   "id": "d4c24f8a-9691-4451-bc8a-b29c2ea23f45",
   "metadata": {},
   "outputs": [],
   "source": []
  }
 ],
 "metadata": {
  "kernelspec": {
   "display_name": "Python 3 (ipykernel)",
   "language": "python",
   "name": "python3"
  },
  "language_info": {
   "codemirror_mode": {
    "name": "ipython",
    "version": 3
   },
   "file_extension": ".py",
   "mimetype": "text/x-python",
   "name": "python",
   "nbconvert_exporter": "python",
   "pygments_lexer": "ipython3",
   "version": "3.12.3"
  }
 },
 "nbformat": 4,
 "nbformat_minor": 5
}
