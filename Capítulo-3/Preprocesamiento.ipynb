{
 "cells": [
  {
   "cell_type": "markdown",
   "id": "0c0ba9b9-8153-484c-aa33-da303a0e742b",
   "metadata": {},
   "source": [
    "# Capítulo 3.  Conceptos clave sobre Inteligencia Artificial"
   ]
  },
  {
   "cell_type": "markdown",
   "id": "82a5640b",
   "metadata": {},
   "source": [
    "## Preprocesamiento"
   ]
  },
  {
   "cell_type": "code",
   "execution_count": 177,
   "id": "25c7869e-e6ba-4bf2-9e8f-2229264b075c",
   "metadata": {},
   "outputs": [
    {
     "data": {
      "text/plain": [
       "(32581, 12)"
      ]
     },
     "execution_count": 177,
     "metadata": {},
     "output_type": "execute_result"
    }
   ],
   "source": [
    "import pandas as pd\n",
    "# Leer archivo CSV\n",
    "df = pd.read_csv(\"../datasets/credit_risk_dataset.csv\")\n",
    "df.shape"
   ]
  },
  {
   "cell_type": "code",
   "execution_count": 178,
   "id": "07d75cdf-22f6-4d2c-bbf5-e7b20fef0181",
   "metadata": {},
   "outputs": [
    {
     "data": {
      "text/html": [
       "<div>\n",
       "<style scoped>\n",
       "    .dataframe tbody tr th:only-of-type {\n",
       "        vertical-align: middle;\n",
       "    }\n",
       "\n",
       "    .dataframe tbody tr th {\n",
       "        vertical-align: top;\n",
       "    }\n",
       "\n",
       "    .dataframe thead th {\n",
       "        text-align: right;\n",
       "    }\n",
       "</style>\n",
       "<table border=\"1\" class=\"dataframe\">\n",
       "  <thead>\n",
       "    <tr style=\"text-align: right;\">\n",
       "      <th></th>\n",
       "      <th>person_age</th>\n",
       "      <th>person_income</th>\n",
       "      <th>person_home_ownership</th>\n",
       "      <th>person_emp_length</th>\n",
       "      <th>loan_intent</th>\n",
       "      <th>loan_grade</th>\n",
       "      <th>loan_amnt</th>\n",
       "      <th>loan_int_rate</th>\n",
       "      <th>loan_status</th>\n",
       "      <th>loan_percent_income</th>\n",
       "      <th>cb_person_default_on_file</th>\n",
       "      <th>cb_person_cred_hist_length</th>\n",
       "    </tr>\n",
       "  </thead>\n",
       "  <tbody>\n",
       "    <tr>\n",
       "      <th>0</th>\n",
       "      <td>22</td>\n",
       "      <td>59000</td>\n",
       "      <td>RENT</td>\n",
       "      <td>123.0</td>\n",
       "      <td>PERSONAL</td>\n",
       "      <td>D</td>\n",
       "      <td>35000</td>\n",
       "      <td>16.02</td>\n",
       "      <td>1</td>\n",
       "      <td>0.59</td>\n",
       "      <td>Y</td>\n",
       "      <td>3</td>\n",
       "    </tr>\n",
       "    <tr>\n",
       "      <th>1</th>\n",
       "      <td>21</td>\n",
       "      <td>9600</td>\n",
       "      <td>OWN</td>\n",
       "      <td>5.0</td>\n",
       "      <td>EDUCATION</td>\n",
       "      <td>B</td>\n",
       "      <td>1000</td>\n",
       "      <td>11.14</td>\n",
       "      <td>0</td>\n",
       "      <td>0.10</td>\n",
       "      <td>N</td>\n",
       "      <td>2</td>\n",
       "    </tr>\n",
       "    <tr>\n",
       "      <th>2</th>\n",
       "      <td>25</td>\n",
       "      <td>9600</td>\n",
       "      <td>MORTGAGE</td>\n",
       "      <td>1.0</td>\n",
       "      <td>MEDICAL</td>\n",
       "      <td>C</td>\n",
       "      <td>5500</td>\n",
       "      <td>12.87</td>\n",
       "      <td>1</td>\n",
       "      <td>0.57</td>\n",
       "      <td>N</td>\n",
       "      <td>3</td>\n",
       "    </tr>\n",
       "    <tr>\n",
       "      <th>3</th>\n",
       "      <td>23</td>\n",
       "      <td>65500</td>\n",
       "      <td>RENT</td>\n",
       "      <td>4.0</td>\n",
       "      <td>MEDICAL</td>\n",
       "      <td>C</td>\n",
       "      <td>35000</td>\n",
       "      <td>15.23</td>\n",
       "      <td>1</td>\n",
       "      <td>0.53</td>\n",
       "      <td>N</td>\n",
       "      <td>2</td>\n",
       "    </tr>\n",
       "    <tr>\n",
       "      <th>4</th>\n",
       "      <td>24</td>\n",
       "      <td>54400</td>\n",
       "      <td>RENT</td>\n",
       "      <td>8.0</td>\n",
       "      <td>MEDICAL</td>\n",
       "      <td>C</td>\n",
       "      <td>35000</td>\n",
       "      <td>14.27</td>\n",
       "      <td>1</td>\n",
       "      <td>0.55</td>\n",
       "      <td>Y</td>\n",
       "      <td>4</td>\n",
       "    </tr>\n",
       "  </tbody>\n",
       "</table>\n",
       "</div>"
      ],
      "text/plain": [
       "   person_age  person_income person_home_ownership  person_emp_length  \\\n",
       "0          22          59000                  RENT              123.0   \n",
       "1          21           9600                   OWN                5.0   \n",
       "2          25           9600              MORTGAGE                1.0   \n",
       "3          23          65500                  RENT                4.0   \n",
       "4          24          54400                  RENT                8.0   \n",
       "\n",
       "  loan_intent loan_grade  loan_amnt  loan_int_rate  loan_status  \\\n",
       "0    PERSONAL          D      35000          16.02            1   \n",
       "1   EDUCATION          B       1000          11.14            0   \n",
       "2     MEDICAL          C       5500          12.87            1   \n",
       "3     MEDICAL          C      35000          15.23            1   \n",
       "4     MEDICAL          C      35000          14.27            1   \n",
       "\n",
       "   loan_percent_income cb_person_default_on_file  cb_person_cred_hist_length  \n",
       "0                 0.59                         Y                           3  \n",
       "1                 0.10                         N                           2  \n",
       "2                 0.57                         N                           3  \n",
       "3                 0.53                         N                           2  \n",
       "4                 0.55                         Y                           4  "
      ]
     },
     "execution_count": 178,
     "metadata": {},
     "output_type": "execute_result"
    }
   ],
   "source": [
    "df.head(5)"
   ]
  },
  {
   "cell_type": "code",
   "execution_count": 179,
   "id": "0ef9a82e-55cb-4fb1-b751-13bf6e8bca8e",
   "metadata": {},
   "outputs": [
    {
     "data": {
      "text/plain": [
       "person_age                      int64\n",
       "person_income                   int64\n",
       "person_home_ownership          object\n",
       "person_emp_length             float64\n",
       "loan_intent                    object\n",
       "loan_grade                     object\n",
       "loan_amnt                       int64\n",
       "loan_int_rate                 float64\n",
       "loan_status                     int64\n",
       "loan_percent_income           float64\n",
       "cb_person_default_on_file      object\n",
       "cb_person_cred_hist_length      int64\n",
       "dtype: object"
      ]
     },
     "execution_count": 179,
     "metadata": {},
     "output_type": "execute_result"
    }
   ],
   "source": [
    "df.dtypes"
   ]
  },
  {
   "cell_type": "markdown",
   "id": "d9c3e580-7a7a-491b-bb21-9ddc27292b4e",
   "metadata": {},
   "source": [
    "### Manejo de faltantes"
   ]
  },
  {
   "cell_type": "code",
   "execution_count": 180,
   "id": "c75bbdf1-f41f-40eb-8240-6d27fbc5e4ab",
   "metadata": {},
   "outputs": [
    {
     "data": {
      "text/plain": [
       "person_age                    False\n",
       "person_income                 False\n",
       "person_home_ownership         False\n",
       "person_emp_length              True\n",
       "loan_intent                   False\n",
       "loan_grade                    False\n",
       "loan_amnt                     False\n",
       "loan_int_rate                  True\n",
       "loan_status                   False\n",
       "loan_percent_income           False\n",
       "cb_person_default_on_file     False\n",
       "cb_person_cred_hist_length    False\n",
       "dtype: bool"
      ]
     },
     "execution_count": 180,
     "metadata": {},
     "output_type": "execute_result"
    }
   ],
   "source": [
    "#Conocer las columnas con NaN\n",
    "df.isnull().any()"
   ]
  },
  {
   "cell_type": "code",
   "execution_count": 181,
   "id": "37088ec7-9987-4ca6-8bf8-b2b2f9a97f00",
   "metadata": {},
   "outputs": [
    {
     "data": {
      "text/plain": [
       "person_age                       0\n",
       "person_income                    0\n",
       "person_home_ownership            0\n",
       "person_emp_length              895\n",
       "loan_intent                      0\n",
       "loan_grade                       0\n",
       "loan_amnt                        0\n",
       "loan_int_rate                 3116\n",
       "loan_status                      0\n",
       "loan_percent_income              0\n",
       "cb_person_default_on_file        0\n",
       "cb_person_cred_hist_length       0\n",
       "dtype: int64"
      ]
     },
     "execution_count": 181,
     "metadata": {},
     "output_type": "execute_result"
    }
   ],
   "source": [
    "# Conocer el número de faltantes en cada columna\n",
    "df.isnull().sum()"
   ]
  },
  {
   "cell_type": "code",
   "execution_count": 182,
   "id": "bb393126-f5b9-470e-b509-d515f875ca9a",
   "metadata": {},
   "outputs": [
    {
     "data": {
      "text/plain": [
       "Index(['person_emp_length', 'loan_int_rate'], dtype='object')"
      ]
     },
     "execution_count": 182,
     "metadata": {},
     "output_type": "execute_result"
    }
   ],
   "source": [
    "#Conocer las columnas con faltantes\n",
    "nan_cols = df.columns[df.isnull().any()]\n",
    "nan_cols"
   ]
  },
  {
   "cell_type": "code",
   "execution_count": 183,
   "id": "57a96b58-cc10-4763-b95c-bf44142486b5",
   "metadata": {},
   "outputs": [],
   "source": [
    "#Obtener las filas con valores faltantes\n",
    "filas_nan = df[df.isna().any(axis=1)]"
   ]
  },
  {
   "cell_type": "code",
   "execution_count": 184,
   "id": "2b3011cf-8c28-43b5-a7d8-18df9e6e49bb",
   "metadata": {},
   "outputs": [
    {
     "data": {
      "text/plain": [
       "Index([   39,    50,    57,    59,    62,    70,    71,    84,    85,    87,\n",
       "       ...\n",
       "       32505, 32510, 32532, 32535, 32546, 32547, 32552, 32553, 32569, 32570],\n",
       "      dtype='int64', length=3943)"
      ]
     },
     "execution_count": 184,
     "metadata": {},
     "output_type": "execute_result"
    }
   ],
   "source": [
    "# obtener los índices de las filas con NaN\n",
    "filas_nan.index"
   ]
  },
  {
   "cell_type": "code",
   "execution_count": 185,
   "id": "c6aafb2b-3875-4bea-afeb-1f81d66d4655",
   "metadata": {},
   "outputs": [
    {
     "data": {
      "text/plain": [
       "person_age                                   23\n",
       "person_income                             71500\n",
       "person_home_ownership                      RENT\n",
       "person_emp_length                           3.0\n",
       "loan_intent                   DEBTCONSOLIDATION\n",
       "loan_grade                                    D\n",
       "loan_amnt                                 30000\n",
       "loan_int_rate                               NaN\n",
       "loan_status                                   1\n",
       "loan_percent_income                        0.42\n",
       "cb_person_default_on_file                     N\n",
       "cb_person_cred_hist_length                    4\n",
       "Name: 39, dtype: object"
      ]
     },
     "execution_count": 185,
     "metadata": {},
     "output_type": "execute_result"
    }
   ],
   "source": [
    "df.iloc[39, :]"
   ]
  },
  {
   "cell_type": "code",
   "execution_count": 186,
   "id": "6f486aa5-ace6-4083-a000-eb8eb222d244",
   "metadata": {},
   "outputs": [
    {
     "data": {
      "text/plain": [
       "3943"
      ]
     },
     "execution_count": 186,
     "metadata": {},
     "output_type": "execute_result"
    }
   ],
   "source": [
    "len(filas_nan.index)"
   ]
  },
  {
   "cell_type": "code",
   "execution_count": 187,
   "id": "9299e548-83b0-4baf-b641-51d8b7a0376d",
   "metadata": {},
   "outputs": [
    {
     "data": {
      "text/plain": [
       "(28638, 12)"
      ]
     },
     "execution_count": 187,
     "metadata": {},
     "output_type": "execute_result"
    }
   ],
   "source": [
    "# eliminar filas donde aparec al menos un NaN\n",
    "df.dropna(how=\"any\", inplace=True)\n",
    "df.shape"
   ]
  },
  {
   "cell_type": "code",
   "execution_count": 188,
   "id": "18015877-5c38-436b-9551-7699985f6e11",
   "metadata": {},
   "outputs": [],
   "source": [
    "# eliminar las filas si en la columna person_emp_length hay faltantes\n",
    "df.dropna(subset=['person_emp_length', 'loan_int_rate'], inplace = True)"
   ]
  },
  {
   "cell_type": "code",
   "execution_count": 189,
   "id": "a8b2f183-4492-4c9c-8709-268f8cfc17d5",
   "metadata": {},
   "outputs": [
    {
     "data": {
      "text/plain": [
       "(28638, 12)"
      ]
     },
     "execution_count": 189,
     "metadata": {},
     "output_type": "execute_result"
    }
   ],
   "source": [
    "df.shape"
   ]
  },
  {
   "cell_type": "code",
   "execution_count": 190,
   "id": "96db85c5-b962-4b61-9a76-089d1c2c4373",
   "metadata": {},
   "outputs": [],
   "source": [
    "import numpy as np\n",
    "df['person_emp_length'] = df['person_emp_length'].replace(np.nan, np.mean(df['person_emp_length'])) "
   ]
  },
  {
   "cell_type": "code",
   "execution_count": 191,
   "id": "265f538b-97ff-4b73-ae41-8cb93814b6ca",
   "metadata": {},
   "outputs": [
    {
     "data": {
      "text/plain": [
       "person_age                    0\n",
       "person_income                 0\n",
       "person_home_ownership         0\n",
       "person_emp_length             0\n",
       "loan_intent                   0\n",
       "loan_grade                    0\n",
       "loan_amnt                     0\n",
       "loan_int_rate                 0\n",
       "loan_status                   0\n",
       "loan_percent_income           0\n",
       "cb_person_default_on_file     0\n",
       "cb_person_cred_hist_length    0\n",
       "dtype: int64"
      ]
     },
     "execution_count": 191,
     "metadata": {},
     "output_type": "execute_result"
    }
   ],
   "source": [
    "df.isnull().sum()"
   ]
  },
  {
   "cell_type": "code",
   "execution_count": 192,
   "id": "0f7b5887-01b7-4b86-b4b3-3751101a0ed2",
   "metadata": {},
   "outputs": [],
   "source": [
    "from sklearn.impute import SimpleImputer\n",
    "\n",
    "imp = SimpleImputer(strategy='mean')\n",
    "df['loan_int_rate'] = imp.fit_transform(df[['loan_int_rate']])"
   ]
  },
  {
   "cell_type": "markdown",
   "id": "8e160717-abfd-49d5-9d39-3c0d5eaa5afd",
   "metadata": {},
   "source": [
    "### Manejo de variables categóricas"
   ]
  },
  {
   "cell_type": "code",
   "execution_count": 193,
   "id": "31949a0b-80f2-40a9-8e0c-f51d58e29c47",
   "metadata": {},
   "outputs": [
    {
     "data": {
      "text/plain": [
       "array(['Y', 'N'], dtype=object)"
      ]
     },
     "execution_count": 193,
     "metadata": {},
     "output_type": "execute_result"
    }
   ],
   "source": [
    "df['cb_person_default_on_file'].unique()"
   ]
  },
  {
   "cell_type": "code",
   "execution_count": 194,
   "id": "946666a3-3b9c-40f8-8d50-1f3cc8322261",
   "metadata": {},
   "outputs": [
    {
     "data": {
      "text/plain": [
       "0        1\n",
       "1        0\n",
       "2        0\n",
       "3        0\n",
       "4        1\n",
       "        ..\n",
       "32576    0\n",
       "32577    0\n",
       "32578    0\n",
       "32579    0\n",
       "32580    0\n",
       "Name: cb_person_default_on_file, Length: 28638, dtype: int64"
      ]
     },
     "execution_count": 194,
     "metadata": {},
     "output_type": "execute_result"
    }
   ],
   "source": [
    "df['cb_person_default_on_file']=df['cb_person_default_on_file'].map({'Y':1, 'N':0})\n",
    "df['cb_person_default_on_file']"
   ]
  },
  {
   "cell_type": "code",
   "execution_count": 195,
   "id": "45efe45b-a761-421a-8540-cb5a3fdabe1a",
   "metadata": {},
   "outputs": [
    {
     "data": {
      "text/plain": [
       "0        4\n",
       "1        1\n",
       "2        3\n",
       "3        3\n",
       "4        3\n",
       "        ..\n",
       "32576    4\n",
       "32577    4\n",
       "32578    2\n",
       "32579    4\n",
       "32580    3\n",
       "Name: loan_intent, Length: 28638, dtype: int8"
      ]
     },
     "execution_count": 195,
     "metadata": {},
     "output_type": "execute_result"
    }
   ],
   "source": [
    "df[\"loan_intent\"] = df[\"loan_intent\"].astype(\"category\")\n",
    "df[\"loan_intent\"] = df[\"loan_intent\"].cat.codes\n",
    "df[\"loan_intent\"]"
   ]
  },
  {
   "cell_type": "code",
   "execution_count": 196,
   "id": "0f3c56ee-4a51-4bc5-b4be-04245aa0ef48",
   "metadata": {},
   "outputs": [
    {
     "data": {
      "text/html": [
       "<div>\n",
       "<style scoped>\n",
       "    .dataframe tbody tr th:only-of-type {\n",
       "        vertical-align: middle;\n",
       "    }\n",
       "\n",
       "    .dataframe tbody tr th {\n",
       "        vertical-align: top;\n",
       "    }\n",
       "\n",
       "    .dataframe thead th {\n",
       "        text-align: right;\n",
       "    }\n",
       "</style>\n",
       "<table border=\"1\" class=\"dataframe\">\n",
       "  <thead>\n",
       "    <tr style=\"text-align: right;\">\n",
       "      <th></th>\n",
       "      <th>person_age</th>\n",
       "      <th>person_income</th>\n",
       "      <th>person_home_ownership</th>\n",
       "      <th>person_emp_length</th>\n",
       "      <th>loan_intent</th>\n",
       "      <th>loan_grade</th>\n",
       "      <th>loan_amnt</th>\n",
       "      <th>loan_int_rate</th>\n",
       "      <th>loan_status</th>\n",
       "      <th>loan_percent_income</th>\n",
       "      <th>cb_person_default_on_file</th>\n",
       "      <th>cb_person_cred_hist_length</th>\n",
       "    </tr>\n",
       "  </thead>\n",
       "  <tbody>\n",
       "    <tr>\n",
       "      <th>0</th>\n",
       "      <td>22</td>\n",
       "      <td>59000</td>\n",
       "      <td>RENT</td>\n",
       "      <td>123.0</td>\n",
       "      <td>4</td>\n",
       "      <td>D</td>\n",
       "      <td>35000</td>\n",
       "      <td>16.02</td>\n",
       "      <td>1</td>\n",
       "      <td>0.59</td>\n",
       "      <td>1</td>\n",
       "      <td>3</td>\n",
       "    </tr>\n",
       "    <tr>\n",
       "      <th>1</th>\n",
       "      <td>21</td>\n",
       "      <td>9600</td>\n",
       "      <td>OWN</td>\n",
       "      <td>5.0</td>\n",
       "      <td>1</td>\n",
       "      <td>B</td>\n",
       "      <td>1000</td>\n",
       "      <td>11.14</td>\n",
       "      <td>0</td>\n",
       "      <td>0.10</td>\n",
       "      <td>0</td>\n",
       "      <td>2</td>\n",
       "    </tr>\n",
       "    <tr>\n",
       "      <th>2</th>\n",
       "      <td>25</td>\n",
       "      <td>9600</td>\n",
       "      <td>MORTGAGE</td>\n",
       "      <td>1.0</td>\n",
       "      <td>3</td>\n",
       "      <td>C</td>\n",
       "      <td>5500</td>\n",
       "      <td>12.87</td>\n",
       "      <td>1</td>\n",
       "      <td>0.57</td>\n",
       "      <td>0</td>\n",
       "      <td>3</td>\n",
       "    </tr>\n",
       "    <tr>\n",
       "      <th>3</th>\n",
       "      <td>23</td>\n",
       "      <td>65500</td>\n",
       "      <td>RENT</td>\n",
       "      <td>4.0</td>\n",
       "      <td>3</td>\n",
       "      <td>C</td>\n",
       "      <td>35000</td>\n",
       "      <td>15.23</td>\n",
       "      <td>1</td>\n",
       "      <td>0.53</td>\n",
       "      <td>0</td>\n",
       "      <td>2</td>\n",
       "    </tr>\n",
       "    <tr>\n",
       "      <th>4</th>\n",
       "      <td>24</td>\n",
       "      <td>54400</td>\n",
       "      <td>RENT</td>\n",
       "      <td>8.0</td>\n",
       "      <td>3</td>\n",
       "      <td>C</td>\n",
       "      <td>35000</td>\n",
       "      <td>14.27</td>\n",
       "      <td>1</td>\n",
       "      <td>0.55</td>\n",
       "      <td>1</td>\n",
       "      <td>4</td>\n",
       "    </tr>\n",
       "  </tbody>\n",
       "</table>\n",
       "</div>"
      ],
      "text/plain": [
       "   person_age  person_income person_home_ownership  person_emp_length  \\\n",
       "0          22          59000                  RENT              123.0   \n",
       "1          21           9600                   OWN                5.0   \n",
       "2          25           9600              MORTGAGE                1.0   \n",
       "3          23          65500                  RENT                4.0   \n",
       "4          24          54400                  RENT                8.0   \n",
       "\n",
       "   loan_intent loan_grade  loan_amnt  loan_int_rate  loan_status  \\\n",
       "0            4          D      35000          16.02            1   \n",
       "1            1          B       1000          11.14            0   \n",
       "2            3          C       5500          12.87            1   \n",
       "3            3          C      35000          15.23            1   \n",
       "4            3          C      35000          14.27            1   \n",
       "\n",
       "   loan_percent_income  cb_person_default_on_file  cb_person_cred_hist_length  \n",
       "0                 0.59                          1                           3  \n",
       "1                 0.10                          0                           2  \n",
       "2                 0.57                          0                           3  \n",
       "3                 0.53                          0                           2  \n",
       "4                 0.55                          1                           4  "
      ]
     },
     "execution_count": 196,
     "metadata": {},
     "output_type": "execute_result"
    }
   ],
   "source": [
    "df.head(5)"
   ]
  },
  {
   "cell_type": "code",
   "execution_count": 197,
   "id": "7f777d90-0a21-45df-8554-3798d9c6c360",
   "metadata": {},
   "outputs": [],
   "source": [
    "from sklearn.preprocessing import OrdinalEncoder\n",
    "\n",
    "enc = OrdinalEncoder()\n",
    "df[[\"loan_grade\"]] = enc.fit_transform(df[[\"loan_grade\"]])\n",
    "df[[\"person_home_ownership\"]] = enc.fit_transform(df[[\"person_home_ownership\"]])"
   ]
  },
  {
   "cell_type": "code",
   "execution_count": 198,
   "id": "a76925cd-a321-4dac-a693-bbec13197527",
   "metadata": {},
   "outputs": [
    {
     "data": {
      "text/html": [
       "<div>\n",
       "<style scoped>\n",
       "    .dataframe tbody tr th:only-of-type {\n",
       "        vertical-align: middle;\n",
       "    }\n",
       "\n",
       "    .dataframe tbody tr th {\n",
       "        vertical-align: top;\n",
       "    }\n",
       "\n",
       "    .dataframe thead th {\n",
       "        text-align: right;\n",
       "    }\n",
       "</style>\n",
       "<table border=\"1\" class=\"dataframe\">\n",
       "  <thead>\n",
       "    <tr style=\"text-align: right;\">\n",
       "      <th></th>\n",
       "      <th>person_age</th>\n",
       "      <th>person_income</th>\n",
       "      <th>person_home_ownership</th>\n",
       "      <th>person_emp_length</th>\n",
       "      <th>loan_intent</th>\n",
       "      <th>loan_grade</th>\n",
       "      <th>loan_amnt</th>\n",
       "      <th>loan_int_rate</th>\n",
       "      <th>loan_status</th>\n",
       "      <th>loan_percent_income</th>\n",
       "      <th>cb_person_default_on_file</th>\n",
       "      <th>cb_person_cred_hist_length</th>\n",
       "    </tr>\n",
       "  </thead>\n",
       "  <tbody>\n",
       "    <tr>\n",
       "      <th>0</th>\n",
       "      <td>22</td>\n",
       "      <td>59000</td>\n",
       "      <td>3.0</td>\n",
       "      <td>123.0</td>\n",
       "      <td>4</td>\n",
       "      <td>3.0</td>\n",
       "      <td>35000</td>\n",
       "      <td>16.02</td>\n",
       "      <td>1</td>\n",
       "      <td>0.59</td>\n",
       "      <td>1</td>\n",
       "      <td>3</td>\n",
       "    </tr>\n",
       "    <tr>\n",
       "      <th>1</th>\n",
       "      <td>21</td>\n",
       "      <td>9600</td>\n",
       "      <td>2.0</td>\n",
       "      <td>5.0</td>\n",
       "      <td>1</td>\n",
       "      <td>1.0</td>\n",
       "      <td>1000</td>\n",
       "      <td>11.14</td>\n",
       "      <td>0</td>\n",
       "      <td>0.10</td>\n",
       "      <td>0</td>\n",
       "      <td>2</td>\n",
       "    </tr>\n",
       "    <tr>\n",
       "      <th>2</th>\n",
       "      <td>25</td>\n",
       "      <td>9600</td>\n",
       "      <td>0.0</td>\n",
       "      <td>1.0</td>\n",
       "      <td>3</td>\n",
       "      <td>2.0</td>\n",
       "      <td>5500</td>\n",
       "      <td>12.87</td>\n",
       "      <td>1</td>\n",
       "      <td>0.57</td>\n",
       "      <td>0</td>\n",
       "      <td>3</td>\n",
       "    </tr>\n",
       "  </tbody>\n",
       "</table>\n",
       "</div>"
      ],
      "text/plain": [
       "   person_age  person_income  person_home_ownership  person_emp_length  \\\n",
       "0          22          59000                    3.0              123.0   \n",
       "1          21           9600                    2.0                5.0   \n",
       "2          25           9600                    0.0                1.0   \n",
       "\n",
       "   loan_intent  loan_grade  loan_amnt  loan_int_rate  loan_status  \\\n",
       "0            4         3.0      35000          16.02            1   \n",
       "1            1         1.0       1000          11.14            0   \n",
       "2            3         2.0       5500          12.87            1   \n",
       "\n",
       "   loan_percent_income  cb_person_default_on_file  cb_person_cred_hist_length  \n",
       "0                 0.59                          1                           3  \n",
       "1                 0.10                          0                           2  \n",
       "2                 0.57                          0                           3  "
      ]
     },
     "execution_count": 198,
     "metadata": {},
     "output_type": "execute_result"
    }
   ],
   "source": [
    "df.head(3)"
   ]
  },
  {
   "cell_type": "code",
   "execution_count": 199,
   "id": "c60e8c57-f4e4-4b33-b4dd-5c6f1f101b80",
   "metadata": {},
   "outputs": [
    {
     "data": {
      "text/html": [
       "<div>\n",
       "<style scoped>\n",
       "    .dataframe tbody tr th:only-of-type {\n",
       "        vertical-align: middle;\n",
       "    }\n",
       "\n",
       "    .dataframe tbody tr th {\n",
       "        vertical-align: top;\n",
       "    }\n",
       "\n",
       "    .dataframe thead th {\n",
       "        text-align: right;\n",
       "    }\n",
       "</style>\n",
       "<table border=\"1\" class=\"dataframe\">\n",
       "  <thead>\n",
       "    <tr style=\"text-align: right;\">\n",
       "      <th></th>\n",
       "      <th>asistencia_clases</th>\n",
       "      <th>horas_estudio</th>\n",
       "      <th>Aprobado</th>\n",
       "    </tr>\n",
       "  </thead>\n",
       "  <tbody>\n",
       "    <tr>\n",
       "      <th>0</th>\n",
       "      <td>baja</td>\n",
       "      <td>3</td>\n",
       "      <td>Clase 1</td>\n",
       "    </tr>\n",
       "    <tr>\n",
       "      <th>1</th>\n",
       "      <td>media</td>\n",
       "      <td>8</td>\n",
       "      <td>Clase 2</td>\n",
       "    </tr>\n",
       "    <tr>\n",
       "      <th>2</th>\n",
       "      <td>alta</td>\n",
       "      <td>10</td>\n",
       "      <td>Clase 2</td>\n",
       "    </tr>\n",
       "    <tr>\n",
       "      <th>3</th>\n",
       "      <td>media</td>\n",
       "      <td>4</td>\n",
       "      <td>Clase 1</td>\n",
       "    </tr>\n",
       "    <tr>\n",
       "      <th>4</th>\n",
       "      <td>alta</td>\n",
       "      <td>6</td>\n",
       "      <td>Clase 2</td>\n",
       "    </tr>\n",
       "  </tbody>\n",
       "</table>\n",
       "</div>"
      ],
      "text/plain": [
       "  asistencia_clases  horas_estudio Aprobado\n",
       "0              baja              3  Clase 1\n",
       "1             media              8  Clase 2\n",
       "2              alta             10  Clase 2\n",
       "3             media              4  Clase 1\n",
       "4              alta              6  Clase 2"
      ]
     },
     "execution_count": 199,
     "metadata": {},
     "output_type": "execute_result"
    }
   ],
   "source": [
    "# Ejemplo con LabelEncoder\n",
    "import numpy as np\n",
    "import pandas as pd\n",
    "\n",
    "data = {'asistencia_clases': ['baja', 'media', 'alta', 'media', 'alta' ],\n",
    "         'horas_estudio': [3,  8, 10, 4, 6],\n",
    "        'Aprobado': [\"Clase 1\", \"Clase 2\", \"Clase 2\", \"Clase 1\", 'Clase 2']}\n",
    "\n",
    "df_prueba = pd.DataFrame(data, columns = ['asistencia_clases', 'horas_estudio', 'Aprobado'])\n",
    "df_prueba"
   ]
  },
  {
   "cell_type": "code",
   "execution_count": 200,
   "id": "eead8a6c-6a3e-4971-9728-42685b0755bb",
   "metadata": {},
   "outputs": [],
   "source": [
    "from sklearn.preprocessing import LabelEncoder\n",
    "\n",
    "enc = LabelEncoder()\n",
    "df_prueba[\"Aprobado\"] = enc.fit_transform(df_prueba[\"Aprobado\"])"
   ]
  },
  {
   "cell_type": "code",
   "execution_count": 201,
   "id": "ef8769f0-ab63-4aaa-b437-d0e8b11ecc27",
   "metadata": {},
   "outputs": [
    {
     "data": {
      "text/html": [
       "<div>\n",
       "<style scoped>\n",
       "    .dataframe tbody tr th:only-of-type {\n",
       "        vertical-align: middle;\n",
       "    }\n",
       "\n",
       "    .dataframe tbody tr th {\n",
       "        vertical-align: top;\n",
       "    }\n",
       "\n",
       "    .dataframe thead th {\n",
       "        text-align: right;\n",
       "    }\n",
       "</style>\n",
       "<table border=\"1\" class=\"dataframe\">\n",
       "  <thead>\n",
       "    <tr style=\"text-align: right;\">\n",
       "      <th></th>\n",
       "      <th>asistencia_clases</th>\n",
       "      <th>horas_estudio</th>\n",
       "      <th>Aprobado</th>\n",
       "    </tr>\n",
       "  </thead>\n",
       "  <tbody>\n",
       "    <tr>\n",
       "      <th>0</th>\n",
       "      <td>baja</td>\n",
       "      <td>3</td>\n",
       "      <td>0</td>\n",
       "    </tr>\n",
       "    <tr>\n",
       "      <th>1</th>\n",
       "      <td>media</td>\n",
       "      <td>8</td>\n",
       "      <td>1</td>\n",
       "    </tr>\n",
       "    <tr>\n",
       "      <th>2</th>\n",
       "      <td>alta</td>\n",
       "      <td>10</td>\n",
       "      <td>1</td>\n",
       "    </tr>\n",
       "    <tr>\n",
       "      <th>3</th>\n",
       "      <td>media</td>\n",
       "      <td>4</td>\n",
       "      <td>0</td>\n",
       "    </tr>\n",
       "    <tr>\n",
       "      <th>4</th>\n",
       "      <td>alta</td>\n",
       "      <td>6</td>\n",
       "      <td>1</td>\n",
       "    </tr>\n",
       "  </tbody>\n",
       "</table>\n",
       "</div>"
      ],
      "text/plain": [
       "  asistencia_clases  horas_estudio  Aprobado\n",
       "0              baja              3         0\n",
       "1             media              8         1\n",
       "2              alta             10         1\n",
       "3             media              4         0\n",
       "4              alta              6         1"
      ]
     },
     "execution_count": 201,
     "metadata": {},
     "output_type": "execute_result"
    }
   ],
   "source": [
    "df_prueba"
   ]
  },
  {
   "cell_type": "code",
   "execution_count": 202,
   "id": "a8245f2a-8b19-429c-ab2a-8f272d0c08ee",
   "metadata": {},
   "outputs": [
    {
     "data": {
      "text/html": [
       "<div>\n",
       "<style scoped>\n",
       "    .dataframe tbody tr th:only-of-type {\n",
       "        vertical-align: middle;\n",
       "    }\n",
       "\n",
       "    .dataframe tbody tr th {\n",
       "        vertical-align: top;\n",
       "    }\n",
       "\n",
       "    .dataframe thead th {\n",
       "        text-align: right;\n",
       "    }\n",
       "</style>\n",
       "<table border=\"1\" class=\"dataframe\">\n",
       "  <thead>\n",
       "    <tr style=\"text-align: right;\">\n",
       "      <th></th>\n",
       "      <th>person_age</th>\n",
       "      <th>person_income</th>\n",
       "      <th>person_home_ownership</th>\n",
       "      <th>person_emp_length</th>\n",
       "      <th>loan_intent</th>\n",
       "      <th>loan_grade</th>\n",
       "      <th>loan_amnt</th>\n",
       "      <th>loan_int_rate</th>\n",
       "      <th>loan_status</th>\n",
       "      <th>loan_percent_income</th>\n",
       "      <th>cb_person_default_on_file</th>\n",
       "      <th>cb_person_cred_hist_length</th>\n",
       "      <th>alta</th>\n",
       "      <th>baja</th>\n",
       "      <th>media</th>\n",
       "    </tr>\n",
       "  </thead>\n",
       "  <tbody>\n",
       "    <tr>\n",
       "      <th>0</th>\n",
       "      <td>22</td>\n",
       "      <td>59000</td>\n",
       "      <td>3.0</td>\n",
       "      <td>123.0</td>\n",
       "      <td>4</td>\n",
       "      <td>3.0</td>\n",
       "      <td>35000</td>\n",
       "      <td>16.02</td>\n",
       "      <td>1</td>\n",
       "      <td>0.59</td>\n",
       "      <td>1</td>\n",
       "      <td>3</td>\n",
       "      <td>0.0</td>\n",
       "      <td>1.0</td>\n",
       "      <td>0.0</td>\n",
       "    </tr>\n",
       "    <tr>\n",
       "      <th>1</th>\n",
       "      <td>21</td>\n",
       "      <td>9600</td>\n",
       "      <td>2.0</td>\n",
       "      <td>5.0</td>\n",
       "      <td>1</td>\n",
       "      <td>1.0</td>\n",
       "      <td>1000</td>\n",
       "      <td>11.14</td>\n",
       "      <td>0</td>\n",
       "      <td>0.10</td>\n",
       "      <td>0</td>\n",
       "      <td>2</td>\n",
       "      <td>0.0</td>\n",
       "      <td>0.0</td>\n",
       "      <td>1.0</td>\n",
       "    </tr>\n",
       "    <tr>\n",
       "      <th>2</th>\n",
       "      <td>25</td>\n",
       "      <td>9600</td>\n",
       "      <td>0.0</td>\n",
       "      <td>1.0</td>\n",
       "      <td>3</td>\n",
       "      <td>2.0</td>\n",
       "      <td>5500</td>\n",
       "      <td>12.87</td>\n",
       "      <td>1</td>\n",
       "      <td>0.57</td>\n",
       "      <td>0</td>\n",
       "      <td>3</td>\n",
       "      <td>1.0</td>\n",
       "      <td>0.0</td>\n",
       "      <td>0.0</td>\n",
       "    </tr>\n",
       "    <tr>\n",
       "      <th>3</th>\n",
       "      <td>23</td>\n",
       "      <td>65500</td>\n",
       "      <td>3.0</td>\n",
       "      <td>4.0</td>\n",
       "      <td>3</td>\n",
       "      <td>2.0</td>\n",
       "      <td>35000</td>\n",
       "      <td>15.23</td>\n",
       "      <td>1</td>\n",
       "      <td>0.53</td>\n",
       "      <td>0</td>\n",
       "      <td>2</td>\n",
       "      <td>0.0</td>\n",
       "      <td>0.0</td>\n",
       "      <td>1.0</td>\n",
       "    </tr>\n",
       "    <tr>\n",
       "      <th>4</th>\n",
       "      <td>24</td>\n",
       "      <td>54400</td>\n",
       "      <td>3.0</td>\n",
       "      <td>8.0</td>\n",
       "      <td>3</td>\n",
       "      <td>2.0</td>\n",
       "      <td>35000</td>\n",
       "      <td>14.27</td>\n",
       "      <td>1</td>\n",
       "      <td>0.55</td>\n",
       "      <td>1</td>\n",
       "      <td>4</td>\n",
       "      <td>1.0</td>\n",
       "      <td>0.0</td>\n",
       "      <td>0.0</td>\n",
       "    </tr>\n",
       "    <tr>\n",
       "      <th>...</th>\n",
       "      <td>...</td>\n",
       "      <td>...</td>\n",
       "      <td>...</td>\n",
       "      <td>...</td>\n",
       "      <td>...</td>\n",
       "      <td>...</td>\n",
       "      <td>...</td>\n",
       "      <td>...</td>\n",
       "      <td>...</td>\n",
       "      <td>...</td>\n",
       "      <td>...</td>\n",
       "      <td>...</td>\n",
       "      <td>...</td>\n",
       "      <td>...</td>\n",
       "      <td>...</td>\n",
       "    </tr>\n",
       "    <tr>\n",
       "      <th>32576</th>\n",
       "      <td>57</td>\n",
       "      <td>53000</td>\n",
       "      <td>0.0</td>\n",
       "      <td>1.0</td>\n",
       "      <td>4</td>\n",
       "      <td>2.0</td>\n",
       "      <td>5800</td>\n",
       "      <td>13.16</td>\n",
       "      <td>0</td>\n",
       "      <td>0.11</td>\n",
       "      <td>0</td>\n",
       "      <td>30</td>\n",
       "      <td>NaN</td>\n",
       "      <td>NaN</td>\n",
       "      <td>NaN</td>\n",
       "    </tr>\n",
       "    <tr>\n",
       "      <th>32577</th>\n",
       "      <td>54</td>\n",
       "      <td>120000</td>\n",
       "      <td>0.0</td>\n",
       "      <td>4.0</td>\n",
       "      <td>4</td>\n",
       "      <td>0.0</td>\n",
       "      <td>17625</td>\n",
       "      <td>7.49</td>\n",
       "      <td>0</td>\n",
       "      <td>0.15</td>\n",
       "      <td>0</td>\n",
       "      <td>19</td>\n",
       "      <td>NaN</td>\n",
       "      <td>NaN</td>\n",
       "      <td>NaN</td>\n",
       "    </tr>\n",
       "    <tr>\n",
       "      <th>32578</th>\n",
       "      <td>65</td>\n",
       "      <td>76000</td>\n",
       "      <td>3.0</td>\n",
       "      <td>3.0</td>\n",
       "      <td>2</td>\n",
       "      <td>1.0</td>\n",
       "      <td>35000</td>\n",
       "      <td>10.99</td>\n",
       "      <td>1</td>\n",
       "      <td>0.46</td>\n",
       "      <td>0</td>\n",
       "      <td>28</td>\n",
       "      <td>NaN</td>\n",
       "      <td>NaN</td>\n",
       "      <td>NaN</td>\n",
       "    </tr>\n",
       "    <tr>\n",
       "      <th>32579</th>\n",
       "      <td>56</td>\n",
       "      <td>150000</td>\n",
       "      <td>0.0</td>\n",
       "      <td>5.0</td>\n",
       "      <td>4</td>\n",
       "      <td>1.0</td>\n",
       "      <td>15000</td>\n",
       "      <td>11.48</td>\n",
       "      <td>0</td>\n",
       "      <td>0.10</td>\n",
       "      <td>0</td>\n",
       "      <td>26</td>\n",
       "      <td>NaN</td>\n",
       "      <td>NaN</td>\n",
       "      <td>NaN</td>\n",
       "    </tr>\n",
       "    <tr>\n",
       "      <th>32580</th>\n",
       "      <td>66</td>\n",
       "      <td>42000</td>\n",
       "      <td>3.0</td>\n",
       "      <td>2.0</td>\n",
       "      <td>3</td>\n",
       "      <td>1.0</td>\n",
       "      <td>6475</td>\n",
       "      <td>9.99</td>\n",
       "      <td>0</td>\n",
       "      <td>0.15</td>\n",
       "      <td>0</td>\n",
       "      <td>30</td>\n",
       "      <td>NaN</td>\n",
       "      <td>NaN</td>\n",
       "      <td>NaN</td>\n",
       "    </tr>\n",
       "  </tbody>\n",
       "</table>\n",
       "<p>28638 rows × 15 columns</p>\n",
       "</div>"
      ],
      "text/plain": [
       "       person_age  person_income  person_home_ownership  person_emp_length  \\\n",
       "0              22          59000                    3.0              123.0   \n",
       "1              21           9600                    2.0                5.0   \n",
       "2              25           9600                    0.0                1.0   \n",
       "3              23          65500                    3.0                4.0   \n",
       "4              24          54400                    3.0                8.0   \n",
       "...           ...            ...                    ...                ...   \n",
       "32576          57          53000                    0.0                1.0   \n",
       "32577          54         120000                    0.0                4.0   \n",
       "32578          65          76000                    3.0                3.0   \n",
       "32579          56         150000                    0.0                5.0   \n",
       "32580          66          42000                    3.0                2.0   \n",
       "\n",
       "       loan_intent  loan_grade  loan_amnt  loan_int_rate  loan_status  \\\n",
       "0                4         3.0      35000          16.02            1   \n",
       "1                1         1.0       1000          11.14            0   \n",
       "2                3         2.0       5500          12.87            1   \n",
       "3                3         2.0      35000          15.23            1   \n",
       "4                3         2.0      35000          14.27            1   \n",
       "...            ...         ...        ...            ...          ...   \n",
       "32576            4         2.0       5800          13.16            0   \n",
       "32577            4         0.0      17625           7.49            0   \n",
       "32578            2         1.0      35000          10.99            1   \n",
       "32579            4         1.0      15000          11.48            0   \n",
       "32580            3         1.0       6475           9.99            0   \n",
       "\n",
       "       loan_percent_income  cb_person_default_on_file  \\\n",
       "0                     0.59                          1   \n",
       "1                     0.10                          0   \n",
       "2                     0.57                          0   \n",
       "3                     0.53                          0   \n",
       "4                     0.55                          1   \n",
       "...                    ...                        ...   \n",
       "32576                 0.11                          0   \n",
       "32577                 0.15                          0   \n",
       "32578                 0.46                          0   \n",
       "32579                 0.10                          0   \n",
       "32580                 0.15                          0   \n",
       "\n",
       "       cb_person_cred_hist_length  alta  baja  media  \n",
       "0                               3   0.0   1.0    0.0  \n",
       "1                               2   0.0   0.0    1.0  \n",
       "2                               3   1.0   0.0    0.0  \n",
       "3                               2   0.0   0.0    1.0  \n",
       "4                               4   1.0   0.0    0.0  \n",
       "...                           ...   ...   ...    ...  \n",
       "32576                          30   NaN   NaN    NaN  \n",
       "32577                          19   NaN   NaN    NaN  \n",
       "32578                          28   NaN   NaN    NaN  \n",
       "32579                          26   NaN   NaN    NaN  \n",
       "32580                          30   NaN   NaN    NaN  \n",
       "\n",
       "[28638 rows x 15 columns]"
      ]
     },
     "execution_count": 202,
     "metadata": {},
     "output_type": "execute_result"
    }
   ],
   "source": [
    "# OnehotEncoding\n",
    "from sklearn.preprocessing import OneHotEncoder\n",
    "\n",
    "enc = OneHotEncoder(handle_unknown='ignore')\n",
    "enc_df = pd.DataFrame(enc.fit_transform(df_prueba[['asistencia_clases']]).toarray(), columns=enc.categories_[0])\n",
    "df2 = df.join(enc_df)\n",
    "df2"
   ]
  },
  {
   "cell_type": "code",
   "execution_count": 203,
   "id": "44560dfd-33b8-43c8-93ae-9943f0aafe61",
   "metadata": {},
   "outputs": [
    {
     "data": {
      "text/html": [
       "<div>\n",
       "<style scoped>\n",
       "    .dataframe tbody tr th:only-of-type {\n",
       "        vertical-align: middle;\n",
       "    }\n",
       "\n",
       "    .dataframe tbody tr th {\n",
       "        vertical-align: top;\n",
       "    }\n",
       "\n",
       "    .dataframe thead th {\n",
       "        text-align: right;\n",
       "    }\n",
       "</style>\n",
       "<table border=\"1\" class=\"dataframe\">\n",
       "  <thead>\n",
       "    <tr style=\"text-align: right;\">\n",
       "      <th></th>\n",
       "      <th>horas_estudio</th>\n",
       "      <th>Aprobado</th>\n",
       "      <th>asistencia_alta</th>\n",
       "      <th>asistencia_baja</th>\n",
       "      <th>asistencia_media</th>\n",
       "    </tr>\n",
       "  </thead>\n",
       "  <tbody>\n",
       "    <tr>\n",
       "      <th>0</th>\n",
       "      <td>3</td>\n",
       "      <td>0</td>\n",
       "      <td>False</td>\n",
       "      <td>True</td>\n",
       "      <td>False</td>\n",
       "    </tr>\n",
       "    <tr>\n",
       "      <th>1</th>\n",
       "      <td>8</td>\n",
       "      <td>1</td>\n",
       "      <td>False</td>\n",
       "      <td>False</td>\n",
       "      <td>True</td>\n",
       "    </tr>\n",
       "    <tr>\n",
       "      <th>2</th>\n",
       "      <td>10</td>\n",
       "      <td>1</td>\n",
       "      <td>True</td>\n",
       "      <td>False</td>\n",
       "      <td>False</td>\n",
       "    </tr>\n",
       "    <tr>\n",
       "      <th>3</th>\n",
       "      <td>4</td>\n",
       "      <td>0</td>\n",
       "      <td>False</td>\n",
       "      <td>False</td>\n",
       "      <td>True</td>\n",
       "    </tr>\n",
       "    <tr>\n",
       "      <th>4</th>\n",
       "      <td>6</td>\n",
       "      <td>1</td>\n",
       "      <td>True</td>\n",
       "      <td>False</td>\n",
       "      <td>False</td>\n",
       "    </tr>\n",
       "  </tbody>\n",
       "</table>\n",
       "</div>"
      ],
      "text/plain": [
       "   horas_estudio  Aprobado  asistencia_alta  asistencia_baja  asistencia_media\n",
       "0              3         0            False             True             False\n",
       "1              8         1            False            False              True\n",
       "2             10         1             True            False             False\n",
       "3              4         0            False            False              True\n",
       "4              6         1             True            False             False"
      ]
     },
     "execution_count": 203,
     "metadata": {},
     "output_type": "execute_result"
    }
   ],
   "source": [
    "df_prueba = pd.get_dummies(df_prueba, prefix=\"asistencia\", columns=['asistencia_clases'])\n",
    "df_prueba"
   ]
  },
  {
   "cell_type": "markdown",
   "id": "3aa6944d-85fa-468b-911e-4dfd24766584",
   "metadata": {},
   "source": [
    "### Escalamiento de caracteristicas"
   ]
  },
  {
   "cell_type": "code",
   "execution_count": 204,
   "id": "66e3bfff-6b0f-44b4-9c59-8c93a19f71c0",
   "metadata": {},
   "outputs": [
    {
     "data": {
      "text/plain": [
       "array([[0.        ],\n",
       "       [0.71428571],\n",
       "       [1.        ],\n",
       "       [0.14285714],\n",
       "       [0.42857143]])"
      ]
     },
     "execution_count": 204,
     "metadata": {},
     "output_type": "execute_result"
    }
   ],
   "source": [
    "# Normalización\n",
    "from sklearn.preprocessing import MinMaxScaler\n",
    "\n",
    "min_max_scaler = MinMaxScaler()\n",
    "horas_esc = min_max_scaler.fit_transform(df_prueba[[\"horas_estudio\"]])\n",
    "horas_esc"
   ]
  },
  {
   "cell_type": "code",
   "execution_count": 205,
   "id": "c4809801-4389-486b-b3e4-c538ea3d6ef8",
   "metadata": {},
   "outputs": [
    {
     "data": {
      "text/plain": [
       "array([[-1.2493901 ],\n",
       "       [ 0.70278193],\n",
       "       [ 1.48365074],\n",
       "       [-0.85895569],\n",
       "       [-0.07808688]])"
      ]
     },
     "execution_count": 205,
     "metadata": {},
     "output_type": "execute_result"
    }
   ],
   "source": [
    "# Estandarización\n",
    "from sklearn.preprocessing import StandardScaler\n",
    "\n",
    "std_scaler = StandardScaler()\n",
    "horas_esc = std_scaler.fit_transform(df_prueba[[\"horas_estudio\"]])\n",
    "horas_esc"
   ]
  },
  {
   "cell_type": "code",
   "execution_count": 206,
   "id": "2e38715b-3581-411e-b51c-24e144c79951",
   "metadata": {},
   "outputs": [
    {
     "data": {
      "text/plain": [
       "array([[ 3.],\n",
       "       [ 8.],\n",
       "       [10.],\n",
       "       [ 4.],\n",
       "       [ 6.]])"
      ]
     },
     "execution_count": 206,
     "metadata": {},
     "output_type": "execute_result"
    }
   ],
   "source": [
    "std_scaler.inverse_transform(horas_esc)"
   ]
  },
  {
   "cell_type": "markdown",
   "id": "63384ae2-7085-402c-abad-13f82020678a",
   "metadata": {},
   "source": [
    "### Separación de datos en conjuntos de entrenamiento y prueba"
   ]
  },
  {
   "cell_type": "code",
   "execution_count": 207,
   "id": "6a7704e0-1284-4318-ac68-7ae2c5d25b6b",
   "metadata": {},
   "outputs": [
    {
     "data": {
      "text/plain": [
       "((21478, 11), (7160, 11), (21478,), (7160,))"
      ]
     },
     "execution_count": 207,
     "metadata": {},
     "output_type": "execute_result"
    }
   ],
   "source": [
    "from sklearn.model_selection import train_test_split\n",
    "\n",
    "X = df.drop(columns=df.columns[8])\n",
    "y = df.iloc[:, 8] \n",
    "X_train, X_test, y_train, y_test = train_test_split(X, y, test_size=0.25, random_state=1000)\n",
    "X_train.shape, X_test.shape, y_train.shape, y_test.shape"
   ]
  },
  {
   "cell_type": "markdown",
   "id": "8ed287f3-6543-45e0-aece-b4a264f3493e",
   "metadata": {},
   "source": [
    "### Reducción de la dimensionalidad con PCA"
   ]
  },
  {
   "cell_type": "code",
   "execution_count": 208,
   "id": "8acf6ae0-e383-4c5e-80cc-95a02fad891c",
   "metadata": {},
   "outputs": [
    {
     "name": "stdout",
     "output_type": "stream",
     "text": [
      "[-0.89784961 -0.41904959  0.92425684  0.29025297 -0.30583996  0.66617171\n",
      " -0.57787975  0.67990133 -0.18070767  2.15790894 -0.93742781]\n"
     ]
    }
   ],
   "source": [
    "#1 Estandarizar\n",
    "est_esc = StandardScaler()\n",
    "est_esc.fit(X_train)\n",
    "X_ent_est = est_esc.transform(X_train)\n",
    "X_pru_est = est_esc.transform(X_test)\n",
    "print(X_ent_est[0])"
   ]
  },
  {
   "cell_type": "code",
   "execution_count": 209,
   "id": "bd1084df-f52f-4d72-9787-4efd436bac55",
   "metadata": {},
   "outputs": [],
   "source": [
    "# aplicamos el algoritmo PCA\n",
    "from sklearn.decomposition import PCA\n",
    "pca = PCA(n_components=5)\n",
    "X_ent_pca = pca.fit_transform(X_ent_est)"
   ]
  },
  {
   "cell_type": "code",
   "execution_count": 210,
   "id": "c8ad889b-7343-46c1-80fd-94e3759165c3",
   "metadata": {},
   "outputs": [
    {
     "data": {
      "text/plain": [
       "array([[ 0.0120743 , -0.02628397,  0.13687672, -0.06301919, -0.00525065,\n",
       "         0.59407664,  0.19617766,  0.58804613,  0.21166019,  0.44058199,\n",
       "         0.01748262],\n",
       "       [ 0.62499397,  0.30356451, -0.17779221,  0.29065814,  0.05092389,\n",
       "         0.01238392,  0.15467649,  0.00767728, -0.06205703,  0.00824046,\n",
       "         0.60867854],\n",
       "       [-0.10744376,  0.05293964, -0.13204219,  0.11788976, -0.00185332,\n",
       "        -0.12975933,  0.68496189, -0.13087272,  0.63380366, -0.1913731 ,\n",
       "        -0.11334892],\n",
       "       [-0.28400154,  0.48181918, -0.55272557,  0.33236323, -0.05993727,\n",
       "         0.10485828,  0.08995825,  0.08971877, -0.34162251,  0.13095303,\n",
       "        -0.32655507],\n",
       "       [-0.05536556, -0.03338238, -0.00622946,  0.10020974,  0.99089966,\n",
       "         0.01152505, -0.01682303,  0.01150442, -0.00769752,  0.0101235 ,\n",
       "        -0.05610182]])"
      ]
     },
     "execution_count": 210,
     "metadata": {},
     "output_type": "execute_result"
    }
   ],
   "source": [
    "pca.components_"
   ]
  },
  {
   "cell_type": "code",
   "execution_count": 211,
   "id": "568b2355-621a-4121-9c52-00bc8a07ee57",
   "metadata": {
    "scrolled": true
   },
   "outputs": [
    {
     "data": {
      "text/html": [
       "<div>\n",
       "<style scoped>\n",
       "    .dataframe tbody tr th:only-of-type {\n",
       "        vertical-align: middle;\n",
       "    }\n",
       "\n",
       "    .dataframe tbody tr th {\n",
       "        vertical-align: top;\n",
       "    }\n",
       "\n",
       "    .dataframe thead th {\n",
       "        text-align: right;\n",
       "    }\n",
       "</style>\n",
       "<table border=\"1\" class=\"dataframe\">\n",
       "  <thead>\n",
       "    <tr style=\"text-align: right;\">\n",
       "      <th></th>\n",
       "      <th>PC1</th>\n",
       "      <th>PC2</th>\n",
       "      <th>PC3</th>\n",
       "      <th>PC4</th>\n",
       "      <th>PC5</th>\n",
       "    </tr>\n",
       "  </thead>\n",
       "  <tbody>\n",
       "    <tr>\n",
       "      <th>0</th>\n",
       "      <td>0.012074</td>\n",
       "      <td>0.624994</td>\n",
       "      <td>-0.107444</td>\n",
       "      <td>-0.284002</td>\n",
       "      <td>-0.055366</td>\n",
       "    </tr>\n",
       "    <tr>\n",
       "      <th>1</th>\n",
       "      <td>-0.026284</td>\n",
       "      <td>0.303565</td>\n",
       "      <td>0.052940</td>\n",
       "      <td>0.481819</td>\n",
       "      <td>-0.033382</td>\n",
       "    </tr>\n",
       "    <tr>\n",
       "      <th>2</th>\n",
       "      <td>0.136877</td>\n",
       "      <td>-0.177792</td>\n",
       "      <td>-0.132042</td>\n",
       "      <td>-0.552726</td>\n",
       "      <td>-0.006229</td>\n",
       "    </tr>\n",
       "    <tr>\n",
       "      <th>3</th>\n",
       "      <td>-0.063019</td>\n",
       "      <td>0.290658</td>\n",
       "      <td>0.117890</td>\n",
       "      <td>0.332363</td>\n",
       "      <td>0.100210</td>\n",
       "    </tr>\n",
       "    <tr>\n",
       "      <th>4</th>\n",
       "      <td>-0.005251</td>\n",
       "      <td>0.050924</td>\n",
       "      <td>-0.001853</td>\n",
       "      <td>-0.059937</td>\n",
       "      <td>0.990900</td>\n",
       "    </tr>\n",
       "    <tr>\n",
       "      <th>5</th>\n",
       "      <td>0.594077</td>\n",
       "      <td>0.012384</td>\n",
       "      <td>-0.129759</td>\n",
       "      <td>0.104858</td>\n",
       "      <td>0.011525</td>\n",
       "    </tr>\n",
       "    <tr>\n",
       "      <th>6</th>\n",
       "      <td>0.196178</td>\n",
       "      <td>0.154676</td>\n",
       "      <td>0.684962</td>\n",
       "      <td>0.089958</td>\n",
       "      <td>-0.016823</td>\n",
       "    </tr>\n",
       "    <tr>\n",
       "      <th>7</th>\n",
       "      <td>0.588046</td>\n",
       "      <td>0.007677</td>\n",
       "      <td>-0.130873</td>\n",
       "      <td>0.089719</td>\n",
       "      <td>0.011504</td>\n",
       "    </tr>\n",
       "    <tr>\n",
       "      <th>8</th>\n",
       "      <td>0.211660</td>\n",
       "      <td>-0.062057</td>\n",
       "      <td>0.633804</td>\n",
       "      <td>-0.341623</td>\n",
       "      <td>-0.007698</td>\n",
       "    </tr>\n",
       "    <tr>\n",
       "      <th>9</th>\n",
       "      <td>0.440582</td>\n",
       "      <td>0.008240</td>\n",
       "      <td>-0.191373</td>\n",
       "      <td>0.130953</td>\n",
       "      <td>0.010123</td>\n",
       "    </tr>\n",
       "    <tr>\n",
       "      <th>10</th>\n",
       "      <td>0.017483</td>\n",
       "      <td>0.608679</td>\n",
       "      <td>-0.113349</td>\n",
       "      <td>-0.326555</td>\n",
       "      <td>-0.056102</td>\n",
       "    </tr>\n",
       "  </tbody>\n",
       "</table>\n",
       "</div>"
      ],
      "text/plain": [
       "         PC1       PC2       PC3       PC4       PC5\n",
       "0   0.012074  0.624994 -0.107444 -0.284002 -0.055366\n",
       "1  -0.026284  0.303565  0.052940  0.481819 -0.033382\n",
       "2   0.136877 -0.177792 -0.132042 -0.552726 -0.006229\n",
       "3  -0.063019  0.290658  0.117890  0.332363  0.100210\n",
       "4  -0.005251  0.050924 -0.001853 -0.059937  0.990900\n",
       "5   0.594077  0.012384 -0.129759  0.104858  0.011525\n",
       "6   0.196178  0.154676  0.684962  0.089958 -0.016823\n",
       "7   0.588046  0.007677 -0.130873  0.089719  0.011504\n",
       "8   0.211660 -0.062057  0.633804 -0.341623 -0.007698\n",
       "9   0.440582  0.008240 -0.191373  0.130953  0.010123\n",
       "10  0.017483  0.608679 -0.113349 -0.326555 -0.056102"
      ]
     },
     "execution_count": 211,
     "metadata": {},
     "output_type": "execute_result"
    }
   ],
   "source": [
    "pca_df = pd.DataFrame(pca.components_.T,  columns=[\"PC1\", \"PC2\", \"PC3\", \"PC4\", \"PC5\"])\n",
    "pca_df"
   ]
  },
  {
   "cell_type": "code",
   "execution_count": 212,
   "id": "0fb92470-8409-40f8-b0cb-5b56cdca6af8",
   "metadata": {},
   "outputs": [
    {
     "data": {
      "text/plain": [
       "array([0.22258795, 0.18488605, 0.13768663, 0.12072885, 0.09070328])"
      ]
     },
     "execution_count": 212,
     "metadata": {},
     "output_type": "execute_result"
    }
   ],
   "source": [
    "#El primer componente representa el 22 % de la varianza por sí solo, seguido de un 18 % adicional para el segundo componente\n",
    "pca.explained_variance_ratio_"
   ]
  },
  {
   "cell_type": "code",
   "execution_count": 221,
   "id": "a95502f7-4703-4427-aa31-c927a6063535",
   "metadata": {},
   "outputs": [
    {
     "data": {
      "text/plain": [
       "<BarContainer object of 5 artists>"
      ]
     },
     "execution_count": 221,
     "metadata": {},
     "output_type": "execute_result"
    },
    {
     "data": {
      "image/png": "[encoded data removed]",
      "text/plain": [
       "<Figure size 600x450 with 1 Axes>"
      ]
     },
     "metadata": {},
     "output_type": "display_data"
    }
   ],
   "source": [
    "plt.rcParams['figure.dpi'] = 150  # Ajusta según la calidad que necesites\n",
    "import matplotlib.pyplot as plt\n",
    "plt.figure(figsize=(4,3))\n",
    "plt.bar(range(1,len(pca.explained_variance_ratio_)+1), pca.explained_variance_ratio_)"
   ]
  },
  {
   "cell_type": "code",
   "execution_count": 214,
   "id": "b4ccbd4d-7db6-45b7-a083-b071e5eaf17f",
   "metadata": {},
   "outputs": [
    {
     "data": {
      "text/plain": [
       "array([0.22258795, 0.407474  , 0.54516063, 0.66588947, 0.75659275])"
      ]
     },
     "execution_count": 214,
     "metadata": {},
     "output_type": "execute_result"
    }
   ],
   "source": [
    "var_cumu = np.cumsum(pca.explained_variance_ratio_)\n",
    "var_cumu"
   ]
  },
  {
   "cell_type": "code",
   "execution_count": 215,
   "id": "6eff2d1a-da20-4b4c-bd7f-73705f65f656",
   "metadata": {},
   "outputs": [
    {
     "data": {
      "text/plain": [
       "(7160, 5)"
      ]
     },
     "execution_count": 215,
     "metadata": {},
     "output_type": "execute_result"
    }
   ],
   "source": [
    "X_pru_pca = pca.transform(X_pru_est)\n",
    "X_pru_pca.shape"
   ]
  },
  {
   "cell_type": "code",
   "execution_count": 216,
   "id": "93399637-5c05-4402-ba11-ffe49a8dbab1",
   "metadata": {},
   "outputs": [
    {
     "data": {
      "text/plain": [
       "(21478, 5)"
      ]
     },
     "execution_count": 216,
     "metadata": {},
     "output_type": "execute_result"
    }
   ],
   "source": [
    "X_ent_pca.shape"
   ]
  },
  {
   "cell_type": "code",
   "execution_count": 217,
   "id": "c5ea4c8a-b2b3-4bd9-9377-4352d6a54344",
   "metadata": {},
   "outputs": [
    {
     "data": {
      "text/plain": [
       "array([-0.94597363, -0.98901759, -1.15150236,  0.9231869 ,  0.40826917])"
      ]
     },
     "execution_count": 217,
     "metadata": {},
     "output_type": "execute_result"
    }
   ],
   "source": [
    "X_pru_pca[0]"
   ]
  },
  {
   "cell_type": "code",
   "execution_count": null,
   "id": "bb117b52-0cf3-48c0-a4a0-ce78c1108a21",
   "metadata": {},
   "outputs": [],
   "source": []
  }
 ],
 "metadata": {
  "kernelspec": {
   "display_name": "Python 3 (ipykernel)",
   "language": "python",
   "name": "python3"
  },
  "language_info": {
   "codemirror_mode": {
    "name": "ipython",
    "version": 3
   },
   "file_extension": ".py",
   "mimetype": "text/x-python",
   "name": "python",
   "nbconvert_exporter": "python",
   "pygments_lexer": "ipython3",
   "version": "3.12.3"
  }
 },
 "nbformat": 4,
 "nbformat_minor": 5
}
